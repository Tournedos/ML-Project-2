{
 "cells": [
  {
   "cell_type": "markdown",
   "metadata": {},
   "source": [
    "## Step 0 : Imports\n",
    "> Do all the necessary imports"
   ]
  },
  {
   "cell_type": "code",
   "execution_count": 1,
   "metadata": {},
   "outputs": [],
   "source": [
    "import os\n",
    "import numpy as np\n",
    "from helpers import*\n",
    "from models import *   \n",
    "from nan_imputation import impute_nan\n",
    "import load_data\n",
    "import isdead"
   ]
  },
  {
   "cell_type": "code",
   "execution_count": 2,
   "metadata": {},
   "outputs": [
    {
     "data": {
      "text/plain": [
       "'c:\\\\Users\\\\msgar\\\\OneDrive\\\\Documents\\\\EPFL\\\\Cours\\\\MA1\\\\Machine_Learning\\\\ML_project2\\\\ML-Project-2'"
      ]
     },
     "execution_count": 2,
     "metadata": {},
     "output_type": "execute_result"
    }
   ],
   "source": [
    "repo_root = find_repo_root()\n",
    "repo_root"
   ]
  },
  {
   "cell_type": "code",
   "execution_count": 4,
   "metadata": {},
   "outputs": [
    {
     "name": "stdout",
     "output_type": "stream",
     "text": [
      "2: File path is valid. Loading data...\n",
      "2: Data loaded successfully.\n"
     ]
    }
   ],
   "source": [
    "# Load the data of 1 worm\n",
    "data_path = os.path.join(repo_root, 'Data/Lifespan/companyDrug/speeds_and_coordinates_20241016_1_updated.csv')\n",
    "Drug_worm_2 = load_data.load_one_data(data_path,2)"
   ]
  },
  {
   "cell_type": "code",
   "execution_count": 5,
   "metadata": {},
   "outputs": [
    {
     "data": {
      "text/plain": [
       "<module 'isdead' from 'c:\\\\Users\\\\msgar\\\\OneDrive\\\\Documents\\\\EPFL\\\\Cours\\\\MA1\\\\Machine_Learning\\\\ML_project2\\\\ML-Project-2\\\\isdead.py'>"
      ]
     },
     "execution_count": 5,
     "metadata": {},
     "output_type": "execute_result"
    }
   ],
   "source": [
    "# Reload isdead.py\n",
    "import importlib\n",
    "importlib.reload(isdead)"
   ]
  },
  {
   "cell_type": "code",
   "execution_count": 6,
   "metadata": {},
   "outputs": [
    {
     "name": "stdout",
     "output_type": "stream",
     "text": [
      "\n",
      "Detailed Output:\n",
      "- The worm most probably died at the Absolute Frame 53098.\n",
      "- This correspond to the frame 9902 of the 4'th segment(starts at segment).\n",
      "- The estimated time of death is 348.50 hours since the start of recording.\n",
      "\n"
     ]
    },
    {
     "data": {
      "text/plain": [
       "(9902, 53098, 348.49888888888887, 4)"
      ]
     },
     "execution_count": 6,
     "metadata": {},
     "output_type": "execute_result"
    }
   ],
   "source": [
    "# Check if a worm is dead\n",
    "isdead.estimate_dying_time(Drug_worm_2,movement_threshold=2.0)\n"
   ]
  }
 ],
 "metadata": {
  "kernelspec": {
   "display_name": "env_ML",
   "language": "python",
   "name": "python3"
  },
  "language_info": {
   "codemirror_mode": {
    "name": "ipython",
    "version": 3
   },
   "file_extension": ".py",
   "mimetype": "text/x-python",
   "name": "python",
   "nbconvert_exporter": "python",
   "pygments_lexer": "ipython3",
   "version": "3.9.20"
  }
 },
 "nbformat": 4,
 "nbformat_minor": 2
}
