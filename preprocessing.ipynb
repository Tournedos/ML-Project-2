{
 "cells": [
  {
   "cell_type": "code",
   "execution_count": 2,
   "metadata": {},
   "outputs": [],
   "source": [
    "import os\n",
    "import numpy as np\n",
    "from helpers import *\n",
    "from models import *   \n",
    "from nan_imputation import impute_nan"
   ]
  },
  {
   "cell_type": "code",
   "execution_count": 3,
   "metadata": {},
   "outputs": [
    {
     "data": {
      "text/plain": [
       "'c:\\\\Users\\\\msgar\\\\OneDrive\\\\Documents\\\\EPFL\\\\Cours\\\\MA1\\\\Machine_Learning\\\\ML_project2\\\\ML-Project-2'"
      ]
     },
     "execution_count": 3,
     "metadata": {},
     "output_type": "execute_result"
    }
   ],
   "source": [
    "repo_root = find_repo_root()\n",
    "repo_root"
   ]
  },
  {
   "cell_type": "code",
   "execution_count": 4,
   "metadata": {},
   "outputs": [
    {
     "name": "stdout",
     "output_type": "stream",
     "text": [
      "Loading worm data...\n",
      "Dataset split complete: 1364993 training samples, 341249 testing samples.\n",
      "Data loaded successfully!\n"
     ]
    }
   ],
   "source": [
    "# load data\n",
    "# Define the path to the Lifespan folder\n",
    "data_path = os.path.join(repo_root, 'Data/Lifespan')\n",
    "#data_path = \"/Users/louistschanz/Documents/EPFL-Cours/MA1/ML/Project-2/ML-Project-2/Data/Lifespan\"\n",
    "#repo\n",
    "# Step 1 : Load the data\n",
    "print(\"Loading worm data...\")\n",
    "X_train, X_test, y_train, y_test = load_whole_data(data_path=data_path, test_size=0.2, random_state=42)\n",
    "print(\"Data loaded successfully!\")"
   ]
  },
  {
   "cell_type": "code",
   "execution_count": 5,
   "metadata": {},
   "outputs": [
    {
     "ename": "NameError",
     "evalue": "name 'split_worms' is not defined",
     "output_type": "error",
     "traceback": [
      "\u001b[1;31m---------------------------------------------------------------------------\u001b[0m",
      "\u001b[1;31mNameError\u001b[0m                                 Traceback (most recent call last)",
      "Cell \u001b[1;32mIn[5], line 4\u001b[0m\n\u001b[0;32m      1\u001b[0m data_path \u001b[38;5;241m=\u001b[39m os\u001b[38;5;241m.\u001b[39mpath\u001b[38;5;241m.\u001b[39mjoin(os\u001b[38;5;241m.\u001b[39mgetcwd(), \u001b[38;5;124m\"\u001b[39m\u001b[38;5;124mData\u001b[39m\u001b[38;5;124m\"\u001b[39m, \u001b[38;5;124m\"\u001b[39m\u001b[38;5;124mLifespan\u001b[39m\u001b[38;5;124m\"\u001b[39m)\n\u001b[0;32m      3\u001b[0m \u001b[38;5;66;03m# Split control and drugged worms separately\u001b[39;00m\n\u001b[1;32m----> 4\u001b[0m splits \u001b[38;5;241m=\u001b[39m \u001b[43msplit_worms\u001b[49m(data_path\u001b[38;5;241m=\u001b[39mdata_path, test_size\u001b[38;5;241m=\u001b[39m\u001b[38;5;241m0.2\u001b[39m, random_state\u001b[38;5;241m=\u001b[39m\u001b[38;5;241m42\u001b[39m)\n\u001b[0;32m      6\u001b[0m \u001b[38;5;66;03m# Access splits\u001b[39;00m\n\u001b[0;32m      7\u001b[0m control_train \u001b[38;5;241m=\u001b[39m splits[\u001b[38;5;124m'\u001b[39m\u001b[38;5;124mcontrol\u001b[39m\u001b[38;5;124m'\u001b[39m][\u001b[38;5;124m'\u001b[39m\u001b[38;5;124mtrain\u001b[39m\u001b[38;5;124m'\u001b[39m]\n",
      "\u001b[1;31mNameError\u001b[0m: name 'split_worms' is not defined"
     ]
    }
   ],
   "source": [
    "data_path = os.path.join(os.getcwd(), \"Data\", \"Lifespan\")\n",
    "\n",
    "# Split control and drugged worms separately\n",
    "splits = split_worms(data_path=data_path, test_size=0.2, random_state=42)\n",
    "\n",
    "# Access splits\n",
    "control_train = splits['control']['train']\n",
    "control_test = splits['control']['test']\n",
    "drugged_train = splits['companyDrug']['train']\n",
    "drugged_test = splits['companyDrug']['test']\n",
    "\n",
    "# Print the splits\n",
    "print(\"Control - Train:\", control_train)\n",
    "print(\"Control - Test:\", control_test)\n",
    "print(\"Drugged - Train:\", drugged_train)\n",
    "print(\"Drugged - Test:\", drugged_test)"
   ]
  },
  {
   "cell_type": "code",
   "execution_count": 4,
   "metadata": {},
   "outputs": [
    {
     "name": "stdout",
     "output_type": "stream",
     "text": [
      "Any NaN in X_train: X         True\n",
      "Y         True\n",
      "Speed    False\n",
      "dtype: bool\n",
      "Any Inf in X_train: X        False\n",
      "Y        False\n",
      "Speed    False\n",
      "dtype: bool\n",
      "Any NaN in y_train: False\n",
      "Any Inf in y_train: False\n"
     ]
    }
   ],
   "source": [
    "# Check for NaN\n",
    "\n",
    "print(f\"Any NaN in X_train: {np.isnan(X_train).any()}\")\n",
    "print(f\"Any Inf in X_train: {np.isinf(X_train).any()}\")\n",
    "print(f\"Any NaN in y_train: {np.isnan(y_train).any()}\")\n",
    "print(f\"Any Inf in y_train: {np.isinf(y_train).any()}\")"
   ]
  },
  {
   "cell_type": "markdown",
   "metadata": {},
   "source": [
    "This means we have the following :\n",
    "X_train columns : x contains NaN values, y contains NaN values, speed doesn't contain\n",
    "y_train doesn't contain NaN or inf"
   ]
  },
  {
   "cell_type": "code",
   "execution_count": 8,
   "metadata": {},
   "outputs": [
    {
     "ename": "NameError",
     "evalue": "name 'impute_nan' is not defined",
     "output_type": "error",
     "traceback": [
      "\u001b[0;31m---------------------------------------------------------------------------\u001b[0m",
      "\u001b[0;31mNameError\u001b[0m                                 Traceback (most recent call last)",
      "Cell \u001b[0;32mIn[8], line 2\u001b[0m\n\u001b[1;32m      1\u001b[0m \u001b[38;5;66;03m# NaN imputation\u001b[39;00m\n\u001b[0;32m----> 2\u001b[0m X_train \u001b[38;5;241m=\u001b[39m \u001b[43mimpute_nan\u001b[49m(X_train)\n\u001b[1;32m      4\u001b[0m \u001b[38;5;66;03m# check for NaN\u001b[39;00m\n\u001b[1;32m      5\u001b[0m \u001b[38;5;28mprint\u001b[39m(\u001b[38;5;124mf\u001b[39m\u001b[38;5;124m\"\u001b[39m\u001b[38;5;124mAny NaN in X_train: \u001b[39m\u001b[38;5;132;01m{\u001b[39;00mX_train\u001b[38;5;241m.\u001b[39misna()\u001b[38;5;241m.\u001b[39many()\u001b[38;5;132;01m}\u001b[39;00m\u001b[38;5;124m\"\u001b[39m)\n",
      "\u001b[0;31mNameError\u001b[0m: name 'impute_nan' is not defined"
     ]
    }
   ],
   "source": [
    "# NaN imputation\n",
    "X_train = impute_nan(X_train)\n",
    "\n",
    "# check for NaN\n",
    "print(f\"Any NaN in X_train: {X_train.isna().any()}\")"
   ]
  },
  {
   "cell_type": "code",
   "execution_count": null,
   "metadata": {},
   "outputs": [],
   "source": []
  }
 ],
 "metadata": {
  "kernelspec": {
   "display_name": "env_ML",
   "language": "python",
   "name": "python3"
  },
  "language_info": {
   "codemirror_mode": {
    "name": "ipython",
    "version": 3
   },
   "file_extension": ".py",
   "mimetype": "text/x-python",
   "name": "python",
   "nbconvert_exporter": "python",
   "pygments_lexer": "ipython3",
   "version": "3.9.20"
  }
 },
 "nbformat": 4,
 "nbformat_minor": 2
}
