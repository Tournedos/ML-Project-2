{
 "cells": [
  {
   "cell_type": "markdown",
   "metadata": {},
   "source": [
    "## Step 0 : Imports\n",
    "> Do all the necessary imports"
   ]
  },
  {
   "cell_type": "code",
   "execution_count": 1,
   "metadata": {},
   "outputs": [],
   "source": [
    "import os\n",
    "import numpy as np\n",
    "from helpers import*\n",
    "from models import *   \n",
    "from nan_imputation import impute_nan\n",
    "import isdead"
   ]
  },
  {
   "cell_type": "code",
   "execution_count": 19,
   "metadata": {},
   "outputs": [
    {
     "data": {
      "text/plain": [
       "'c:\\\\Users\\\\msgar\\\\OneDrive\\\\Documents\\\\EPFL\\\\Cours\\\\MA1\\\\Machine_Learning\\\\ML_project2\\\\ML-Project-2'"
      ]
     },
     "execution_count": 19,
     "metadata": {},
     "output_type": "execute_result"
    }
   ],
   "source": [
    "repo_root = find_repo_root()\n",
    "repo_root"
   ]
  },
  {
   "cell_type": "markdown",
   "metadata": {},
   "source": [
    "This means we have the following :\n",
    "X_train columns : x contains NaN values, y contains NaN values, speed doesn't contain\n",
    "y_train doesn't contain NaN or inf"
   ]
  },
  {
   "cell_type": "markdown",
   "metadata": {},
   "source": []
  },
  {
   "cell_type": "code",
   "execution_count": 20,
   "metadata": {},
   "outputs": [
    {
     "name": "stdout",
     "output_type": "stream",
     "text": [
      "2: File path is valid. Loading data...\n",
      "2: Data loaded successfully.\n"
     ]
    }
   ],
   "source": [
    "# Load the data of 1 worm\n",
    "data_path = os.path.join(repo_root, 'Data/Lifespan/companyDrug/speeds_and_coordinates_20241016_1_updated.csv')\n",
    "Drug_worm_2 = load_one_data(data_path,2)"
   ]
  },
  {
   "cell_type": "code",
   "execution_count": 21,
   "metadata": {},
   "outputs": [
    {
     "data": {
      "text/plain": [
       "<module 'isdead' from 'c:\\\\Users\\\\msgar\\\\OneDrive\\\\Documents\\\\EPFL\\\\Cours\\\\MA1\\\\Machine_Learning\\\\ML_project2\\\\ML-Project-2\\\\isdead.py'>"
      ]
     },
     "execution_count": 21,
     "metadata": {},
     "output_type": "execute_result"
    }
   ],
   "source": [
    "# Reload isdead.py\n",
    "import importlib\n",
    "importlib.reload(isdead)"
   ]
  },
  {
   "cell_type": "code",
   "execution_count": 22,
   "metadata": {},
   "outputs": [
    {
     "name": "stdout",
     "output_type": "stream",
     "text": [
      "\n",
      "Detailed Output:\n",
      "- The worm most probably died at the Absolute Frame 53098.\n",
      "- This correspond to the frame 9902 of the 4'th segment(starts at segment).\n",
      "- The estimated time of death is 348.50 hours since the start of recording.\n",
      "\n"
     ]
    },
    {
     "data": {
      "text/plain": [
       "(9902, 53098, 348.49888888888887, 4)"
      ]
     },
     "execution_count": 22,
     "metadata": {},
     "output_type": "execute_result"
    }
   ],
   "source": [
    "# Check if a worm is dead\n",
    "isdead.estimate_dying_time(Drug_worm_2,movement_threshold=2.0)\n"
   ]
  },
  {
   "cell_type": "markdown",
   "metadata": {},
   "source": [
    "## Step 1 : Load the Data"
   ]
  },
  {
   "cell_type": "code",
   "execution_count": 23,
   "metadata": {},
   "outputs": [
    {
     "data": {
      "text/plain": [
       "<module 'helpers' from 'c:\\\\Users\\\\msgar\\\\OneDrive\\\\Documents\\\\EPFL\\\\Cours\\\\MA1\\\\Machine_Learning\\\\ML_project2\\\\ML-Project-2\\\\helpers.py'>"
      ]
     },
     "execution_count": 23,
     "metadata": {},
     "output_type": "execute_result"
    }
   ],
   "source": [
    "# Reload helpers.py\n",
    "import importlib\n",
    "import helpers\n",
    "importlib.reload(helpers)"
   ]
  },
  {
   "cell_type": "code",
   "execution_count": 24,
   "metadata": {},
   "outputs": [
    {
     "data": {
      "text/plain": [
       "'c:\\\\Users\\\\msgar\\\\OneDrive\\\\Documents\\\\EPFL\\\\Cours\\\\MA1\\\\Machine_Learning\\\\ML_project2\\\\ML-Project-2'"
      ]
     },
     "execution_count": 24,
     "metadata": {},
     "output_type": "execute_result"
    }
   ],
   "source": [
    "repor_root = find_repo_root()\n",
    "repor_root"
   ]
  },
  {
   "cell_type": "code",
   "execution_count": 25,
   "metadata": {},
   "outputs": [
    {
     "name": "stdout",
     "output_type": "stream",
     "text": [
      "Loading file: c:\\Users\\msgar\\OneDrive\\Documents\\EPFL\\Cours\\MA1\\Machine_Learning\\ML_project2\\ML-Project-2\\Data/Lifespan/control\\speeds_and_coordinates_20241016_11_updated.csv\n",
      "Loading file: c:\\Users\\msgar\\OneDrive\\Documents\\EPFL\\Cours\\MA1\\Machine_Learning\\ML_project2\\ML-Project-2\\Data/Lifespan/control\\speeds_and_coordinates_20241016_12_updated.csv\n",
      "Loading file: c:\\Users\\msgar\\OneDrive\\Documents\\EPFL\\Cours\\MA1\\Machine_Learning\\ML_project2\\ML-Project-2\\Data/Lifespan/control\\speeds_and_coordinates_20241016_13_updated.csv\n",
      "Loading file: c:\\Users\\msgar\\OneDrive\\Documents\\EPFL\\Cours\\MA1\\Machine_Learning\\ML_project2\\ML-Project-2\\Data/Lifespan/control\\speeds_and_coordinates_20241016_14_updated.csv\n",
      "Loading file: c:\\Users\\msgar\\OneDrive\\Documents\\EPFL\\Cours\\MA1\\Machine_Learning\\ML_project2\\ML-Project-2\\Data/Lifespan/control\\speeds_and_coordinates_20241016_15_updated.csv\n",
      "Loading file: c:\\Users\\msgar\\OneDrive\\Documents\\EPFL\\Cours\\MA1\\Machine_Learning\\ML_project2\\ML-Project-2\\Data/Lifespan/control\\speeds_and_coordinates_20241016_16_updated.csv\n",
      "Loading file: c:\\Users\\msgar\\OneDrive\\Documents\\EPFL\\Cours\\MA1\\Machine_Learning\\ML_project2\\ML-Project-2\\Data/Lifespan/control\\speeds_and_coordinates_20241016_31_updated.csv\n",
      "Loading file: c:\\Users\\msgar\\OneDrive\\Documents\\EPFL\\Cours\\MA1\\Machine_Learning\\ML_project2\\ML-Project-2\\Data/Lifespan/control\\speeds_and_coordinates_20241016_32_updated.csv\n",
      "Loading file: c:\\Users\\msgar\\OneDrive\\Documents\\EPFL\\Cours\\MA1\\Machine_Learning\\ML_project2\\ML-Project-2\\Data/Lifespan/control\\speeds_and_coordinates_20241016_33_updated.csv\n",
      "Loading file: c:\\Users\\msgar\\OneDrive\\Documents\\EPFL\\Cours\\MA1\\Machine_Learning\\ML_project2\\ML-Project-2\\Data/Lifespan/control\\speeds_and_coordinates_20241016_34_updated.csv\n",
      "Loading file: c:\\Users\\msgar\\OneDrive\\Documents\\EPFL\\Cours\\MA1\\Machine_Learning\\ML_project2\\ML-Project-2\\Data/Lifespan/control\\speeds_and_coordinates_20241016_35_updated.csv\n",
      "Loading file: c:\\Users\\msgar\\OneDrive\\Documents\\EPFL\\Cours\\MA1\\Machine_Learning\\ML_project2\\ML-Project-2\\Data/Lifespan/control\\speeds_and_coordinates_20241016_36_updated.csv\n",
      "Loaded 12 worms from c:\\Users\\msgar\\OneDrive\\Documents\\EPFL\\Cours\\MA1\\Machine_Learning\\ML_project2\\ML-Project-2\\Data/Lifespan/control\n",
      "Loading file: c:\\Users\\msgar\\OneDrive\\Documents\\EPFL\\Cours\\MA1\\Machine_Learning\\ML_project2\\ML-Project-2\\Data/Lifespan/companyDrug\\speeds_and_coordinates_20241016_1_updated.csv\n",
      "Loading file: c:\\Users\\msgar\\OneDrive\\Documents\\EPFL\\Cours\\MA1\\Machine_Learning\\ML_project2\\ML-Project-2\\Data/Lifespan/companyDrug\\speeds_and_coordinates_20241016_21_updated.csv\n",
      "Loading file: c:\\Users\\msgar\\OneDrive\\Documents\\EPFL\\Cours\\MA1\\Machine_Learning\\ML_project2\\ML-Project-2\\Data/Lifespan/companyDrug\\speeds_and_coordinates_20241016_22_updated.csv\n",
      "Loading file: c:\\Users\\msgar\\OneDrive\\Documents\\EPFL\\Cours\\MA1\\Machine_Learning\\ML_project2\\ML-Project-2\\Data/Lifespan/companyDrug\\speeds_and_coordinates_20241016_23_updated.csv\n",
      "Loading file: c:\\Users\\msgar\\OneDrive\\Documents\\EPFL\\Cours\\MA1\\Machine_Learning\\ML_project2\\ML-Project-2\\Data/Lifespan/companyDrug\\speeds_and_coordinates_20241016_24_updated.csv\n",
      "Loading file: c:\\Users\\msgar\\OneDrive\\Documents\\EPFL\\Cours\\MA1\\Machine_Learning\\ML_project2\\ML-Project-2\\Data/Lifespan/companyDrug\\speeds_and_coordinates_20241016_25_updated.csv\n",
      "Loading file: c:\\Users\\msgar\\OneDrive\\Documents\\EPFL\\Cours\\MA1\\Machine_Learning\\ML_project2\\ML-Project-2\\Data/Lifespan/companyDrug\\speeds_and_coordinates_20241016_26_updated.csv\n",
      "Loading file: c:\\Users\\msgar\\OneDrive\\Documents\\EPFL\\Cours\\MA1\\Machine_Learning\\ML_project2\\ML-Project-2\\Data/Lifespan/companyDrug\\speeds_and_coordinates_20241016_2_updated.csv\n",
      "Loading file: c:\\Users\\msgar\\OneDrive\\Documents\\EPFL\\Cours\\MA1\\Machine_Learning\\ML_project2\\ML-Project-2\\Data/Lifespan/companyDrug\\speeds_and_coordinates_20241016_3_updated.csv\n",
      "Loading file: c:\\Users\\msgar\\OneDrive\\Documents\\EPFL\\Cours\\MA1\\Machine_Learning\\ML_project2\\ML-Project-2\\Data/Lifespan/companyDrug\\speeds_and_coordinates_20241016_4_updated.csv\n",
      "Loading file: c:\\Users\\msgar\\OneDrive\\Documents\\EPFL\\Cours\\MA1\\Machine_Learning\\ML_project2\\ML-Project-2\\Data/Lifespan/companyDrug\\speeds_and_coordinates_20241016_5_updated.csv\n",
      "Loading file: c:\\Users\\msgar\\OneDrive\\Documents\\EPFL\\Cours\\MA1\\Machine_Learning\\ML_project2\\ML-Project-2\\Data/Lifespan/companyDrug\\speeds_and_coordinates_20241016_6_updated.csv\n",
      "Loaded 12 worms from c:\\Users\\msgar\\OneDrive\\Documents\\EPFL\\Cours\\MA1\\Machine_Learning\\ML_project2\\ML-Project-2\\Data/Lifespan/companyDrug\n"
     ]
    }
   ],
   "source": [
    "# load whole data\n",
    "# Define the path to the Lifespan folder\n",
    "\n",
    "control_path = os.path.join(repo_root, 'Data/Lifespan/control')\n",
    "drug_path = os.path.join(repo_root, 'Data/Lifespan/companyDrug')\n",
    "\n",
    "# Load worms from the control folder\n",
    "control_worms = load_file_data(control_path)\n",
    "\n",
    "# Load worms from the companyDrug folder\n",
    "drug_worms = load_file_data(drug_path)"
   ]
  },
  {
   "cell_type": "markdown",
   "metadata": {},
   "source": [
    "## Step 2 : Input NaNs\n",
    "> Input the rows that are filled with NaNs"
   ]
  },
  {
   "cell_type": "code",
   "execution_count": null,
   "metadata": {},
   "outputs": [],
   "source": []
  },
  {
   "cell_type": "markdown",
   "metadata": {},
   "source": [
    "## Step 3 : Split data\n",
    "> Split the worms in train and test groups"
   ]
  },
  {
   "cell_type": "code",
   "execution_count": 26,
   "metadata": {},
   "outputs": [
    {
     "name": "stdout",
     "output_type": "stream",
     "text": [
      "Data split complete: 9 training worms, 3 testing worms.\n",
      "Data split complete: 9 training worms, 3 testing worms.\n"
     ]
    }
   ],
   "source": [
    "# Split control worms\n",
    "train_control, test_control = split_data(control_worms, test_size=0.2)\n",
    "\n",
    "# Split companyDrug worms\n",
    "train_drug, test_drug = split_data(drug_worms, test_size=0.2)"
   ]
  },
  {
   "cell_type": "markdown",
   "metadata": {},
   "source": [
    "## Step 3 : Truncate de Data : to extract the \"early\" lifespan of a worm"
   ]
  },
  {
   "cell_type": "code",
   "execution_count": 27,
   "metadata": {},
   "outputs": [
    {
     "name": "stdout",
     "output_type": "stream",
     "text": [
      "Truncated data to 20.0% of the lifespan for 9 worms.\n",
      "Truncated data to 20.0% of the lifespan for 9 worms.\n"
     ]
    }
   ],
   "source": [
    "# Truncate to the first 20% of the lifespan for training worms\n",
    "train_control_early = load_earlylifespan(train_control, data_fraction=0.2)\n",
    "train_drug_early = load_earlylifespan(train_drug, data_fraction=0.2)"
   ]
  },
  {
   "cell_type": "code",
   "execution_count": 29,
   "metadata": {},
   "outputs": [],
   "source": [
    "import matplotlib.pyplot as plt  \n",
    "from helpers import plot_changed_pixels\n",
    "\n",
    "# Define output directory if you want to save the plots\n",
    "output_dir = os.path.join(repo_root, 'Data/Plots/changed_pixels')\n",
    "os.makedirs(output_dir, exist_ok=True)\n",
    "\n",
    "# Plot for control worms\n",
    "plot_changed_pixels(train_control, worm_names=[f\"Control {i+1}\" for i in range(len(train_control))], output_dir=output_dir)\n",
    "\n",
    "# Plot for drug worms\n",
    "plot_changed_pixels(train_drug, worm_names=[f\"Drug {i+1}\" for i in range(len(train_drug))], output_dir=output_dir)"
   ]
  }
 ],
 "metadata": {
  "kernelspec": {
   "display_name": "MLCourse",
   "language": "python",
   "name": "python3"
  },
  "language_info": {
   "codemirror_mode": {
    "name": "ipython",
    "version": 3
   },
   "file_extension": ".py",
   "mimetype": "text/x-python",
   "name": "python",
   "nbconvert_exporter": "python",
   "pygments_lexer": "ipython3",
   "version": "3.10.8"
  }
 },
 "nbformat": 4,
 "nbformat_minor": 2
}
