{
 "cells": [
  {
   "cell_type": "code",
   "execution_count": 22,
   "metadata": {},
   "outputs": [],
   "source": [
    "import os\n",
    "import numpy as np\n",
    "import helpers\n",
    "from models import *   \n",
    "from nan_imputation import impute_nan\n",
    "import isdead"
   ]
  },
  {
   "cell_type": "code",
   "execution_count": 23,
   "metadata": {},
   "outputs": [
    {
     "data": {
      "text/plain": [
       "'/Users/louistschanz/Documents/EPFL-Cours/MA1/ML/Project-2/ML-Project-2'"
      ]
     },
     "execution_count": 23,
     "metadata": {},
     "output_type": "execute_result"
    }
   ],
   "source": [
    "repo_root = find_repo_root()\n",
    "repo_root"
   ]
  },
  {
   "cell_type": "markdown",
   "metadata": {},
   "source": [
    "This means we have the following :\n",
    "X_train columns : x contains NaN values, y contains NaN values, speed doesn't contain\n",
    "y_train doesn't contain NaN or inf"
   ]
  },
  {
   "cell_type": "code",
   "execution_count": 24,
   "metadata": {},
   "outputs": [
    {
     "ename": "NameError",
     "evalue": "name 'load_one_data' is not defined",
     "output_type": "error",
     "traceback": [
      "\u001b[0;31m---------------------------------------------------------------------------\u001b[0m",
      "\u001b[0;31mNameError\u001b[0m                                 Traceback (most recent call last)",
      "Cell \u001b[0;32mIn[24], line 3\u001b[0m\n\u001b[1;32m      1\u001b[0m \u001b[38;5;66;03m# Load the data of 1 worm\u001b[39;00m\n\u001b[1;32m      2\u001b[0m data_path \u001b[38;5;241m=\u001b[39m os\u001b[38;5;241m.\u001b[39mpath\u001b[38;5;241m.\u001b[39mjoin(repo_root, \u001b[38;5;124m'\u001b[39m\u001b[38;5;124mData/Lifespan/companyDrug/speeds_and_coordinates_20241016_1_updated.csv\u001b[39m\u001b[38;5;124m'\u001b[39m)\n\u001b[0;32m----> 3\u001b[0m Drug_worm_2 \u001b[38;5;241m=\u001b[39m \u001b[43mload_one_data\u001b[49m(data_path,\u001b[38;5;241m1\u001b[39m)\n",
      "\u001b[0;31mNameError\u001b[0m: name 'load_one_data' is not defined"
     ]
    }
   ],
   "source": [
    "# Load the data of 1 worm\n",
    "data_path = os.path.join(repo_root, 'Data/Lifespan/companyDrug/speeds_and_coordinates_20241016_1_updated.csv')\n",
    "Drug_worm_2 = load_one_data(data_path,1)"
   ]
  },
  {
   "cell_type": "code",
   "execution_count": 25,
   "metadata": {},
   "outputs": [
    {
     "data": {
      "text/plain": [
       "<module 'isdead' from '/Users/louistschanz/Documents/EPFL-Cours/MA1/ML/Project-2/ML-Project-2/isdead.py'>"
      ]
     },
     "execution_count": 25,
     "metadata": {},
     "output_type": "execute_result"
    }
   ],
   "source": [
    "# Reload isdead.py\n",
    "import importlib\n",
    "importlib.reload(isdead)"
   ]
  },
  {
   "cell_type": "code",
   "execution_count": 20,
   "metadata": {},
   "outputs": [
    {
     "name": "stdout",
     "output_type": "stream",
     "text": [
      "\n",
      "Detailed Output:\n",
      "- The worm most probably died at the Absolute Frame 53098.\n",
      "- This correspond to the frame 9902 of the 4'th segment(starts at segment 0).\n",
      "- The estimated time of death is 348.50 hours since the start of recording.\n",
      "\n"
     ]
    },
    {
     "data": {
      "text/plain": [
       "(9902, 53098, 348.49888888888887, 4)"
      ]
     },
     "execution_count": 20,
     "metadata": {},
     "output_type": "execute_result"
    }
   ],
   "source": [
    "# Check if a worm is dead\n",
    "isdead.estimate_dying_time(Drug_worm_2,movement_threshold=2.0)\n"
   ]
  },
  {
   "cell_type": "markdown",
   "metadata": {},
   "source": [
    "## Step 1 : Load the Data"
   ]
  },
  {
   "cell_type": "code",
   "execution_count": 21,
   "metadata": {},
   "outputs": [
    {
     "ename": "NameError",
     "evalue": "name 'helpers' is not defined",
     "output_type": "error",
     "traceback": [
      "\u001b[0;31m---------------------------------------------------------------------------\u001b[0m",
      "\u001b[0;31mNameError\u001b[0m                                 Traceback (most recent call last)",
      "Cell \u001b[0;32mIn[21], line 3\u001b[0m\n\u001b[1;32m      1\u001b[0m \u001b[38;5;66;03m# Reload helpers.py\u001b[39;00m\n\u001b[1;32m      2\u001b[0m \u001b[38;5;28;01mimport\u001b[39;00m \u001b[38;5;21;01mimportlib\u001b[39;00m\n\u001b[0;32m----> 3\u001b[0m importlib\u001b[38;5;241m.\u001b[39mreload(\u001b[43mhelpers\u001b[49m)\n\u001b[1;32m      5\u001b[0m \u001b[38;5;66;03m# load whole data\u001b[39;00m\n\u001b[1;32m      6\u001b[0m \u001b[38;5;66;03m# Define the path to the Lifespan folder\u001b[39;00m\n\u001b[1;32m      7\u001b[0m control_path \u001b[38;5;241m=\u001b[39m os\u001b[38;5;241m.\u001b[39mpath\u001b[38;5;241m.\u001b[39mjoin(repo_root, \u001b[38;5;124m'\u001b[39m\u001b[38;5;124mData/Lifespan/control\u001b[39m\u001b[38;5;124m'\u001b[39m)\n",
      "\u001b[0;31mNameError\u001b[0m: name 'helpers' is not defined"
     ]
    }
   ],
   "source": [
    "# Reload helpers.py\n",
    "import importlib\n",
    "importlib.reload(helpers)\n",
    "\n",
    "# load whole data\n",
    "# Define the path to the Lifespan folder\n",
    "control_path = os.path.join(repo_root, 'Data/Lifespan/control')\n",
    "drug_path = os.path.join(repo_root, 'Data/Lifespan/CompanyDrug')\n",
    "\n",
    "# Load worms from the control folder\n",
    "control_path = \"/path/to/Lifespan/control\"\n",
    "control_worms = load_file_data(control_path)\n",
    "\n",
    "# Load worms from the companyDrug folder\n",
    "drug_path = \"/path/to/Lifespan/companyDrug\"\n",
    "drug_worms = load_file_data(drug_path)"
   ]
  },
  {
   "cell_type": "markdown",
   "metadata": {},
   "source": [
    "## Step 2 : Split data\n"
   ]
  },
  {
   "cell_type": "code",
   "execution_count": null,
   "metadata": {},
   "outputs": [],
   "source": [
    "# Split control worms\n",
    "train_control, test_control = split_data(control_worms, test_size=0.2)\n",
    "\n",
    "# Split companyDrug worms\n",
    "train_drug, test_drug = split_data(drug_worms, test_size=0.2)"
   ]
  },
  {
   "cell_type": "markdown",
   "metadata": {},
   "source": [
    "## Step 3 : Truncate de Data : to extract the \"early\" lifespan of a worm"
   ]
  },
  {
   "cell_type": "code",
   "execution_count": null,
   "metadata": {},
   "outputs": [],
   "source": [
    "# Truncate to the first 20% of the lifespan for training worms\n",
    "train_control_early = load_earlylifespan(train_control, data_fraction=0.2)\n",
    "train_drug_early = load_earlylifespan(train_drug, data_fraction=0.2)"
   ]
  }
 ],
 "metadata": {
  "kernelspec": {
   "display_name": "MLCourse",
   "language": "python",
   "name": "python3"
  },
  "language_info": {
   "codemirror_mode": {
    "name": "ipython",
    "version": 3
   },
   "file_extension": ".py",
   "mimetype": "text/x-python",
   "name": "python",
   "nbconvert_exporter": "python",
   "pygments_lexer": "ipython3",
   "version": "3.10.8"
  }
 },
 "nbformat": 4,
 "nbformat_minor": 2
}
