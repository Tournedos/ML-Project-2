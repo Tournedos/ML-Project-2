{
 "cells": [
  {
   "cell_type": "code",
   "execution_count": 161,
   "metadata": {},
   "outputs": [],
   "source": [
    "import os\n",
    "import numpy as np\n",
    "import pandas as pd\n",
    "import matplotlib.pyplot as plt\n",
    "from models import *   \n",
    "import load_data\n",
    "import nan_imputation\n",
    "import helpers"
   ]
  },
  {
   "cell_type": "code",
   "execution_count": 162,
   "metadata": {},
   "outputs": [
    {
     "data": {
      "text/plain": [
       "<module 'helpers' from '/Users/louistschanz/Documents/EPFL-Cours/MA1/ML/Project-2/ML-Project-2/helpers.py'>"
      ]
     },
     "execution_count": 162,
     "metadata": {},
     "output_type": "execute_result"
    }
   ],
   "source": [
    "# Reload isdead.py\n",
    "import importlib\n",
    "importlib.reload(load_data)\n",
    "importlib.reload(nan_imputation)\n",
    "importlib.reload(helpers)"
   ]
  },
  {
   "cell_type": "markdown",
   "metadata": {},
   "source": [
    "## Step 0 : Load the Data"
   ]
  },
  {
   "cell_type": "code",
   "execution_count": null,
   "metadata": {},
   "outputs": [],
   "source": [
    "repo_root = helpers.find_repo_root()\n",
    "repo_root\n",
    "\n",
    "# load data\n",
    "# Define the path to the Lifespan folder\n",
    "\n",
    "#for now test with only control\n",
    "data_path = os.path.join(repo_root, 'Data/Lifespan')"
   ]
  },
  {
   "cell_type": "code",
   "execution_count": 169,
   "metadata": {},
   "outputs": [
    {
     "name": "stdout",
     "output_type": "stream",
     "text": [
      "Loading file: /Users/louistschanz/Documents/EPFL-Cours/MA1/ML/Project-2/ML-Project-2/Data/Lifespan/companyDrug/speeds_and_coordinates_20241016_24_updated.csv\n",
      "File loaded: /Users/louistschanz/Documents/EPFL-Cours/MA1/ML/Project-2/ML-Project-2/Data/Lifespan/companyDrug/speeds_and_coordinates_20241016_24_updated.csv\n",
      "Loading file: /Users/louistschanz/Documents/EPFL-Cours/MA1/ML/Project-2/ML-Project-2/Data/Lifespan/companyDrug/speeds_and_coordinates_20241016_3_updated.csv\n",
      "File loaded: /Users/louistschanz/Documents/EPFL-Cours/MA1/ML/Project-2/ML-Project-2/Data/Lifespan/companyDrug/speeds_and_coordinates_20241016_3_updated.csv\n",
      "Loading file: /Users/louistschanz/Documents/EPFL-Cours/MA1/ML/Project-2/ML-Project-2/Data/Lifespan/companyDrug/speeds_and_coordinates_20241016_6_updated.csv\n",
      "File loaded: /Users/louistschanz/Documents/EPFL-Cours/MA1/ML/Project-2/ML-Project-2/Data/Lifespan/companyDrug/speeds_and_coordinates_20241016_6_updated.csv\n",
      "Loading file: /Users/louistschanz/Documents/EPFL-Cours/MA1/ML/Project-2/ML-Project-2/Data/Lifespan/companyDrug/speeds_and_coordinates_20241016_21_updated.csv\n",
      "File loaded: /Users/louistschanz/Documents/EPFL-Cours/MA1/ML/Project-2/ML-Project-2/Data/Lifespan/companyDrug/speeds_and_coordinates_20241016_21_updated.csv\n",
      "Loading file: /Users/louistschanz/Documents/EPFL-Cours/MA1/ML/Project-2/ML-Project-2/Data/Lifespan/companyDrug/speeds_and_coordinates_20241016_22_updated.csv\n",
      "File loaded: /Users/louistschanz/Documents/EPFL-Cours/MA1/ML/Project-2/ML-Project-2/Data/Lifespan/companyDrug/speeds_and_coordinates_20241016_22_updated.csv\n",
      "Loading file: /Users/louistschanz/Documents/EPFL-Cours/MA1/ML/Project-2/ML-Project-2/Data/Lifespan/companyDrug/speeds_and_coordinates_20241016_5_updated.csv\n",
      "File loaded: /Users/louistschanz/Documents/EPFL-Cours/MA1/ML/Project-2/ML-Project-2/Data/Lifespan/companyDrug/speeds_and_coordinates_20241016_5_updated.csv\n",
      "Loading file: /Users/louistschanz/Documents/EPFL-Cours/MA1/ML/Project-2/ML-Project-2/Data/Lifespan/companyDrug/speeds_and_coordinates_20241016_2_updated.csv\n",
      "File loaded: /Users/louistschanz/Documents/EPFL-Cours/MA1/ML/Project-2/ML-Project-2/Data/Lifespan/companyDrug/speeds_and_coordinates_20241016_2_updated.csv\n",
      "Loading file: /Users/louistschanz/Documents/EPFL-Cours/MA1/ML/Project-2/ML-Project-2/Data/Lifespan/companyDrug/speeds_and_coordinates_20241016_25_updated.csv\n",
      "File loaded: /Users/louistschanz/Documents/EPFL-Cours/MA1/ML/Project-2/ML-Project-2/Data/Lifespan/companyDrug/speeds_and_coordinates_20241016_25_updated.csv\n",
      "Loading file: /Users/louistschanz/Documents/EPFL-Cours/MA1/ML/Project-2/ML-Project-2/Data/Lifespan/companyDrug/speeds_and_coordinates_20241016_26_updated.csv\n",
      "File loaded: /Users/louistschanz/Documents/EPFL-Cours/MA1/ML/Project-2/ML-Project-2/Data/Lifespan/companyDrug/speeds_and_coordinates_20241016_26_updated.csv\n",
      "Loading file: /Users/louistschanz/Documents/EPFL-Cours/MA1/ML/Project-2/ML-Project-2/Data/Lifespan/companyDrug/speeds_and_coordinates_20241016_1_updated.csv\n",
      "File loaded: /Users/louistschanz/Documents/EPFL-Cours/MA1/ML/Project-2/ML-Project-2/Data/Lifespan/companyDrug/speeds_and_coordinates_20241016_1_updated.csv\n",
      "Loading file: /Users/louistschanz/Documents/EPFL-Cours/MA1/ML/Project-2/ML-Project-2/Data/Lifespan/companyDrug/speeds_and_coordinates_20241016_4_updated.csv\n",
      "File loaded: /Users/louistschanz/Documents/EPFL-Cours/MA1/ML/Project-2/ML-Project-2/Data/Lifespan/companyDrug/speeds_and_coordinates_20241016_4_updated.csv\n",
      "Loading file: /Users/louistschanz/Documents/EPFL-Cours/MA1/ML/Project-2/ML-Project-2/Data/Lifespan/companyDrug/speeds_and_coordinates_20241016_23_updated.csv\n",
      "File loaded: /Users/louistschanz/Documents/EPFL-Cours/MA1/ML/Project-2/ML-Project-2/Data/Lifespan/companyDrug/speeds_and_coordinates_20241016_23_updated.csv\n",
      "Loading file: /Users/louistschanz/Documents/EPFL-Cours/MA1/ML/Project-2/ML-Project-2/Data/Lifespan/control/speeds_and_coordinates_20241016_16_updated.csv\n",
      "File loaded: /Users/louistschanz/Documents/EPFL-Cours/MA1/ML/Project-2/ML-Project-2/Data/Lifespan/control/speeds_and_coordinates_20241016_16_updated.csv\n",
      "Loading file: /Users/louistschanz/Documents/EPFL-Cours/MA1/ML/Project-2/ML-Project-2/Data/Lifespan/control/speeds_and_coordinates_20241016_31_updated.csv\n",
      "File loaded: /Users/louistschanz/Documents/EPFL-Cours/MA1/ML/Project-2/ML-Project-2/Data/Lifespan/control/speeds_and_coordinates_20241016_31_updated.csv\n",
      "Loading file: /Users/louistschanz/Documents/EPFL-Cours/MA1/ML/Project-2/ML-Project-2/Data/Lifespan/control/speeds_and_coordinates_20241016_34_updated.csv\n",
      "File loaded: /Users/louistschanz/Documents/EPFL-Cours/MA1/ML/Project-2/ML-Project-2/Data/Lifespan/control/speeds_and_coordinates_20241016_34_updated.csv\n",
      "Loading file: /Users/louistschanz/Documents/EPFL-Cours/MA1/ML/Project-2/ML-Project-2/Data/Lifespan/control/speeds_and_coordinates_20241016_13_updated.csv\n",
      "File loaded: /Users/louistschanz/Documents/EPFL-Cours/MA1/ML/Project-2/ML-Project-2/Data/Lifespan/control/speeds_and_coordinates_20241016_13_updated.csv\n",
      "Loading file: /Users/louistschanz/Documents/EPFL-Cours/MA1/ML/Project-2/ML-Project-2/Data/Lifespan/control/speeds_and_coordinates_20241016_32_updated.csv\n",
      "File loaded: /Users/louistschanz/Documents/EPFL-Cours/MA1/ML/Project-2/ML-Project-2/Data/Lifespan/control/speeds_and_coordinates_20241016_32_updated.csv\n",
      "Loading file: /Users/louistschanz/Documents/EPFL-Cours/MA1/ML/Project-2/ML-Project-2/Data/Lifespan/control/speeds_and_coordinates_20241016_15_updated.csv\n",
      "File loaded: /Users/louistschanz/Documents/EPFL-Cours/MA1/ML/Project-2/ML-Project-2/Data/Lifespan/control/speeds_and_coordinates_20241016_15_updated.csv\n",
      "Loading file: /Users/louistschanz/Documents/EPFL-Cours/MA1/ML/Project-2/ML-Project-2/Data/Lifespan/control/speeds_and_coordinates_20241016_12_updated.csv\n",
      "File loaded: /Users/louistschanz/Documents/EPFL-Cours/MA1/ML/Project-2/ML-Project-2/Data/Lifespan/control/speeds_and_coordinates_20241016_12_updated.csv\n",
      "Loading file: /Users/louistschanz/Documents/EPFL-Cours/MA1/ML/Project-2/ML-Project-2/Data/Lifespan/control/speeds_and_coordinates_20241016_35_updated.csv\n",
      "File loaded: /Users/louistschanz/Documents/EPFL-Cours/MA1/ML/Project-2/ML-Project-2/Data/Lifespan/control/speeds_and_coordinates_20241016_35_updated.csv\n",
      "Loading file: /Users/louistschanz/Documents/EPFL-Cours/MA1/ML/Project-2/ML-Project-2/Data/Lifespan/control/speeds_and_coordinates_20241016_14_updated.csv\n",
      "File loaded: /Users/louistschanz/Documents/EPFL-Cours/MA1/ML/Project-2/ML-Project-2/Data/Lifespan/control/speeds_and_coordinates_20241016_14_updated.csv\n",
      "Loading file: /Users/louistschanz/Documents/EPFL-Cours/MA1/ML/Project-2/ML-Project-2/Data/Lifespan/control/speeds_and_coordinates_20241016_33_updated.csv\n",
      "File loaded: /Users/louistschanz/Documents/EPFL-Cours/MA1/ML/Project-2/ML-Project-2/Data/Lifespan/control/speeds_and_coordinates_20241016_33_updated.csv\n",
      "Loading file: /Users/louistschanz/Documents/EPFL-Cours/MA1/ML/Project-2/ML-Project-2/Data/Lifespan/control/speeds_and_coordinates_20241016_36_updated.csv\n",
      "File loaded: /Users/louistschanz/Documents/EPFL-Cours/MA1/ML/Project-2/ML-Project-2/Data/Lifespan/control/speeds_and_coordinates_20241016_36_updated.csv\n",
      "Loading file: /Users/louistschanz/Documents/EPFL-Cours/MA1/ML/Project-2/ML-Project-2/Data/Lifespan/control/speeds_and_coordinates_20241016_11_updated.csv\n",
      "File loaded: /Users/louistschanz/Documents/EPFL-Cours/MA1/ML/Project-2/ML-Project-2/Data/Lifespan/control/speeds_and_coordinates_20241016_11_updated.csv\n",
      "Loaded 24 worms with categories as a feature.\n"
     ]
    }
   ],
   "source": [
    "worms = load_data.load_lifespan(data_path)\n",
    "#worms.pop(\"worm_1_companyDrug\", None)  # The second argument avoids KeyError if the key doesn't exist"
   ]
  },
  {
   "cell_type": "code",
   "execution_count": 165,
   "metadata": {},
   "outputs": [
    {
     "name": "stdout",
     "output_type": "stream",
     "text": [
      "\n",
      "Summary of Loaded Worm Data:\n",
      "========================================\n",
      "Worm: worm_1\n",
      "  Shape: (6, 75593)\n",
      "----------------------------------------\n",
      "Worm: worm_2\n",
      "  Shape: (6, 75593)\n",
      "----------------------------------------\n",
      "Worm: worm_3\n",
      "  Shape: (6, 64794)\n",
      "----------------------------------------\n",
      "Worm: worm_4\n",
      "  Shape: (6, 75593)\n",
      "----------------------------------------\n",
      "Worm: worm_5\n",
      "  Shape: (6, 75593)\n",
      "----------------------------------------\n",
      "Worm: worm_6\n",
      "  Shape: (6, 75593)\n",
      "----------------------------------------\n",
      "Worm: worm_7\n",
      "  Shape: (6, 75593)\n",
      "----------------------------------------\n",
      "Worm: worm_8\n",
      "  Shape: (6, 75593)\n",
      "----------------------------------------\n",
      "Worm: worm_9\n",
      "  Shape: (6, 75593)\n",
      "----------------------------------------\n",
      "Worm: worm_10\n",
      "  Shape: (6, 53995)\n",
      "----------------------------------------\n",
      "Worm: worm_11\n",
      "  Shape: (6, 75593)\n",
      "----------------------------------------\n",
      "Worm: worm_12\n",
      "  Shape: (6, 75593)\n",
      "----------------------------------------\n",
      "Worm: worm_13\n",
      "  Shape: (6, 75593)\n",
      "----------------------------------------\n",
      "Worm: worm_14\n",
      "  Shape: (6, 53995)\n",
      "----------------------------------------\n",
      "Worm: worm_15\n",
      "  Shape: (6, 53995)\n",
      "----------------------------------------\n",
      "Worm: worm_16\n",
      "  Shape: (6, 75593)\n",
      "----------------------------------------\n",
      "Worm: worm_17\n",
      "  Shape: (6, 75593)\n",
      "----------------------------------------\n",
      "Worm: worm_18\n",
      "  Shape: (6, 64794)\n",
      "----------------------------------------\n",
      "Worm: worm_19\n",
      "  Shape: (6, 75593)\n",
      "----------------------------------------\n",
      "Worm: worm_20\n",
      "  Shape: (6, 75593)\n",
      "----------------------------------------\n",
      "Worm: worm_21\n",
      "  Shape: (6, 75593)\n",
      "----------------------------------------\n",
      "Worm: worm_22\n",
      "  Shape: (6, 53995)\n",
      "----------------------------------------\n",
      "Worm: worm_23\n",
      "  Shape: (6, 75593)\n",
      "----------------------------------------\n",
      "Worm: worm_24\n",
      "  Shape: (6, 75593)\n",
      "----------------------------------------\n"
     ]
    }
   ],
   "source": [
    "helpers.print_fdict_summary(worms)  \n",
    "\n",
    "# need to calibrate : \n",
    "#companyDrug :\n",
    "# 1 : 53995\n",
    "# 2 : 75594\n",
    "# 3 : 75594\n",
    "# 4 : 75594\n",
    "# 5 : 75594\n",
    "# 6 : 64795\n",
    "# 21 : 75594\n",
    "# 22 : 75594\n",
    "# 23 : 75594\n",
    "# 24 : 75594\n",
    "# 25 : 75594\n",
    "# 26 : 75594\n",
    "# \n",
    "#  control :\n",
    "# 11 : 75594\n",
    "# 12 : 75594\n",
    "# 13 : 75594\n",
    "# 14 : 75594 \n",
    "# 15 : 64795\n",
    "# 16 : 75594\n",
    "# 31 : 53996\n",
    "# 32 : 75594\n",
    "# 33 : 53996\n",
    "# 34 : 53996\n",
    "# 35 : 75594\n",
    "# 36 : 75594"
   ]
  },
  {
   "cell_type": "code",
   "execution_count": 166,
   "metadata": {},
   "outputs": [
    {
     "name": "stdout",
     "output_type": "stream",
     "text": [
      "   Frame  Speed   X   Y  Changed Pixels  Category\n",
      "0    1.0    0.0 NaN NaN             0.0       0.0\n",
      "1    2.0    0.0 NaN NaN             0.0       0.0\n",
      "2    3.0    0.0 NaN NaN             0.0       0.0\n",
      "3    4.0    0.0 NaN NaN             0.0       0.0\n",
      "4    5.0    0.0 NaN NaN             0.0       0.0\n"
     ]
    }
   ],
   "source": [
    "# Extract data for worm_5\n",
    "worm_data = worms['worm_5']\n",
    "\n",
    "# Convert to a Pandas DataFrame\n",
    "df_worm = pd.DataFrame(\n",
    "    worm_data.T,  # Transpose the array to align columns properly\n",
    "    columns=['Frame', 'Speed', 'X', 'Y', 'Changed Pixels', 'Category']  # Add column names\n",
    ")\n",
    "\n",
    "# Display the first few rows\n",
    "print(df_worm.head())"
   ]
  },
  {
   "cell_type": "markdown",
   "metadata": {},
   "source": [
    "## Step 1 : NaN imputation\n",
    "> impute only on X and Y columns since only where there are NaN"
   ]
  },
  {
   "cell_type": "code",
   "execution_count": null,
   "metadata": {},
   "outputs": [],
   "source": [
    "for name, lifespan_array in worms.items(): \n",
    "    print(f\"Processing {name}\")\n",
    "    lifespan_arrayxy = lifespan_array[2:4,:]  # Extract columns for X and Y\n",
    "    missing_sequences = nan_imputation.count_successive_missing(lifespan_arrayxy)\n",
    "    for start, end, length in missing_sequences:\n",
    "        print(f\"  Missing sequence starts at column {start}, ends at column {end - 1}, length: {length}\")"
   ]
  },
  {
   "cell_type": "code",
   "execution_count": null,
   "metadata": {},
   "outputs": [],
   "source": [
    "print(lifespan_arrayxy)\n",
    "print(f\"Missing sequences for {name}: {missing_sequences}\")"
   ]
  },
  {
   "cell_type": "code",
   "execution_count": null,
   "metadata": {},
   "outputs": [],
   "source": [
    "# Rows to check for missing values (2:4 in zero-based indexing)\n",
    "rows_to_check = slice(2, 4)  # Rows 2 and 3 not row 4\n",
    "\n",
    "# Apply cut_array to each worm in the dataset\n",
    "cut_nan_dict = {name: nan_imputation.cut_array(array, rows_to_check) for name, array in worms.items()}"
   ]
  },
  {
   "cell_type": "code",
   "execution_count": null,
   "metadata": {},
   "outputs": [],
   "source": [
    "# Print the shape of the filtered arrays\n",
    "for name, item in cut_nan_dict.items():\n",
    "    print(f'{name} : {item.shape}')"
   ]
  },
  {
   "cell_type": "code",
   "execution_count": null,
   "metadata": {},
   "outputs": [],
   "source": [
    "# Extract data for worm_5\n",
    "worm_data = worms['worm_5']\n",
    "\n",
    "# Convert to a Pandas DataFrame\n",
    "df_worm = pd.DataFrame(\n",
    "    worm_data.T,  # Transpose the array to align columns properly\n",
    "    columns=['Frame', 'Speed', 'X', 'Y', 'Changed Pixels', 'Category']  # Add column names\n",
    ")\n",
    "\n",
    "# Display the first few rows\n",
    "print(df_worm.head())"
   ]
  },
  {
   "cell_type": "markdown",
   "metadata": {},
   "source": [
    "# Step 2 : Splitting the Data\n",
    "> Split the worms in train worms and test worms"
   ]
  },
  {
   "cell_type": "code",
   "execution_count": null,
   "metadata": {},
   "outputs": [],
   "source": [
    "train_worms, test_worms = load_data.split_worms(worms, test_size=0.2)\n",
    "\n",
    "print(f\"Training Worms: {list(train_worms.keys())}\")\n",
    "print(f\"Testing Worms: {list(test_worms.keys())}\")"
   ]
  },
  {
   "cell_type": "markdown",
   "metadata": {},
   "source": [
    "# Step 3 : Figure out when do the worms die\n",
    ">When we find out on which frame he dies, drop the frames after his death"
   ]
  },
  {
   "cell_type": "code",
   "execution_count": null,
   "metadata": {},
   "outputs": [],
   "source": [
    "import isdead\n",
    "importlib.reload(isdead)"
   ]
  },
  {
   "cell_type": "code",
   "execution_count": null,
   "metadata": {},
   "outputs": [],
   "source": [
    "movement_threshold = 1.0 # Threshold for inactivity detection\n",
    "processed_worms = {} # Dictionary to store processed worms\n",
    "\n",
    "dying_times = []\n",
    "\n",
    "# Iterate through each worm in the dataset\n",
    "for worm_name, worm_data in worms.items():\n",
    "    print(f\"Processing {worm_name}...\")\n",
    "    # Transpose worm_data for DataFrame creation\n",
    "    df_worm = pd.DataFrame(worm_data.T,columns=['Frame', 'Speed', 'X', 'Y', 'Changed Pixels', 'Category']) # Transpose the array\n",
    "\n",
    "    result = isdead.estimate_dying_time(df_worm, movement_threshold) # Use the estimate_dying_time function to find the dying frame\n",
    "    if result[0] is None:\n",
    "        print(f\"  {worm_name}: No inactivity detected. Retaining all data.\")\n",
    "        processed_worms[worm_name] = worm_data\n",
    "        continue\n",
    "\n",
    "    dying_frame, absolute_frame, dying_time_hours, segment_number = result\n",
    "  \n",
    "    dying_times.append(dying_time_hours) # Append dying time in hours to the list\n",
    "\n",
    "    print(f\"  {worm_name}: Dying frame = {dying_frame}, Absolute frame = {absolute_frame}, Dying time = {dying_time_hours:.2f} hours, Segment = {segment_number}\") # Print details\n",
    "\n",
    "    # Truncate the data up to the dying frame\n",
    "    truncated_data = worm_data[:, worm_data[0, :] <= dying_frame]\n",
    "    processed_worms[worm_name] = truncated_data\n",
    "\n",
    "# Print summary of processed worms\n",
    "print(\"\\nSummary of processed worms:\")\n",
    "for name, data in processed_worms.items():\n",
    "    print(f\"{name}: Original frames = {worms[name].shape[1]}, After truncation = {data.shape[1]}\")"
   ]
  },
  {
   "cell_type": "code",
   "execution_count": null,
   "metadata": {},
   "outputs": [],
   "source": [
    "# Plot the survival curve\n",
    "dying_times_sorted = sorted(dying_times) # Sort the dying times in ascending order\n",
    "\n",
    "# Compute the survival rate\n",
    "survival_rate = [1 - (i / len(dying_times_sorted)) for i in range(len(dying_times_sorted))]\n",
    "\n",
    "# Plot the survival curve\n",
    "plt.figure(figsize=(8, 5))\n",
    "plt.plot(dying_times_sorted, survival_rate, marker='o', linestyle='-', color='blue')\n",
    "plt.xlabel('Dying Time (Hours)')\n",
    "plt.ylabel('Survival Rate')\n",
    "plt.title('Survival Curve')\n",
    "plt.grid()\n",
    "plt.tight_layout()\n",
    "plt.show()"
   ]
  },
  {
   "cell_type": "code",
   "execution_count": null,
   "metadata": {},
   "outputs": [],
   "source": [
    "# Visualization\n",
    "\n",
    "# Prepare data for the plot\n",
    "original_lengths = [worms[name].shape[1] for name in worms.keys()]\n",
    "truncated_lengths = [processed_worms[name].shape[1] for name in processed_worms.keys()]\n",
    "worm_ids = list(worms.keys())\n",
    "\n",
    "# Plot the data\n",
    "plt.figure(figsize=(10, 6))\n",
    "plt.bar(worm_ids, original_lengths, label='Original Lifespan', alpha=0.7)\n",
    "plt.bar(worm_ids, truncated_lengths, label='Truncated Lifespan', alpha=0.7)\n",
    "plt.xticks(rotation=45, ha='right')\n",
    "plt.xlabel('Worms')\n",
    "plt.ylabel('Number of Frames')\n",
    "plt.title('Original vs Truncated Lifespan for Each Worm')\n",
    "plt.legend()\n",
    "plt.tight_layout()\n",
    "plt.show()"
   ]
  },
  {
   "cell_type": "markdown",
   "metadata": {},
   "source": [
    "# Step 3 : Standardization\n",
    "> Standardization ensures that all features are on the same scale, typically with a mean of 0 and a standard deviation of 1. This helps models converge faster and makes them less sensitive to the scale of input features.\n",
    "> We should avoid standar"
   ]
  },
  {
   "cell_type": "code",
   "execution_count": null,
   "metadata": {},
   "outputs": [],
   "source": [
    "importlib.reload(helpers)"
   ]
  },
  {
   "cell_type": "code",
   "execution_count": null,
   "metadata": {},
   "outputs": [],
   "source": [
    "# Specify the indices of the features to standardize (e.g., Speed, X, Y)\n",
    "feature_columns = [1, 2, 3, 4]  # Assuming 1 = Speed, 2 = X, 3 = Y, 4 = Changed Pixels\n",
    "\n",
    "# Apply standardization\n",
    "standardized_worms = helpers.standardize_data(processed_worms, feature_columns)"
   ]
  },
  {
   "cell_type": "code",
   "execution_count": null,
   "metadata": {},
   "outputs": [],
   "source": [
    "# Retrieve the worm data\n",
    "worm_5_data = processed_worms['worm_5']  # Assuming worms is your dictionary of worm data\n",
    "\n",
    "# Convert to a DataFrame for easier inspection\n",
    "columns = ['Frame', 'Speed', 'X', 'Y', 'Changed Pixels', 'Category']\n",
    "df_worm_5 = pd.DataFrame(worm_5_data.T, columns=columns)  # Transpose for proper orientation\n",
    "\n",
    "# Display the first few rows\n",
    "print(df_worm_5.head())\n",
    "\n",
    "# Check for NaNs\n",
    "print(\"\\nChecking for NaNs...\")\n",
    "print(df_worm_5.isna().sum())"
   ]
  },
  {
   "cell_type": "code",
   "execution_count": null,
   "metadata": {},
   "outputs": [],
   "source": []
  }
 ],
 "metadata": {
  "kernelspec": {
   "display_name": "MLCourse",
   "language": "python",
   "name": "python3"
  },
  "language_info": {
   "codemirror_mode": {
    "name": "ipython",
    "version": 3
   },
   "file_extension": ".py",
   "mimetype": "text/x-python",
   "name": "python",
   "nbconvert_exporter": "python",
   "pygments_lexer": "ipython3",
   "version": "3.10.8"
  }
 },
 "nbformat": 4,
 "nbformat_minor": 2
}
