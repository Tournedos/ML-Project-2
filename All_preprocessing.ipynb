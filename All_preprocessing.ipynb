{
 "cells": [
  {
   "cell_type": "code",
   "execution_count": null,
   "metadata": {},
   "outputs": [],
   "source": [
    "import os\n",
    "import numpy as np\n",
    "from models import *   \n",
    "import isdead\n",
    "import load_data\n",
    "import nan_imputation\n",
    "import helpers"
   ]
  },
  {
   "cell_type": "code",
   "execution_count": null,
   "metadata": {},
   "outputs": [],
   "source": [
    "# Reload isdead.py\n",
    "import importlib\n",
    "importlib.reload(load_data)\n",
    "importlib.reload(nan_imputation)\n",
    "importlib.reload(helpers)"
   ]
  },
  {
   "cell_type": "markdown",
   "metadata": {},
   "source": [
    "## Step 0 : Load the Data"
   ]
  },
  {
   "cell_type": "code",
   "execution_count": null,
   "metadata": {},
   "outputs": [],
   "source": [
    "repo_root = find_repo_root()\n",
    "repo_root\n",
    "\n",
    "# load data\n",
    "# Define the path to the Lifespan folder\n",
    "\n",
    "#for now test with only control\n",
    "data_path = os.path.join(repo_root, 'Data/Lifespan')"
   ]
  },
  {
   "cell_type": "code",
   "execution_count": null,
   "metadata": {},
   "outputs": [],
   "source": [
    "worms = load_data.load_lifespan(data_path)"
   ]
  },
  {
   "cell_type": "code",
   "execution_count": null,
   "metadata": {},
   "outputs": [],
   "source": [
    "#fdict.pop(\"worm_1_companyDrug\", None)  # The second argument avoids KeyError if the key doesn't exist"
   ]
  },
  {
   "cell_type": "code",
   "execution_count": null,
   "metadata": {},
   "outputs": [],
   "source": [
    "helpers.print_fdict_summary(worms)  \n",
    "\n",
    "# need to calibrate : \n",
    "#companyDrug :\n",
    "# 1 : 53995\n",
    "# 2 : 75594\n",
    "# 3 : 75594\n",
    "# 4 : 75594\n",
    "# 5 : 75594\n",
    "# 6 : 64795\n",
    "# 21 : 75594\n",
    "# 22 : 75594\n",
    "# 23 : 75594\n",
    "# 24 : 75594\n",
    "# 25 : 75594\n",
    "# 26 : 75594\n",
    "# \n",
    "#  control :\n",
    "# 11 : 75594\n",
    "# 12 : 75594\n",
    "# 13 : 75594\n",
    "# 14 : 75594 \n",
    "# 15 : 64795\n",
    "# 16 : 75594\n",
    "# 31 : 53996\n",
    "# 32 : 75594\n",
    "# 33 : 53996\n",
    "# 34 : 53996\n",
    "# 35 : 75594\n",
    "# 36 : 75594"
   ]
  },
  {
   "cell_type": "markdown",
   "metadata": {},
   "source": [
    "## Step 1 : NaN imputation\n",
    "> impute only on X and Y columns since only where there are NaN"
   ]
  },
  {
   "cell_type": "code",
   "execution_count": null,
   "metadata": {},
   "outputs": [],
   "source": [
    "# Replace 'your_dict' with the name of the actual dictionary you want to iterate over, e.g., 'fdict'\n",
    "for name, lifespan_array in worms.items():  # Assuming your dictionary is called fdict\n",
    "    print(f\"Processing {name}\")\n",
    "    lifespan_arrayxy = lifespan_array[2:4,:]  # Extract columns for X and Y\n",
    "    missing_sequences = nan_imputation.count_successive_missing(lifespan_arrayxy)\n",
    "    for start, end, length in missing_sequences:\n",
    "        print(f\"  Missing sequence starts at column {start}, ends at column {end - 1}, length: {length}\")"
   ]
  },
  {
   "cell_type": "code",
   "execution_count": null,
   "metadata": {},
   "outputs": [],
   "source": [
    "print(lifespan_arrayxy)\n",
    "print(f\"Missing sequences for {name}: {missing_sequences}\")"
   ]
  },
  {
   "cell_type": "code",
   "execution_count": null,
   "metadata": {},
   "outputs": [],
   "source": [
    "# Rows to check for missing values (2:4 in zero-based indexing)\n",
    "rows_to_check = slice(2, 4)  # Rows 2 and 3 not row 4\n",
    "\n",
    "# Apply cut_array to each worm in the dataset\n",
    "cut_nan_dict = {name: nan_imputation.cut_array(array, rows_to_check) for name, array in worms.items()}"
   ]
  },
  {
   "cell_type": "code",
   "execution_count": null,
   "metadata": {},
   "outputs": [],
   "source": [
    "# Print the shape of the filtered arrays\n",
    "for name, item in cut_nan_dict.items():\n",
    "    print(f'{name} : {item.shape}')"
   ]
  },
  {
   "cell_type": "markdown",
   "metadata": {},
   "source": [
    "# Step 3 : Splitting the Data\n",
    "> Split the worms in train worms and test worms"
   ]
  },
  {
   "cell_type": "code",
   "execution_count": null,
   "metadata": {},
   "outputs": [],
   "source": [
    "train_worms, test_worms = load_data.split_worms(worms, test_size=0.2)\n",
    "\n",
    "print(f\"Training Worms: {list(train_worms.keys())}\")\n",
    "print(f\"Testing Worms: {list(test_worms.keys())}\")"
   ]
  }
 ],
 "metadata": {
  "kernelspec": {
   "display_name": "MLCourse",
   "language": "python",
   "name": "python3"
  },
  "language_info": {
   "codemirror_mode": {
    "name": "ipython",
    "version": 3
   },
   "file_extension": ".py",
   "mimetype": "text/x-python",
   "name": "python",
   "nbconvert_exporter": "python",
   "pygments_lexer": "ipython3",
   "version": "3.10.8"
  }
 },
 "nbformat": 4,
 "nbformat_minor": 2
}
