{
 "cells": [
  {
   "cell_type": "code",
   "execution_count": 28,
   "metadata": {},
   "outputs": [],
   "source": [
    "import os\n",
    "import numpy as np\n",
    "from helpers import*\n",
    "from models import *   \n",
    "import isdead\n",
    "import load_data\n",
    "import nan_imputation"
   ]
  },
  {
   "cell_type": "code",
   "execution_count": 29,
   "metadata": {},
   "outputs": [
    {
     "data": {
      "text/plain": [
       "<module 'nan_imputation' from '/Users/louistschanz/Documents/EPFL-Cours/MA1/ML/Project-2/ML-Project-2/nan_imputation.py'>"
      ]
     },
     "execution_count": 29,
     "metadata": {},
     "output_type": "execute_result"
    }
   ],
   "source": [
    "# Reload isdead.py\n",
    "import importlib\n",
    "importlib.reload(load_data)\n",
    "importlib.reload(nan_imputation)"
   ]
  },
  {
   "cell_type": "markdown",
   "metadata": {},
   "source": [
    "## Step 0 : Load the Data"
   ]
  },
  {
   "cell_type": "code",
   "execution_count": 30,
   "metadata": {},
   "outputs": [],
   "source": [
    "repo_root = find_repo_root()\n",
    "# load data\n",
    "# Define the path to the Lifespan folder\n",
    "data_path = os.path.join(repo_root, 'Data/Lifespan')"
   ]
  },
  {
   "cell_type": "code",
   "execution_count": 31,
   "metadata": {},
   "outputs": [
    {
     "name": "stdout",
     "output_type": "stream",
     "text": [
      "/Users/louistschanz/Documents/EPFL-Cours/MA1/ML/Project-2/ML-Project-2/Data/Lifespan/control/speeds_and_coordinates_20241016_16_updated.csv\n",
      "File loaded as CSV.\n",
      "/Users/louistschanz/Documents/EPFL-Cours/MA1/ML/Project-2/ML-Project-2/Data/Lifespan/control/speeds_and_coordinates_20241016_31_updated.csv\n",
      "File loaded as CSV.\n",
      "/Users/louistschanz/Documents/EPFL-Cours/MA1/ML/Project-2/ML-Project-2/Data/Lifespan/control/speeds_and_coordinates_20241016_34_updated.csv\n",
      "File loaded as CSV.\n",
      "/Users/louistschanz/Documents/EPFL-Cours/MA1/ML/Project-2/ML-Project-2/Data/Lifespan/control/speeds_and_coordinates_20241016_13_updated.csv\n",
      "File loaded as CSV.\n",
      "/Users/louistschanz/Documents/EPFL-Cours/MA1/ML/Project-2/ML-Project-2/Data/Lifespan/control/speeds_and_coordinates_20241016_32_updated.csv\n",
      "File loaded as CSV.\n",
      "/Users/louistschanz/Documents/EPFL-Cours/MA1/ML/Project-2/ML-Project-2/Data/Lifespan/control/speeds_and_coordinates_20241016_15_updated.csv\n",
      "File loaded as CSV.\n",
      "/Users/louistschanz/Documents/EPFL-Cours/MA1/ML/Project-2/ML-Project-2/Data/Lifespan/control/speeds_and_coordinates_20241016_12_updated.csv\n",
      "File loaded as CSV.\n",
      "/Users/louistschanz/Documents/EPFL-Cours/MA1/ML/Project-2/ML-Project-2/Data/Lifespan/control/speeds_and_coordinates_20241016_35_updated.csv\n",
      "File loaded as CSV.\n",
      "/Users/louistschanz/Documents/EPFL-Cours/MA1/ML/Project-2/ML-Project-2/Data/Lifespan/control/speeds_and_coordinates_20241016_14_updated.csv\n",
      "File loaded as CSV.\n",
      "/Users/louistschanz/Documents/EPFL-Cours/MA1/ML/Project-2/ML-Project-2/Data/Lifespan/control/speeds_and_coordinates_20241016_33_updated.csv\n",
      "File loaded as CSV.\n",
      "/Users/louistschanz/Documents/EPFL-Cours/MA1/ML/Project-2/ML-Project-2/Data/Lifespan/control/speeds_and_coordinates_20241016_36_updated.csv\n",
      "File loaded as CSV.\n",
      "/Users/louistschanz/Documents/EPFL-Cours/MA1/ML/Project-2/ML-Project-2/Data/Lifespan/control/speeds_and_coordinates_20241016_11_updated.csv\n",
      "File loaded as CSV.\n",
      "/Users/louistschanz/Documents/EPFL-Cours/MA1/ML/Project-2/ML-Project-2/Data/Lifespan/companyDrug/speeds_and_coordinates_20241016_1_updated.xlsx\n",
      "/Users/louistschanz/Documents/EPFL-Cours/MA1/ML/Project-2/ML-Project-2/Data/Lifespan/companyDrug/speeds_and_coordinates_20241016_24_updated.csv\n",
      "File loaded as CSV.\n",
      "/Users/louistschanz/Documents/EPFL-Cours/MA1/ML/Project-2/ML-Project-2/Data/Lifespan/companyDrug/~$speeds_and_coordinates_20241016_1_updated.xlsx\n",
      "File loaded as CSV.\n",
      "/Users/louistschanz/Documents/EPFL-Cours/MA1/ML/Project-2/ML-Project-2/Data/Lifespan/companyDrug/speeds_and_coordinates_20241016_3_updated.csv\n",
      "File loaded as CSV.\n",
      "/Users/louistschanz/Documents/EPFL-Cours/MA1/ML/Project-2/ML-Project-2/Data/Lifespan/companyDrug/speeds_and_coordinates_20241016_6_updated.csv\n",
      "File loaded as CSV.\n",
      "/Users/louistschanz/Documents/EPFL-Cours/MA1/ML/Project-2/ML-Project-2/Data/Lifespan/companyDrug/speeds_and_coordinates_20241016_21_updated.csv\n",
      "File loaded as CSV.\n",
      "/Users/louistschanz/Documents/EPFL-Cours/MA1/ML/Project-2/ML-Project-2/Data/Lifespan/companyDrug/speeds_and_coordinates_20241016_22_updated.csv\n",
      "File loaded as CSV.\n",
      "/Users/louistschanz/Documents/EPFL-Cours/MA1/ML/Project-2/ML-Project-2/Data/Lifespan/companyDrug/speeds_and_coordinates_20241016_5_updated.csv\n",
      "File loaded as CSV.\n",
      "/Users/louistschanz/Documents/EPFL-Cours/MA1/ML/Project-2/ML-Project-2/Data/Lifespan/companyDrug/speeds_and_coordinates_20241016_2_updated.csv\n",
      "File loaded as CSV.\n",
      "/Users/louistschanz/Documents/EPFL-Cours/MA1/ML/Project-2/ML-Project-2/Data/Lifespan/companyDrug/speeds_and_coordinates_20241016_25_updated.csv\n",
      "File loaded as CSV.\n",
      "/Users/louistschanz/Documents/EPFL-Cours/MA1/ML/Project-2/ML-Project-2/Data/Lifespan/companyDrug/speeds_and_coordinates_20241016_26_updated.csv\n",
      "File loaded as CSV.\n",
      "/Users/louistschanz/Documents/EPFL-Cours/MA1/ML/Project-2/ML-Project-2/Data/Lifespan/companyDrug/speeds_and_coordinates_20241016_2_updated.xlsx\n",
      "/Users/louistschanz/Documents/EPFL-Cours/MA1/ML/Project-2/ML-Project-2/Data/Lifespan/companyDrug/speeds_and_coordinates_20241016_1_updated.csv\n",
      "File loaded as CSV.\n",
      "/Users/louistschanz/Documents/EPFL-Cours/MA1/ML/Project-2/ML-Project-2/Data/Lifespan/companyDrug/speeds_and_coordinates_20241016_4_updated.csv\n",
      "File loaded as CSV.\n",
      "/Users/louistschanz/Documents/EPFL-Cours/MA1/ML/Project-2/ML-Project-2/Data/Lifespan/companyDrug/speeds_and_coordinates_20241016_23_updated.csv\n",
      "File loaded as CSV.\n"
     ]
    }
   ],
   "source": [
    "fdict = load_data.load_lifespan(data_path)"
   ]
  },
  {
   "cell_type": "markdown",
   "metadata": {},
   "source": [
    "## Step 1 : NaN imputation\n",
    "> impute only on X and Y columns since only where there are NaN"
   ]
  },
  {
   "cell_type": "code",
   "execution_count": 32,
   "metadata": {},
   "outputs": [
    {
     "name": "stderr",
     "output_type": "stream",
     "text": [
      "/var/folders/0_/l7m0lf291p947gwc6cflm9cw0000gn/T/ipykernel_6222/2993027071.py:6: RuntimeWarning: invalid value encountered in scalar divide\n",
      "  nansxy = total_nans / total_elements # Compute the proportion of NaN values\n"
     ]
    }
   ],
   "source": [
    "nan_dict_xy = {}  # Dictionary to store the proportion of NaN values for each worm's X and Y data\n",
    "for name, arr in fdict.items(): # Iterate over each worm in the dataset\n",
    "    new_arr = arr[1:3, :]  # Shape: (2, number_of_frames)/ # Extract only the rows corresponding to X and Y data\n",
    "    total_nans = np.sum(pd.isna(new_arr))  # Counts all NaN values in 'new_arr'\n",
    "    total_elements = new_arr.shape[0] * new_arr.shape[1]  # 2 rows * number_of_frames = total number of elements\n",
    "    nansxy = total_nans / total_elements # Compute the proportion of NaN values    \n",
    "    nan_dict_xy.update({name: nansxy}) # Update the dictionary with the worm's name and the calculated proportion\n",
    "# After the loop, 'nan_dict_xy' contains the proportion of NaN values for each worm"
   ]
  },
  {
   "cell_type": "code",
   "execution_count": 33,
   "metadata": {},
   "outputs": [
    {
     "data": {
      "text/plain": [
       "{'worm_0_control': 0.007798341116240922,\n",
       " 'worm_1_control': 0.005546809889804612,\n",
       " 'worm_2_control': 0.011186220946383925,\n",
       " 'worm_3_control': 0.010126599023719127,\n",
       " 'worm_4_control': 0.019829878427896762,\n",
       " 'worm_5_control': 0.0002700867364262123,\n",
       " 'worm_6_control': 0.035558848041485326,\n",
       " 'worm_7_control': 0.022336724299869035,\n",
       " 'worm_8_control': 0.024942785707671344,\n",
       " 'worm_9_control': 0.016464487452541903,\n",
       " 'worm_10_control': 0.002870636170015742,\n",
       " 'worm_11_control': 0.017600836056248594,\n",
       " 'worm_1_companyDrug': 0.001653592263833953,\n",
       " 'worm_2_companyDrug': nan,\n",
       " 'worm_3_companyDrug': 0.004881404362837829,\n",
       " 'worm_4_companyDrug': 0.002006358613451863,\n",
       " 'worm_5_companyDrug': 0.008506078605161853,\n",
       " 'worm_6_companyDrug': 0.0013096450729564906,\n",
       " 'worm_7_companyDrug': 0.0,\n",
       " 'worm_8_companyDrug': 0.007255962853703385,\n",
       " 'worm_9_companyDrug': 0.018182900533118145,\n",
       " 'worm_10_companyDrug': 0.01293109150318151,\n",
       " 'worm_12_companyDrug': 0.001703861468654505,\n",
       " 'worm_13_companyDrug': 0.005979389626023574,\n",
       " 'worm_14_companyDrug': 0.01373804452793248}"
      ]
     },
     "execution_count": 33,
     "metadata": {},
     "output_type": "execute_result"
    }
   ],
   "source": [
    "nan_dict_xy"
   ]
  },
  {
   "cell_type": "markdown",
   "metadata": {},
   "source": [
    "# Step 1.1 : Identify where both X and Y are NaNs"
   ]
  },
  {
   "cell_type": "code",
   "execution_count": 40,
   "metadata": {},
   "outputs": [
    {
     "ename": "TypeError",
     "evalue": "ufunc 'isnan' not supported for the input types, and the inputs could not be safely coerced to any supported types according to the casting rule ''safe''",
     "output_type": "error",
     "traceback": [
      "\u001b[0;31m---------------------------------------------------------------------------\u001b[0m",
      "\u001b[0;31mTypeError\u001b[0m                                 Traceback (most recent call last)",
      "Cell \u001b[0;32mIn[40], line 4\u001b[0m\n\u001b[1;32m      2\u001b[0m \u001b[38;5;28;01mfor\u001b[39;00m name,arr \u001b[38;5;129;01min\u001b[39;00m fdict\u001b[38;5;241m.\u001b[39mitems():\n\u001b[1;32m      3\u001b[0m     new_arr \u001b[38;5;241m=\u001b[39m arr[\u001b[38;5;241m2\u001b[39m:\u001b[38;5;241m4\u001b[39m,:] \u001b[38;5;66;03m#extract just X and Y to see nans\u001b[39;00m\n\u001b[0;32m----> 4\u001b[0m     nan_cols \u001b[38;5;241m=\u001b[39m \u001b[43mnp\u001b[49m\u001b[38;5;241;43m.\u001b[39;49m\u001b[43misnan\u001b[49m\u001b[43m(\u001b[49m\u001b[43mnew_arr\u001b[49m\u001b[43m)\u001b[49m\u001b[38;5;241m.\u001b[39mall(axis\u001b[38;5;241m=\u001b[39m\u001b[38;5;241m0\u001b[39m)\n\u001b[1;32m      5\u001b[0m     number_of_nan_columns \u001b[38;5;241m=\u001b[39m np\u001b[38;5;241m.\u001b[39msum(nan_cols)\n\u001b[1;32m      6\u001b[0m     ratio \u001b[38;5;241m=\u001b[39m number_of_nan_columns \u001b[38;5;241m/\u001b[39m arr\u001b[38;5;241m.\u001b[39mshape[\u001b[38;5;241m1\u001b[39m]\n",
      "\u001b[0;31mTypeError\u001b[0m: ufunc 'isnan' not supported for the input types, and the inputs could not be safely coerced to any supported types according to the casting rule ''safe''"
     ]
    }
   ],
   "source": [
    "nan_dict_cols = {}\n",
    "for name,arr in fdict.items():\n",
    "    new_arr = arr[2:4,:] #extract just X and Y to see nans\n",
    "    nan_cols = np.isnan(new_arr).all(axis=0)\n",
    "    number_of_nan_columns = np.sum(nan_cols)\n",
    "    ratio = number_of_nan_columns / arr.shape[1]\n",
    "    nan_dict_cols.update({name: ratio})"
   ]
  },
  {
   "cell_type": "code",
   "execution_count": 44,
   "metadata": {},
   "outputs": [
    {
     "data": {
      "text/plain": [
       "{'worm_0_control': 0.015596682232481843,\n",
       " 'worm_1_control': 0.011093619779609223,\n",
       " 'worm_2_control': 0.02237244189276785,\n",
       " 'worm_3_control': 0.020253198047438255,\n",
       " 'worm_4_control': 0.039659756855793524,\n",
       " 'worm_5_control': 0.0005401734728524246,\n",
       " 'worm_6_control': 0.07111769608297065,\n",
       " 'worm_7_control': 0.04467344859973807,\n",
       " 'worm_8_control': 0.04988557141534269,\n",
       " 'worm_9_control': 0.032928974905083806,\n",
       " 'worm_10_control': 0.005741272340031484,\n",
       " 'worm_11_control': 0.03520167211249719,\n",
       " 'worm_1_companyDrug': 0.003307184527667906}"
      ]
     },
     "execution_count": 44,
     "metadata": {},
     "output_type": "execute_result"
    }
   ],
   "source": [
    "nan_dict_cols"
   ]
  },
  {
   "cell_type": "code",
   "execution_count": 45,
   "metadata": {},
   "outputs": [
    {
     "name": "stdout",
     "output_type": "stream",
     "text": [
      "Processing worm_0_control\n",
      "  Missing sequence starts at column 361, ends at column 368, length: 8\n",
      "  Missing sequence starts at column 609, ends at column 610, length: 2\n",
      "  Missing sequence starts at column 859, ends at column 899, length: 41\n",
      "  Missing sequence starts at column 1018, ends at column 1076, length: 59\n",
      "  Missing sequence starts at column 1127, ends at column 1154, length: 28\n",
      "  Missing sequence starts at column 1178, ends at column 1208, length: 31\n",
      "  Missing sequence starts at column 4077, ends at column 4093, length: 17\n",
      "  Missing sequence starts at column 4127, ends at column 4189, length: 63\n",
      "  Missing sequence starts at column 4744, ends at column 4768, length: 25\n",
      "  Missing sequence starts at column 5469, ends at column 5562, length: 94\n",
      "  Missing sequence starts at column 5693, ends at column 5719, length: 27\n",
      "  Missing sequence starts at column 5727, ends at column 5920, length: 194\n",
      "  Missing sequence starts at column 5922, ends at column 5924, length: 3\n",
      "  Missing sequence starts at column 5926, ends at column 5995, length: 70\n",
      "  Missing sequence starts at column 6017, ends at column 6055, length: 39\n",
      "  Missing sequence starts at column 6057, ends at column 6071, length: 15\n",
      "  Missing sequence starts at column 6090, ends at column 6113, length: 24\n",
      "  Missing sequence starts at column 7239, ends at column 7569, length: 331\n",
      "  Missing sequence starts at column 14527, ends at column 14543, length: 17\n",
      "  Missing sequence starts at column 15189, ends at column 15223, length: 35\n",
      "  Missing sequence starts at column 15262, ends at column 15275, length: 14\n",
      "  Missing sequence starts at column 39801, ends at column 39822, length: 22\n",
      "  Missing sequence starts at column 39971, ends at column 39987, length: 17\n",
      "  Missing sequence starts at column 40095, ends at column 40097, length: 3\n",
      "Processing worm_1_control\n",
      "  Missing sequence starts at column 0, ends at column 190, length: 191\n",
      "  Missing sequence starts at column 2746, ends at column 2771, length: 26\n",
      "  Missing sequence starts at column 2861, ends at column 2950, length: 90\n",
      "  Missing sequence starts at column 3244, ends at column 3318, length: 75\n",
      "  Missing sequence starts at column 4445, ends at column 4449, length: 5\n",
      "  Missing sequence starts at column 6521, ends at column 6542, length: 22\n",
      "  Missing sequence starts at column 6673, ends at column 6674, length: 2\n",
      "  Missing sequence starts at column 10233, ends at column 10234, length: 2\n",
      "  Missing sequence starts at column 10379, ends at column 10388, length: 10\n",
      "  Missing sequence starts at column 15790, ends at column 15831, length: 42\n",
      "  Missing sequence starts at column 22543, ends at column 22545, length: 3\n",
      "  Missing sequence starts at column 22547, ends at column 22640, length: 94\n",
      "  Missing sequence starts at column 24179, ends at column 24207, length: 29\n",
      "  Missing sequence starts at column 31490, ends at column 31497, length: 8\n",
      "Processing worm_2_control\n",
      "  Missing sequence starts at column 3599, ends at column 3621, length: 23\n",
      "  Missing sequence starts at column 6948, ends at column 6960, length: 13\n",
      "  Missing sequence starts at column 7004, ends at column 7027, length: 24\n",
      "  Missing sequence starts at column 11270, ends at column 11296, length: 27\n",
      "  Missing sequence starts at column 11310, ends at column 11329, length: 20\n",
      "  Missing sequence starts at column 13182, ends at column 13303, length: 122\n",
      "  Missing sequence starts at column 13922, ends at column 13949, length: 28\n",
      "  Missing sequence starts at column 14950, ends at column 14965, length: 16\n",
      "  Missing sequence starts at column 14974, ends at column 14984, length: 11\n",
      "  Missing sequence starts at column 15023, ends at column 15031, length: 9\n",
      "  Missing sequence starts at column 15033, ends at column 15038, length: 6\n",
      "  Missing sequence starts at column 15201, ends at column 15204, length: 4\n",
      "  Missing sequence starts at column 15230, ends at column 15233, length: 4\n",
      "  Missing sequence starts at column 41396, ends at column 42296, length: 901\n",
      "Processing worm_3_control\n",
      "  Missing sequence starts at column 899, ends at column 1799, length: 901\n",
      "  Missing sequence starts at column 3436, ends at column 3447, length: 12\n",
      "  Missing sequence starts at column 4140, ends at column 4154, length: 15\n",
      "  Missing sequence starts at column 5553, ends at column 5577, length: 25\n",
      "  Missing sequence starts at column 5923, ends at column 5936, length: 14\n",
      "  Missing sequence starts at column 5954, ends at column 5970, length: 17\n",
      "  Missing sequence starts at column 7691, ends at column 7699, length: 9\n",
      "  Missing sequence starts at column 7703, ends at column 7840, length: 138\n",
      "  Missing sequence starts at column 9386, ends at column 9388, length: 3\n",
      "  Missing sequence starts at column 10142, ends at column 10193, length: 52\n",
      "  Missing sequence starts at column 10213, ends at column 10312, length: 100\n",
      "  Missing sequence starts at column 10738, ends at column 10771, length: 34\n",
      "  Missing sequence starts at column 17704, ends at column 17720, length: 17\n",
      "  Missing sequence starts at column 18383, ends at column 18387, length: 5\n",
      "  Missing sequence starts at column 21955, ends at column 21979, length: 25\n",
      "  Missing sequence starts at column 22038, ends at column 22075, length: 38\n",
      "  Missing sequence starts at column 22196, ends at column 22239, length: 44\n",
      "  Missing sequence starts at column 24397, ends at column 24399, length: 3\n",
      "  Missing sequence starts at column 24416, ends at column 24494, length: 79\n",
      "Processing worm_4_control\n",
      "  Missing sequence starts at column 0, ends at column 899, length: 900\n",
      "  Missing sequence starts at column 3899, ends at column 3903, length: 5\n",
      "  Missing sequence starts at column 3935, ends at column 3952, length: 18\n",
      "  Missing sequence starts at column 4103, ends at column 4148, length: 46\n",
      "  Missing sequence starts at column 4156, ends at column 4306, length: 151\n",
      "  Missing sequence starts at column 6118, ends at column 6126, length: 9\n",
      "  Missing sequence starts at column 7199, ends at column 8099, length: 901\n",
      "  Missing sequence starts at column 9628, ends at column 9637, length: 10\n",
      "  Missing sequence starts at column 10284, ends at column 10295, length: 12\n",
      "  Missing sequence starts at column 10722, ends at column 10728, length: 7\n",
      "  Missing sequence starts at column 41396, ends at column 41734, length: 339\n",
      "  Missing sequence starts at column 41782, ends at column 42140, length: 359\n",
      "  Missing sequence starts at column 42142, ends at column 42296, length: 155\n",
      "  Missing sequence starts at column 42307, ends at column 42308, length: 2\n",
      "  Missing sequence starts at column 42480, ends at column 42498, length: 19\n",
      "  Missing sequence starts at column 42505, ends at column 42511, length: 7\n",
      "  Missing sequence starts at column 42548, ends at column 42553, length: 6\n",
      "  Missing sequence starts at column 42555, ends at column 42556, length: 2\n",
      "  Missing sequence starts at column 42560, ends at column 42561, length: 2\n",
      "  Missing sequence starts at column 42566, ends at column 42608, length: 43\n",
      "  Missing sequence starts at column 42610, ends at column 42612, length: 3\n",
      "  Missing sequence starts at column 42615, ends at column 42616, length: 2\n",
      "Processing worm_5_control\n",
      "  Missing sequence starts at column 872, ends at column 899, length: 28\n",
      "  Missing sequence starts at column 5775, ends at column 5779, length: 5\n",
      "  Missing sequence starts at column 5835, ends at column 5836, length: 2\n",
      "Processing worm_6_control\n",
      "  Missing sequence starts at column 2681, ends at column 2699, length: 19\n",
      "  Missing sequence starts at column 6972, ends at column 7125, length: 154\n",
      "  Missing sequence starts at column 7127, ends at column 7199, length: 73\n",
      "  Missing sequence starts at column 8194, ends at column 8484, length: 291\n",
      "  Missing sequence starts at column 8657, ends at column 8665, length: 9\n",
      "  Missing sequence starts at column 8710, ends at column 8759, length: 50\n",
      "  Missing sequence starts at column 8882, ends at column 8904, length: 23\n",
      "  Missing sequence starts at column 8920, ends at column 8921, length: 2\n",
      "  Missing sequence starts at column 8927, ends at column 8967, length: 41\n",
      "  Missing sequence starts at column 9899, ends at column 10058, length: 160\n",
      "  Missing sequence starts at column 10763, ends at column 10766, length: 4\n",
      "  Missing sequence starts at column 11692, ends at column 11697, length: 6\n",
      "  Missing sequence starts at column 13990, ends at column 14121, length: 132\n",
      "  Missing sequence starts at column 14241, ends at column 14398, length: 158\n",
      "  Missing sequence starts at column 16198, ends at column 16255, length: 58\n",
      "  Missing sequence starts at column 21598, ends at column 21972, length: 375\n",
      "  Missing sequence starts at column 21978, ends at column 22497, length: 520\n",
      "  Missing sequence starts at column 22869, ends at column 22874, length: 6\n",
      "  Missing sequence starts at column 32397, ends at column 33296, length: 900\n",
      "  Missing sequence starts at column 37796, ends at column 39596, length: 1801\n",
      "  Missing sequence starts at column 47635, ends at column 47695, length: 61\n",
      "  Missing sequence starts at column 60798, ends at column 60864, length: 67\n",
      "  Missing sequence starts at column 62885, ends at column 62994, length: 110\n",
      "  Missing sequence starts at column 63894, ends at column 64001, length: 108\n",
      "  Missing sequence starts at column 64013, ends at column 64035, length: 23\n",
      "  Missing sequence starts at column 64074, ends at column 64298, length: 225\n",
      "Processing worm_7_control\n",
      "  Missing sequence starts at column 753, ends at column 894, length: 142\n",
      "  Missing sequence starts at column 3451, ends at column 3544, length: 94\n",
      "  Missing sequence starts at column 4705, ends at column 4720, length: 16\n",
      "  Missing sequence starts at column 4831, ends at column 4911, length: 81\n",
      "  Missing sequence starts at column 6301, ends at column 6336, length: 36\n",
      "  Missing sequence starts at column 6346, ends at column 6355, length: 10\n",
      "  Missing sequence starts at column 6544, ends at column 6560, length: 17\n",
      "  Missing sequence starts at column 6882, ends at column 6883, length: 2\n",
      "  Missing sequence starts at column 8094, ends at column 8099, length: 6\n",
      "  Missing sequence starts at column 8841, ends at column 8842, length: 2\n",
      "  Missing sequence starts at column 11698, ends at column 11742, length: 45\n",
      "  Missing sequence starts at column 15168, ends at column 15216, length: 49\n",
      "  Missing sequence starts at column 29772, ends at column 29774, length: 3\n",
      "  Missing sequence starts at column 35984, ends at column 35995, length: 12\n",
      "  Missing sequence starts at column 44504, ends at column 44505, length: 2\n",
      "  Missing sequence starts at column 44508, ends at column 45566, length: 1059\n",
      "  Missing sequence starts at column 45895, ends at column 47695, length: 1801\n",
      "Processing worm_8_control\n",
      "  Missing sequence starts at column 0, ends at column 443, length: 444\n",
      "  Missing sequence starts at column 453, ends at column 899, length: 447\n",
      "  Missing sequence starts at column 2142, ends at column 2699, length: 558\n",
      "  Missing sequence starts at column 5096, ends at column 5149, length: 54\n",
      "  Missing sequence starts at column 5399, ends at column 5632, length: 234\n",
      "  Missing sequence starts at column 5934, ends at column 5973, length: 40\n",
      "  Missing sequence starts at column 6846, ends at column 6853, length: 8\n",
      "  Missing sequence starts at column 6864, ends at column 6866, length: 3\n",
      "  Missing sequence starts at column 6870, ends at column 6891, length: 22\n",
      "  Missing sequence starts at column 6933, ends at column 6992, length: 60\n",
      "  Missing sequence starts at column 7662, ends at column 7847, length: 186\n",
      "  Missing sequence starts at column 8515, ends at column 8542, length: 28\n",
      "  Missing sequence starts at column 8577, ends at column 8624, length: 48\n",
      "  Missing sequence starts at column 11251, ends at column 11252, length: 2\n",
      "  Missing sequence starts at column 11386, ends at column 11395, length: 10\n",
      "  Missing sequence starts at column 11398, ends at column 11418, length: 21\n",
      "  Missing sequence starts at column 11608, ends at column 11614, length: 7\n",
      "  Missing sequence starts at column 13305, ends at column 13366, length: 62\n",
      "  Missing sequence starts at column 14715, ends at column 14731, length: 17\n",
      "  Missing sequence starts at column 14766, ends at column 14773, length: 8\n",
      "  Missing sequence starts at column 15126, ends at column 15297, length: 172\n",
      "  Missing sequence starts at column 22324, ends at column 22497, length: 174\n",
      "  Missing sequence starts at column 39596, ends at column 40496, length: 901\n",
      "  Missing sequence starts at column 41132, ends at column 41396, length: 265\n",
      "Processing worm_9_control\n",
      "  Missing sequence starts at column 979, ends at column 1020, length: 42\n",
      "  Missing sequence starts at column 1050, ends at column 1109, length: 60\n",
      "  Missing sequence starts at column 1424, ends at column 1458, length: 35\n",
      "  Missing sequence starts at column 1497, ends at column 1558, length: 62\n",
      "  Missing sequence starts at column 1654, ends at column 1799, length: 146\n",
      "  Missing sequence starts at column 1852, ends at column 1907, length: 56\n",
      "  Missing sequence starts at column 1911, ends at column 1920, length: 10\n",
      "  Missing sequence starts at column 2089, ends at column 2111, length: 23\n",
      "  Missing sequence starts at column 2169, ends at column 2315, length: 147\n",
      "  Missing sequence starts at column 2482, ends at column 2557, length: 76\n",
      "  Missing sequence starts at column 2673, ends at column 2694, length: 22\n",
      "  Missing sequence starts at column 2834, ends at column 2851, length: 18\n",
      "  Missing sequence starts at column 2892, ends at column 2898, length: 7\n",
      "  Missing sequence starts at column 5843, ends at column 5872, length: 30\n",
      "  Missing sequence starts at column 6193, ends at column 6242, length: 50\n",
      "  Missing sequence starts at column 8061, ends at column 8068, length: 8\n",
      "  Missing sequence starts at column 8597, ends at column 8599, length: 3\n",
      "  Missing sequence starts at column 9710, ends at column 9715, length: 6\n",
      "  Missing sequence starts at column 9887, ends at column 9899, length: 13\n",
      "  Missing sequence starts at column 10185, ends at column 10186, length: 2\n",
      "  Missing sequence starts at column 12056, ends at column 12094, length: 39\n",
      "  Missing sequence starts at column 12150, ends at column 12159, length: 10\n",
      "  Missing sequence starts at column 22846, ends at column 22892, length: 47\n",
      "  Missing sequence starts at column 28398, ends at column 28414, length: 17\n",
      "  Missing sequence starts at column 44095, ends at column 44943, length: 849\n",
      "Processing worm_10_control\n",
      "  Missing sequence starts at column 9231, ends at column 9232, length: 2\n",
      "  Missing sequence starts at column 9768, ends at column 9798, length: 31\n",
      "  Missing sequence starts at column 9895, ends at column 9899, length: 5\n",
      "  Missing sequence starts at column 11761, ends at column 11762, length: 2\n",
      "  Missing sequence starts at column 14195, ends at column 14202, length: 8\n",
      "  Missing sequence starts at column 36668, ends at column 36684, length: 17\n",
      "  Missing sequence starts at column 59569, ends at column 59937, length: 369\n",
      "Processing worm_11_control\n",
      "  Missing sequence starts at column 2699, ends at column 2851, length: 153\n",
      "  Missing sequence starts at column 6622, ends at column 6636, length: 15\n",
      "  Missing sequence starts at column 6696, ends at column 6728, length: 33\n",
      "  Missing sequence starts at column 6900, ends at column 6928, length: 29\n",
      "  Missing sequence starts at column 7063, ends at column 7077, length: 15\n",
      "  Missing sequence starts at column 7082, ends at column 7094, length: 13\n",
      "  Missing sequence starts at column 7174, ends at column 7199, length: 26\n",
      "  Missing sequence starts at column 8405, ends at column 8418, length: 14\n",
      "  Missing sequence starts at column 8476, ends at column 8480, length: 5\n",
      "  Missing sequence starts at column 8999, ends at column 9235, length: 237\n",
      "  Missing sequence starts at column 9860, ends at column 9899, length: 40\n",
      "  Missing sequence starts at column 11855, ends at column 11883, length: 29\n",
      "  Missing sequence starts at column 12598, ends at column 12619, length: 22\n",
      "  Missing sequence starts at column 12777, ends at column 12789, length: 13\n",
      "  Missing sequence starts at column 12889, ends at column 12940, length: 52\n",
      "  Missing sequence starts at column 12996, ends at column 13103, length: 108\n",
      "  Missing sequence starts at column 13174, ends at column 13227, length: 54\n",
      "  Missing sequence starts at column 13412, ends at column 13542, length: 131\n",
      "  Missing sequence starts at column 15600, ends at column 16198, length: 599\n",
      "  Missing sequence starts at column 19208, ends at column 19220, length: 13\n",
      "  Missing sequence starts at column 19238, ends at column 19538, length: 301\n",
      "  Missing sequence starts at column 19798, ends at column 19828, length: 31\n",
      "  Missing sequence starts at column 19861, ends at column 19930, length: 70\n",
      "  Missing sequence starts at column 19966, ends at column 20623, length: 658\n",
      "Processing worm_1_companyDrug\n",
      "  Missing sequence starts at column 4691, ends at column 4709, length: 19\n",
      "  Missing sequence starts at column 7386, ends at column 7444, length: 59\n",
      "  Missing sequence starts at column 7449, ends at column 7467, length: 19\n",
      "  Missing sequence starts at column 9899, ends at column 9908, length: 10\n",
      "  Missing sequence starts at column 9972, ends at column 9994, length: 23\n",
      "  Missing sequence starts at column 11698, ends at column 11704, length: 7\n",
      "  Missing sequence starts at column 11709, ends at column 11749, length: 41\n",
      "  Missing sequence starts at column 11766, ends at column 11772, length: 7\n",
      "  Missing sequence starts at column 11811, ends at column 11827, length: 17\n",
      "  Missing sequence starts at column 11836, ends at column 11857, length: 22\n",
      "  Missing sequence starts at column 14592, ends at column 14602, length: 11\n",
      "  Missing sequence starts at column 14617, ends at column 14629, length: 13\n",
      "  Missing sequence starts at column 14829, ends at column 14830, length: 2\n",
      "Processing worm_2_companyDrug\n"
     ]
    },
    {
     "ename": "TypeError",
     "evalue": "ufunc 'isnan' not supported for the input types, and the inputs could not be safely coerced to any supported types according to the casting rule ''safe''",
     "output_type": "error",
     "traceback": [
      "\u001b[0;31m---------------------------------------------------------------------------\u001b[0m",
      "\u001b[0;31mTypeError\u001b[0m                                 Traceback (most recent call last)",
      "Cell \u001b[0;32mIn[45], line 5\u001b[0m\n\u001b[1;32m      3\u001b[0m \u001b[38;5;28mprint\u001b[39m(\u001b[38;5;124mf\u001b[39m\u001b[38;5;124m\"\u001b[39m\u001b[38;5;124mProcessing \u001b[39m\u001b[38;5;132;01m{\u001b[39;00mname\u001b[38;5;132;01m}\u001b[39;00m\u001b[38;5;124m\"\u001b[39m)\n\u001b[1;32m      4\u001b[0m lifespan_arrayxy \u001b[38;5;241m=\u001b[39m lifespan_array[\u001b[38;5;241m2\u001b[39m:\u001b[38;5;241m4\u001b[39m,:] \u001b[38;5;66;03m# Extract rows for X and Y\u001b[39;00m\n\u001b[0;32m----> 5\u001b[0m missing_sequences \u001b[38;5;241m=\u001b[39m \u001b[43mnan_imputation\u001b[49m\u001b[38;5;241;43m.\u001b[39;49m\u001b[43mcount_successive_missing\u001b[49m\u001b[43m(\u001b[49m\u001b[43mlifespan_arrayxy\u001b[49m\u001b[43m)\u001b[49m\n\u001b[1;32m      6\u001b[0m \u001b[38;5;28;01mfor\u001b[39;00m start, end, length \u001b[38;5;129;01min\u001b[39;00m missing_sequences:\n\u001b[1;32m      7\u001b[0m     \u001b[38;5;28mprint\u001b[39m(\u001b[38;5;124mf\u001b[39m\u001b[38;5;124m\"\u001b[39m\u001b[38;5;124m  Missing sequence starts at column \u001b[39m\u001b[38;5;132;01m{\u001b[39;00mstart\u001b[38;5;132;01m}\u001b[39;00m\u001b[38;5;124m, ends at column \u001b[39m\u001b[38;5;132;01m{\u001b[39;00mend\u001b[38;5;250m \u001b[39m\u001b[38;5;241m-\u001b[39m\u001b[38;5;250m \u001b[39m\u001b[38;5;241m1\u001b[39m\u001b[38;5;132;01m}\u001b[39;00m\u001b[38;5;124m, length: \u001b[39m\u001b[38;5;132;01m{\u001b[39;00mlength\u001b[38;5;132;01m}\u001b[39;00m\u001b[38;5;124m\"\u001b[39m)\n",
      "File \u001b[0;32m~/Documents/EPFL-Cours/MA1/ML/Project-2/ML-Project-2/nan_imputation.py:34\u001b[0m, in \u001b[0;36mcount_successive_missing\u001b[0;34m(array)\u001b[0m\n\u001b[1;32m     24\u001b[0m \u001b[38;5;28;01mdef\u001b[39;00m \u001b[38;5;21mcount_successive_missing\u001b[39m(array):\n\u001b[1;32m     25\u001b[0m \u001b[38;5;250m    \u001b[39m\u001b[38;5;124;03m\"\"\"\u001b[39;00m\n\u001b[1;32m     26\u001b[0m \u001b[38;5;124;03m    Identifies sequences of consecutive NaN values in a 2D array.\u001b[39;00m\n\u001b[1;32m     27\u001b[0m \n\u001b[0;32m   (...)\u001b[0m\n\u001b[1;32m     32\u001b[0m \u001b[38;5;124;03m        list of tuples: Each tuple contains (start_index, end_index, length) of consecutive NaN sequences.\u001b[39;00m\n\u001b[1;32m     33\u001b[0m \u001b[38;5;124;03m    \"\"\"\u001b[39;00m\n\u001b[0;32m---> 34\u001b[0m     missing_mask \u001b[38;5;241m=\u001b[39m \u001b[43mnp\u001b[49m\u001b[38;5;241;43m.\u001b[39;49m\u001b[43misnan\u001b[49m\u001b[43m(\u001b[49m\u001b[43marray\u001b[49m\u001b[43m)\u001b[49m  \u001b[38;5;66;03m# Create a boolean mask where NaN is True\u001b[39;00m\n\u001b[1;32m     35\u001b[0m     successive_counts \u001b[38;5;241m=\u001b[39m np\u001b[38;5;241m.\u001b[39mdiff(\n\u001b[1;32m     36\u001b[0m         np\u001b[38;5;241m.\u001b[39mconcatenate(([\u001b[38;5;28;01mFalse\u001b[39;00m], missing_mask\u001b[38;5;241m.\u001b[39many(axis\u001b[38;5;241m=\u001b[39m\u001b[38;5;241m0\u001b[39m), [\u001b[38;5;28;01mFalse\u001b[39;00m]))\u001b[38;5;241m.\u001b[39mastype(\u001b[38;5;28mint\u001b[39m)\n\u001b[1;32m     37\u001b[0m     )\n\u001b[1;32m     38\u001b[0m     start_indices \u001b[38;5;241m=\u001b[39m np\u001b[38;5;241m.\u001b[39mwhere(successive_counts \u001b[38;5;241m==\u001b[39m \u001b[38;5;241m1\u001b[39m)[\u001b[38;5;241m0\u001b[39m]  \u001b[38;5;66;03m# Start of NaN sequences\u001b[39;00m\n",
      "\u001b[0;31mTypeError\u001b[0m: ufunc 'isnan' not supported for the input types, and the inputs could not be safely coerced to any supported types according to the casting rule ''safe''"
     ]
    }
   ],
   "source": [
    "# Iterate over the dictionary\n",
    "for name, lifespan_array in fdict.items():\n",
    "    print(f\"Processing {name}\")\n",
    "    lifespan_arrayxy = lifespan_array[2:4,:] # Extract rows for X and Y\n",
    "    missing_sequences = nan_imputation.count_successive_missing(lifespan_arrayxy)\n",
    "    for start, end, length in missing_sequences:\n",
    "        print(f\"  Missing sequence starts at column {start}, ends at column {end - 1}, length: {length}\")"
   ]
  },
  {
   "cell_type": "code",
   "execution_count": 20,
   "metadata": {},
   "outputs": [
    {
     "ename": "TypeError",
     "evalue": "ufunc 'isnan' not supported for the input types, and the inputs could not be safely coerced to any supported types according to the casting rule ''safe''",
     "output_type": "error",
     "traceback": [
      "\u001b[0;31m---------------------------------------------------------------------------\u001b[0m",
      "\u001b[0;31mTypeError\u001b[0m                                 Traceback (most recent call last)",
      "Cell \u001b[0;32mIn[20], line 5\u001b[0m\n\u001b[1;32m      2\u001b[0m rows_to_check \u001b[38;5;241m=\u001b[39m \u001b[38;5;28mslice\u001b[39m(\u001b[38;5;241m2\u001b[39m, \u001b[38;5;241m4\u001b[39m)  \u001b[38;5;66;03m# Rows 2 and 3 not row 4\u001b[39;00m\n\u001b[1;32m      4\u001b[0m \u001b[38;5;66;03m# Apply cut_array to each worm in the dataset\u001b[39;00m\n\u001b[0;32m----> 5\u001b[0m cut_lifespan_dict \u001b[38;5;241m=\u001b[39m {name: nan_imputation\u001b[38;5;241m.\u001b[39mcut_array(array, rows_to_check) \u001b[38;5;28;01mfor\u001b[39;00m name, array \u001b[38;5;129;01min\u001b[39;00m fdict\u001b[38;5;241m.\u001b[39mitems()}\n",
      "Cell \u001b[0;32mIn[20], line 5\u001b[0m, in \u001b[0;36m<dictcomp>\u001b[0;34m(.0)\u001b[0m\n\u001b[1;32m      2\u001b[0m rows_to_check \u001b[38;5;241m=\u001b[39m \u001b[38;5;28mslice\u001b[39m(\u001b[38;5;241m2\u001b[39m, \u001b[38;5;241m4\u001b[39m)  \u001b[38;5;66;03m# Rows 2 and 3 not row 4\u001b[39;00m\n\u001b[1;32m      4\u001b[0m \u001b[38;5;66;03m# Apply cut_array to each worm in the dataset\u001b[39;00m\n\u001b[0;32m----> 5\u001b[0m cut_lifespan_dict \u001b[38;5;241m=\u001b[39m {name: \u001b[43mnan_imputation\u001b[49m\u001b[38;5;241;43m.\u001b[39;49m\u001b[43mcut_array\u001b[49m\u001b[43m(\u001b[49m\u001b[43marray\u001b[49m\u001b[43m,\u001b[49m\u001b[43m \u001b[49m\u001b[43mrows_to_check\u001b[49m\u001b[43m)\u001b[49m \u001b[38;5;28;01mfor\u001b[39;00m name, array \u001b[38;5;129;01min\u001b[39;00m fdict\u001b[38;5;241m.\u001b[39mitems()}\n",
      "File \u001b[0;32m~/Documents/EPFL-Cours/MA1/ML/Project-2/ML-Project-2/nan_imputation.py:58\u001b[0m, in \u001b[0;36mcut_array\u001b[0;34m(array, rows_to_check)\u001b[0m\n\u001b[1;32m     44\u001b[0m \u001b[38;5;250m\u001b[39m\u001b[38;5;124;03m\"\"\"\u001b[39;00m\n\u001b[1;32m     45\u001b[0m \u001b[38;5;124;03mFilters a NumPy array to retain only columns without NaNs in the specified rows.\u001b[39;00m\n\u001b[1;32m     46\u001b[0m \u001b[38;5;124;03m\u001b[39;00m\n\u001b[0;32m   (...)\u001b[0m\n\u001b[1;32m     52\u001b[0m \u001b[38;5;124;03m    np.ndarray: A filtered 2D array with only valid columns (no NaNs in the specified rows).\u001b[39;00m\n\u001b[1;32m     53\u001b[0m \u001b[38;5;124;03m\"\"\"\u001b[39;00m\n\u001b[1;32m     54\u001b[0m \u001b[38;5;66;03m# Check for NaNs in the specified rows\u001b[39;00m\n\u001b[1;32m     55\u001b[0m \u001b[38;5;66;03m# `~np.isnan(...)`: Creates a boolean mask where True means \"not NaN\"\u001b[39;00m\n\u001b[1;32m     56\u001b[0m \u001b[38;5;66;03m# `.any(axis=0)`: Checks if any NaN exists in each column of the specified rows\u001b[39;00m\n\u001b[1;32m     57\u001b[0m \u001b[38;5;66;03m# `~`: Negates the boolean mask to identify valid (non-NaN) columns\u001b[39;00m\n\u001b[0;32m---> 58\u001b[0m missing_mask \u001b[38;5;241m=\u001b[39m \u001b[38;5;241m~\u001b[39m\u001b[43mnp\u001b[49m\u001b[38;5;241;43m.\u001b[39;49m\u001b[43misnan\u001b[49m\u001b[43m(\u001b[49m\u001b[43marray\u001b[49m\u001b[43m[\u001b[49m\u001b[43mrows_to_check\u001b[49m\u001b[43m,\u001b[49m\u001b[43m \u001b[49m\u001b[43m:\u001b[49m\u001b[43m]\u001b[49m\u001b[43m)\u001b[49m\u001b[38;5;241m.\u001b[39many(axis\u001b[38;5;241m=\u001b[39m\u001b[38;5;241m0\u001b[39m)  \n\u001b[1;32m     60\u001b[0m \u001b[38;5;66;03m# Use the mask to filter columns, retaining all rows but excluding invalid columns\u001b[39;00m\n\u001b[1;32m     61\u001b[0m \u001b[38;5;28;01mreturn\u001b[39;00m array[:, missing_mask]\n",
      "\u001b[0;31mTypeError\u001b[0m: ufunc 'isnan' not supported for the input types, and the inputs could not be safely coerced to any supported types according to the casting rule ''safe''"
     ]
    }
   ],
   "source": [
    "# Rows to check for missing values (2:4 in zero-based indexing)\n",
    "rows_to_check = slice(2, 4)  # Rows 2 and 3 not row 4\n",
    "\n",
    "# Apply cut_array to each worm in the dataset\n",
    "cut_lifespan_dict = {name: nan_imputation.cut_array(array, rows_to_check) for name, array in fdict.items()}"
   ]
  },
  {
   "cell_type": "code",
   "execution_count": 46,
   "metadata": {},
   "outputs": [
    {
     "ename": "NameError",
     "evalue": "name 'cut_lifespan_dict' is not defined",
     "output_type": "error",
     "traceback": [
      "\u001b[0;31m---------------------------------------------------------------------------\u001b[0m",
      "\u001b[0;31mNameError\u001b[0m                                 Traceback (most recent call last)",
      "Cell \u001b[0;32mIn[46], line 2\u001b[0m\n\u001b[1;32m      1\u001b[0m \u001b[38;5;66;03m# Print the shape of the filtered arrays\u001b[39;00m\n\u001b[0;32m----> 2\u001b[0m \u001b[38;5;28;01mfor\u001b[39;00m name, item \u001b[38;5;129;01min\u001b[39;00m \u001b[43mcut_lifespan_dict\u001b[49m\u001b[38;5;241m.\u001b[39mitems():\n\u001b[1;32m      3\u001b[0m     \u001b[38;5;28mprint\u001b[39m(\u001b[38;5;124mf\u001b[39m\u001b[38;5;124m'\u001b[39m\u001b[38;5;132;01m{\u001b[39;00mname\u001b[38;5;132;01m}\u001b[39;00m\u001b[38;5;124m : \u001b[39m\u001b[38;5;132;01m{\u001b[39;00mitem\u001b[38;5;241m.\u001b[39mshape\u001b[38;5;132;01m}\u001b[39;00m\u001b[38;5;124m'\u001b[39m)\n",
      "\u001b[0;31mNameError\u001b[0m: name 'cut_lifespan_dict' is not defined"
     ]
    }
   ],
   "source": [
    "# Print the shape of the filtered arrays\n",
    "for name, item in cut_lifespan_dict.items():\n",
    "    print(f'{name} : {item.shape}')"
   ]
  }
 ],
 "metadata": {
  "kernelspec": {
   "display_name": "MLCourse",
   "language": "python",
   "name": "python3"
  },
  "language_info": {
   "codemirror_mode": {
    "name": "ipython",
    "version": 3
   },
   "file_extension": ".py",
   "mimetype": "text/x-python",
   "name": "python",
   "nbconvert_exporter": "python",
   "pygments_lexer": "ipython3",
   "version": "3.10.8"
  }
 },
 "nbformat": 4,
 "nbformat_minor": 2
}
