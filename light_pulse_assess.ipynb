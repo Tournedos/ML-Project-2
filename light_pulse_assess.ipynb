{
 "cells": [
  {
   "cell_type": "markdown",
   "metadata": {},
   "source": [
    "# Observe behavior before and during a light pulse"
   ]
  },
  {
   "cell_type": "code",
   "execution_count": 11,
   "metadata": {},
   "outputs": [],
   "source": [
    "import load_data as ld\n",
    "import helpers as hp\n",
    "import nan_imputation as ni\n",
    "import light_pusle as lp\n",
    "import os\n",
    "import pandas as pd\n",
    "import numpy as np"
   ]
  },
  {
   "cell_type": "code",
   "execution_count": 12,
   "metadata": {},
   "outputs": [
    {
     "data": {
      "text/plain": [
       "<module 'light_pusle' from 'c:\\\\Users\\\\msgar\\\\OneDrive\\\\Documents\\\\EPFL\\\\Cours\\\\MA1\\\\Machine_Learning\\\\ML_project2\\\\ML-Project-2\\\\light_pusle.py'>"
      ]
     },
     "execution_count": 12,
     "metadata": {},
     "output_type": "execute_result"
    }
   ],
   "source": [
    "import importlib\n",
    "importlib.reload(lp)"
   ]
  },
  {
   "cell_type": "markdown",
   "metadata": {},
   "source": [
    "### Load data and remove NaN"
   ]
  },
  {
   "cell_type": "code",
   "execution_count": 13,
   "metadata": {},
   "outputs": [],
   "source": [
    "# Load data\n",
    "repo_root = hp.find_repo_root()\n",
    "optogenetics_path = os.path.join(repo_root, 'Data', 'Optogenetics')\n",
    "opto_data = ld.load_optogenetics(optogenetics_path)"
   ]
  },
  {
   "cell_type": "code",
   "execution_count": 14,
   "metadata": {},
   "outputs": [],
   "source": [
    "# Remove rows with NaN values\n",
    "rows_to_check = slice(2, 4)\n",
    "cut_nan_dict = {name: ni.cut_array(array, rows_to_check) for name, array in opto_data.items()}"
   ]
  },
  {
   "cell_type": "markdown",
   "metadata": {},
   "source": [
    "### Create plots that comapare speed and changed pixels before and during light pulse"
   ]
  },
  {
   "cell_type": "code",
   "execution_count": 15,
   "metadata": {},
   "outputs": [],
   "source": [
    "# Process each worm in `cut_nan_dict`\n",
    "for worm_name, worm_array in cut_nan_dict.items():    \n",
    "    # Convert NumPy array to DataFrame\n",
    "    worm_df = pd.DataFrame(\n",
    "        worm_array.T, \n",
    "        columns=['Frame', 'Speed', 'X', 'Y', 'Changed Pixels', 'Light_Pulse', 'Category']\n",
    "    )\n",
    "    # Detect light pulses\n",
    "    light_pulses = lp.detect_light_pulses(worm_df, pulse_column='Light_Pulse', pulse_length_min=8, pulse_length_max=15)\n",
    "    if light_pulses:\n",
    "        \n",
    "        # Compare behavior before and during light pulses\n",
    "        behavior_comparisons = lp.compare_behavior_before_during(worm_df, light_pulses)\n",
    "        #print(behavior_comparisons)\n",
    "        \n",
    "        # Visualize changes (Speed and Changed Pixels)\n",
    "        for feature in ['Speed', 'Changed Pixels']:\n",
    "            lp.plot_behavior_changes(behavior_comparisons, feature, worm_name)\n",
    "    else:\n",
    "        print(f\"No valid light pulses detected for {worm_name}.\")"
   ]
  },
  {
   "cell_type": "markdown",
   "metadata": {},
   "source": [
    "### Train a classifier"
   ]
  },
  {
   "cell_type": "code",
   "execution_count": 16,
   "metadata": {},
   "outputs": [
    {
     "name": "stdout",
     "output_type": "stream",
     "text": [
      "Classification Report:\n",
      "              precision    recall  f1-score   support\n",
      "\n",
      "           0       0.97      0.97      0.97       300\n",
      "           1       0.97      0.96      0.96       249\n",
      "\n",
      "    accuracy                           0.97       549\n",
      "   macro avg       0.97      0.97      0.97       549\n",
      "weighted avg       0.97      0.97      0.97       549\n",
      "\n",
      "Accuracy: 0.97\n",
      "\n",
      "Feature Importances:\n",
      "                 Feature  Importance\n",
      "3  Changed Pixels During    0.416911\n",
      "1           Speed During    0.324342\n",
      "5        Distance During    0.079878\n",
      "2  Changed Pixels Before    0.070371\n",
      "4        Distance Before    0.054480\n",
      "0           Speed Before    0.054018\n",
      "Feature importances saved to: c:\\Users\\msgar\\OneDrive\\Documents\\EPFL\\Cours\\MA1\\Machine_Learning\\ML_project2\\ML-Project-2\\Data\\Plots\\light_pulses\\feature_importances.csv\n"
     ]
    }
   ],
   "source": [
    "from sklearn.model_selection import train_test_split\n",
    "from sklearn.ensemble import RandomForestClassifier\n",
    "from sklearn.metrics import classification_report, accuracy_score\n",
    "\n",
    "# Initialize list to store all behavior comparisons for all worms\n",
    "all_comparisons = []\n",
    "\n",
    "# Process each worm in `cut_nan_dict`\n",
    "for worm_name, worm_array in cut_nan_dict.items():\n",
    "    # Convert NumPy array to DataFrame\n",
    "    worm_df = pd.DataFrame(\n",
    "        worm_array.T, \n",
    "        columns=['Frame', 'Speed', 'X', 'Y', 'Changed Pixels', 'Light Pulse', 'Category']\n",
    "    )\n",
    "    # Detect light pulses\n",
    "    light_pulses = lp.detect_light_pulses(worm_df, pulse_column='Light Pulse', pulse_length_min=8, pulse_length_max=15)\n",
    "    if light_pulses:\n",
    "        # Compare behavior before and during light pulses\n",
    "        behavior_comparisons = lp.compare_behavior_before_during(worm_df, light_pulses)\n",
    "        behavior_comparisons['Worm Type'] = worm_df['Category'].iloc[0]  # Add ATR+ or ATR- information\n",
    "        behavior_comparisons['Worm Name'] = worm_name  # Add worm name\n",
    "        all_comparisons.append(behavior_comparisons)\n",
    "\n",
    "# Combine all behavior comparisons into a single DataFrame\n",
    "comparison_df = pd.concat(all_comparisons, ignore_index=True)\n",
    "\n",
    "# Assign labels: Reactive (ATR+) = 1, Non-Reactive (ATR-) = 0\n",
    "comparison_df['Reactive'] = comparison_df['Worm Type'].apply(lambda x: 1 if x == 1 else 0)\n",
    "\n",
    "# Select features and labels for the classifier\n",
    "features = comparison_df[['Speed Before', 'Speed During', 'Changed Pixels Before', 'Changed Pixels During',\n",
    "                          'Distance Before', 'Distance During']]\n",
    "labels = comparison_df['Reactive']\n",
    "\n",
    "# Split the data into training and testing sets\n",
    "X_train, X_test, y_train, y_test = train_test_split(features, labels, test_size=0.2, random_state=42)\n",
    "\n",
    "# Train a Random Forest Classifier\n",
    "classifier = RandomForestClassifier(random_state=42)\n",
    "classifier.fit(X_train, y_train)\n",
    "\n",
    "# Predict on the test set\n",
    "y_pred = classifier.predict(X_test)\n",
    "\n",
    "# Evaluate the model\n",
    "print(\"Classification Report:\")\n",
    "print(classification_report(y_test, y_pred))\n",
    "print(f\"Accuracy: {accuracy_score(y_test, y_pred):.2f}\")\n",
    "\n",
    "# Feature Importances\n",
    "feature_importances = pd.DataFrame({\n",
    "    'Feature': features.columns,\n",
    "    'Importance': classifier.feature_importances_\n",
    "}).sort_values(by='Importance', ascending=False)\n",
    "\n",
    "print(\"\\nFeature Importances:\")\n",
    "print(feature_importances)\n",
    "\n",
    "# Save feature importances\n",
    "repo_root = hp.find_repo_root()\n",
    "output_path = os.path.join(repo_root, 'Data', 'Plots', 'light_pulses', 'feature_importances.csv')\n",
    "feature_importances.to_csv(output_path, index=False)\n",
    "print(f\"Feature importances saved to: {output_path}\")\n"
   ]
  },
  {
   "cell_type": "code",
   "execution_count": 17,
   "metadata": {},
   "outputs": [
    {
     "name": "stderr",
     "output_type": "stream",
     "text": [
      "C:\\Users\\msgar\\AppData\\Local\\Temp\\ipykernel_15444\\2415212398.py:15: FutureWarning: \n",
      "\n",
      "Passing `palette` without assigning `hue` is deprecated and will be removed in v0.14.0. Assign the `x` variable to `hue` and set `legend=False` for the same effect.\n",
      "\n",
      "  sns.boxplot(\n",
      "C:\\Users\\msgar\\AppData\\Local\\Temp\\ipykernel_15444\\2415212398.py:15: FutureWarning: \n",
      "\n",
      "Passing `palette` without assigning `hue` is deprecated and will be removed in v0.14.0. Assign the `x` variable to `hue` and set `legend=False` for the same effect.\n",
      "\n",
      "  sns.boxplot(\n"
     ]
    }
   ],
   "source": [
    "import os\n",
    "import matplotlib.pyplot as plt\n",
    "import seaborn as sns\n",
    "\n",
    "# Map worm type to descriptive labels\n",
    "comparison_df['Worm Type'] = comparison_df['Worm Type'].map({0: 'Non-Reactive', 1: 'Reactive'})\n",
    "\n",
    "# Define the features to visualize\n",
    "features = ['Speed During', 'Changed Pixels During']\n",
    "\n",
    "# Iterate through each feature to create boxplots\n",
    "for feature in features:\n",
    "    # Create the boxplot\n",
    "    plt.figure(figsize=(10, 6))\n",
    "    sns.boxplot(\n",
    "        data=comparison_df,\n",
    "        x='Worm Type',\n",
    "        y=feature,\n",
    "        palette={\"Non-Reactive\": \"skyblue\", \"Reactive\": \"orange\"}  # Keys match string labels\n",
    "    )\n",
    "    plt.title(f\"{feature} Comparison Between Reactive and Non-Reactive Worms\", fontsize=14)\n",
    "    plt.xlabel(\"Worm Type\", fontsize=12)\n",
    "    plt.ylabel(feature, fontsize=12)\n",
    "    plt.grid(axis='y', linestyle='--', alpha=0.7)\n",
    "    plt.tight_layout()\n",
    "\n",
    "    # Save the plot\n",
    "    output_dir = os.path.join(repo_root, 'Data', 'Plots', 'light_pulses', 'classifier')\n",
    "    os.makedirs(output_dir, exist_ok=True)\n",
    "    output_path = os.path.join(output_dir, f\"{feature}_comparison_reactive_nonreactive.png\")\n",
    "    plt.savefig(output_path)\n",
    "\n",
    "    # Close the plot to avoid overlap\n",
    "    plt.close()"
   ]
  }
 ],
 "metadata": {
  "kernelspec": {
   "display_name": "env_ML",
   "language": "python",
   "name": "python3"
  },
  "language_info": {
   "codemirror_mode": {
    "name": "ipython",
    "version": 3
   },
   "file_extension": ".py",
   "mimetype": "text/x-python",
   "name": "python",
   "nbconvert_exporter": "python",
   "pygments_lexer": "ipython3",
   "version": "3.9.20"
  }
 },
 "nbformat": 4,
 "nbformat_minor": 2
}
