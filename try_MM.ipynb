{
 "cells": [
  {
   "cell_type": "code",
   "execution_count": 2,
   "metadata": {},
   "outputs": [],
   "source": [
    "import os\n",
    "import numpy as np\n",
    "from helpers import *\n",
    "from models import *   \n",
    "from nan_imputation import impute_nan\n",
    "import matplotlib.pyplot as plt\n",
    "from sksurv.nonparametric import kaplan_meier_estimator\n",
    "from load_data import load_lifespan, load_earlylifespan\n",
    "from nan_imputation import *"
   ]
  },
  {
   "cell_type": "code",
   "execution_count": 3,
   "metadata": {},
   "outputs": [
    {
     "name": "stdout",
     "output_type": "stream",
     "text": [
      "c:\\Users\\Utente\\Documents\\GitHub\\ML-Project-2\\Data\\Lifespan/control\\speeds_and_coordinates_20241016_11_updated.csv\n",
      "File loaded as CSV.\n",
      "c:\\Users\\Utente\\Documents\\GitHub\\ML-Project-2\\Data\\Lifespan/control\\speeds_and_coordinates_20241016_12_updated.csv\n",
      "File loaded as CSV.\n",
      "c:\\Users\\Utente\\Documents\\GitHub\\ML-Project-2\\Data\\Lifespan/control\\speeds_and_coordinates_20241016_13_updated.csv\n",
      "File loaded as CSV.\n",
      "c:\\Users\\Utente\\Documents\\GitHub\\ML-Project-2\\Data\\Lifespan/control\\speeds_and_coordinates_20241016_14_updated.csv\n",
      "File loaded as CSV.\n",
      "c:\\Users\\Utente\\Documents\\GitHub\\ML-Project-2\\Data\\Lifespan/control\\speeds_and_coordinates_20241016_15_updated.csv\n",
      "File loaded as CSV.\n",
      "c:\\Users\\Utente\\Documents\\GitHub\\ML-Project-2\\Data\\Lifespan/control\\speeds_and_coordinates_20241016_16_updated.csv\n",
      "File loaded as CSV.\n",
      "c:\\Users\\Utente\\Documents\\GitHub\\ML-Project-2\\Data\\Lifespan/control\\speeds_and_coordinates_20241016_31_updated.csv\n",
      "File loaded as CSV.\n",
      "c:\\Users\\Utente\\Documents\\GitHub\\ML-Project-2\\Data\\Lifespan/control\\speeds_and_coordinates_20241016_32_updated.csv\n",
      "File loaded as CSV.\n",
      "c:\\Users\\Utente\\Documents\\GitHub\\ML-Project-2\\Data\\Lifespan/control\\speeds_and_coordinates_20241016_33_updated.csv\n",
      "File loaded as CSV.\n",
      "c:\\Users\\Utente\\Documents\\GitHub\\ML-Project-2\\Data\\Lifespan/control\\speeds_and_coordinates_20241016_34_updated.csv\n",
      "File loaded as CSV.\n",
      "c:\\Users\\Utente\\Documents\\GitHub\\ML-Project-2\\Data\\Lifespan/control\\speeds_and_coordinates_20241016_35_updated.csv\n",
      "File loaded as CSV.\n",
      "c:\\Users\\Utente\\Documents\\GitHub\\ML-Project-2\\Data\\Lifespan/control\\speeds_and_coordinates_20241016_36_updated.csv\n",
      "File loaded as CSV.\n",
      "c:\\Users\\Utente\\Documents\\GitHub\\ML-Project-2\\Data\\Lifespan/companyDrug\\speeds_and_coordinates_20241016_1_updated.csv\n",
      "File loaded as CSV.\n",
      "c:\\Users\\Utente\\Documents\\GitHub\\ML-Project-2\\Data\\Lifespan/companyDrug\\speeds_and_coordinates_20241016_1_updated.xlsx\n",
      "c:\\Users\\Utente\\Documents\\GitHub\\ML-Project-2\\Data\\Lifespan/companyDrug\\speeds_and_coordinates_20241016_21_updated.csv\n",
      "File loaded as CSV.\n",
      "c:\\Users\\Utente\\Documents\\GitHub\\ML-Project-2\\Data\\Lifespan/companyDrug\\speeds_and_coordinates_20241016_22_updated.csv\n",
      "File loaded as CSV.\n",
      "c:\\Users\\Utente\\Documents\\GitHub\\ML-Project-2\\Data\\Lifespan/companyDrug\\speeds_and_coordinates_20241016_23_updated.csv\n",
      "File loaded as CSV.\n",
      "c:\\Users\\Utente\\Documents\\GitHub\\ML-Project-2\\Data\\Lifespan/companyDrug\\speeds_and_coordinates_20241016_24_updated.csv\n",
      "File loaded as CSV.\n",
      "c:\\Users\\Utente\\Documents\\GitHub\\ML-Project-2\\Data\\Lifespan/companyDrug\\speeds_and_coordinates_20241016_25_updated.csv\n",
      "File loaded as CSV.\n",
      "c:\\Users\\Utente\\Documents\\GitHub\\ML-Project-2\\Data\\Lifespan/companyDrug\\speeds_and_coordinates_20241016_26_updated.csv\n",
      "File loaded as CSV.\n",
      "c:\\Users\\Utente\\Documents\\GitHub\\ML-Project-2\\Data\\Lifespan/companyDrug\\speeds_and_coordinates_20241016_2_updated.csv\n",
      "File loaded as CSV.\n",
      "c:\\Users\\Utente\\Documents\\GitHub\\ML-Project-2\\Data\\Lifespan/companyDrug\\speeds_and_coordinates_20241016_2_updated.xlsx\n",
      "c:\\Users\\Utente\\Documents\\GitHub\\ML-Project-2\\Data\\Lifespan/companyDrug\\speeds_and_coordinates_20241016_3_updated.csv\n",
      "File loaded as CSV.\n",
      "c:\\Users\\Utente\\Documents\\GitHub\\ML-Project-2\\Data\\Lifespan/companyDrug\\speeds_and_coordinates_20241016_4_updated.csv\n",
      "File loaded as CSV.\n",
      "c:\\Users\\Utente\\Documents\\GitHub\\ML-Project-2\\Data\\Lifespan/companyDrug\\speeds_and_coordinates_20241016_5_updated.csv\n",
      "File loaded as CSV.\n",
      "c:\\Users\\Utente\\Documents\\GitHub\\ML-Project-2\\Data\\Lifespan/companyDrug\\speeds_and_coordinates_20241016_6_updated.csv\n",
      "File loaded as CSV.\n",
      "c:\\Users\\Utente\\Documents\\GitHub\\ML-Project-2\\Data\\Lifespan/companyDrug\\~$speeds_and_coordinates_20241016_1_updated.xlsx\n",
      "File loaded as CSV.\n",
      "c:\\Users\\Utente\\Documents\\GitHub\\ML-Project-2\\Data\\Lifespan/Terbinafin\\speeds_and_coordinates_20240924_1.csv\n",
      "File loaded as CSV.\n",
      "c:\\Users\\Utente\\Documents\\GitHub\\ML-Project-2\\Data\\Lifespan/Terbinafin\\speeds_and_coordinates_20240924_2.csv\n",
      "File loaded as CSV.\n",
      "c:\\Users\\Utente\\Documents\\GitHub\\ML-Project-2\\Data\\Lifespan/Terbinafin\\speeds_and_coordinates_20240924_21.csv\n",
      "File loaded as CSV.\n",
      "c:\\Users\\Utente\\Documents\\GitHub\\ML-Project-2\\Data\\Lifespan/Terbinafin\\speeds_and_coordinates_20240924_22.csv\n",
      "File loaded as CSV.\n",
      "c:\\Users\\Utente\\Documents\\GitHub\\ML-Project-2\\Data\\Lifespan/Terbinafin\\speeds_and_coordinates_20240924_23.csv\n",
      "File loaded as CSV.\n",
      "c:\\Users\\Utente\\Documents\\GitHub\\ML-Project-2\\Data\\Lifespan/Terbinafin\\speeds_and_coordinates_20240924_24.csv\n",
      "File loaded as CSV.\n",
      "c:\\Users\\Utente\\Documents\\GitHub\\ML-Project-2\\Data\\Lifespan/Terbinafin\\speeds_and_coordinates_20240924_25.csv\n",
      "File loaded as CSV.\n",
      "c:\\Users\\Utente\\Documents\\GitHub\\ML-Project-2\\Data\\Lifespan/Terbinafin\\speeds_and_coordinates_20240924_26.csv\n",
      "File loaded as CSV.\n",
      "c:\\Users\\Utente\\Documents\\GitHub\\ML-Project-2\\Data\\Lifespan/Terbinafin\\speeds_and_coordinates_20240924_3.csv\n",
      "File loaded as CSV.\n",
      "c:\\Users\\Utente\\Documents\\GitHub\\ML-Project-2\\Data\\Lifespan/Terbinafin\\speeds_and_coordinates_20240924_4.csv\n",
      "File loaded as CSV.\n",
      "c:\\Users\\Utente\\Documents\\GitHub\\ML-Project-2\\Data\\Lifespan/Terbinafin\\speeds_and_coordinates_20240924_5.csv\n",
      "File loaded as CSV.\n",
      "c:\\Users\\Utente\\Documents\\GitHub\\ML-Project-2\\Data\\Lifespan/Terbinafin\\speeds_and_coordinates_20240924_6.csv\n",
      "File loaded as CSV.\n",
      "c:\\Users\\Utente\\Documents\\GitHub\\ML-Project-2\\Data\\Optogenetics/ATR+\\speeds_and_coordinates_02piworm13_2_updated.csv\n",
      "File loaded as CSV.\n",
      "c:\\Users\\Utente\\Documents\\GitHub\\ML-Project-2\\Data\\Optogenetics/ATR+\\speeds_and_coordinates_02piworm13_3_updated.csv\n",
      "File loaded as CSV.\n",
      "c:\\Users\\Utente\\Documents\\GitHub\\ML-Project-2\\Data\\Optogenetics/ATR+\\speeds_and_coordinates_02piworm13_5_updated.csv\n",
      "File loaded as CSV.\n",
      "c:\\Users\\Utente\\Documents\\GitHub\\ML-Project-2\\Data\\Optogenetics/ATR+\\speeds_and_coordinates_02piworm13_5_updated.xlsx\n",
      "c:\\Users\\Utente\\Documents\\GitHub\\ML-Project-2\\Data\\Optogenetics/ATR+\\speeds_and_coordinates_02piworm13_6_updated.csv\n",
      "File loaded as CSV.\n",
      "c:\\Users\\Utente\\Documents\\GitHub\\ML-Project-2\\Data\\Optogenetics/ATR+\\speeds_and_coordinates_02piworm15_2_updated.csv\n",
      "File loaded as CSV.\n",
      "c:\\Users\\Utente\\Documents\\GitHub\\ML-Project-2\\Data\\Optogenetics/ATR+\\speeds_and_coordinates_08piworm13_4_updated.csv\n",
      "File loaded as CSV.\n",
      "c:\\Users\\Utente\\Documents\\GitHub\\ML-Project-2\\Data\\Optogenetics/ATR+\\speeds_and_coordinates_08piworm13_6_updated.csv\n",
      "File loaded as CSV.\n",
      "c:\\Users\\Utente\\Documents\\GitHub\\ML-Project-2\\Data\\Optogenetics/ATR+\\speeds_and_coordinates_08piworm15_3_updated.csv\n",
      "File loaded as CSV.\n",
      "c:\\Users\\Utente\\Documents\\GitHub\\ML-Project-2\\Data\\Optogenetics/ATR+\\speeds_and_coordinates_08piworm15_6_updated.csv\n",
      "File loaded as CSV.\n",
      "c:\\Users\\Utente\\Documents\\GitHub\\ML-Project-2\\Data\\Optogenetics/ATR+\\speeds_and_coordinates_08piworm15_6_updated.xlsx\n",
      "c:\\Users\\Utente\\Documents\\GitHub\\ML-Project-2\\Data\\Optogenetics/ATR+\\speeds_and_coordinates_13piworm13_4_updated.csv\n",
      "File loaded as CSV.\n",
      "c:\\Users\\Utente\\Documents\\GitHub\\ML-Project-2\\Data\\Optogenetics/ATR+\\speeds_and_coordinates_13piworm15_1_updated.csv\n",
      "File loaded as CSV.\n",
      "c:\\Users\\Utente\\Documents\\GitHub\\ML-Project-2\\Data\\Optogenetics/ATR+\\speeds_and_coordinates_13piworm15_3_updated.csv\n",
      "File loaded as CSV.\n",
      "c:\\Users\\Utente\\Documents\\GitHub\\ML-Project-2\\Data\\Optogenetics/ATR+\\speeds_and_coordinates_20piworm13_4_updated.csv\n",
      "File loaded as CSV.\n",
      "c:\\Users\\Utente\\Documents\\GitHub\\ML-Project-2\\Data\\Optogenetics/ATR+\\speeds_and_coordinates_20piworm13_6_updated.csv\n",
      "File loaded as CSV.\n",
      "c:\\Users\\Utente\\Documents\\GitHub\\ML-Project-2\\Data\\Optogenetics/ATR+\\speeds_and_coordinates_20piworm15_2_updated.csv\n",
      "File loaded as CSV.\n",
      "c:\\Users\\Utente\\Documents\\GitHub\\ML-Project-2\\Data\\Optogenetics/ATR+\\speeds_and_coordinates_27piworm13_1_updated.csv\n",
      "File loaded as CSV.\n",
      "c:\\Users\\Utente\\Documents\\GitHub\\ML-Project-2\\Data\\Optogenetics/ATR+\\speeds_and_coordinates_27piworm13_4_updated.csv\n",
      "File loaded as CSV.\n",
      "c:\\Users\\Utente\\Documents\\GitHub\\ML-Project-2\\Data\\Optogenetics/ATR+\\speeds_and_coordinates_27piworm13_5_updated.csv\n",
      "File loaded as CSV.\n",
      "c:\\Users\\Utente\\Documents\\GitHub\\ML-Project-2\\Data\\Optogenetics/ATR+\\speeds_and_coordinates_27piworm15_4_updated.csv\n",
      "File loaded as CSV.\n",
      "c:\\Users\\Utente\\Documents\\GitHub\\ML-Project-2\\Data\\Optogenetics/ATR+\\speeds_and_coordinates_27piworm15_4_updated.xlsx\n",
      "c:\\Users\\Utente\\Documents\\GitHub\\ML-Project-2\\Data\\Optogenetics/ATR+\\speeds_and_coordinates_27piworm15_6_updated.csv\n",
      "File loaded as CSV.\n",
      "c:\\Users\\Utente\\Documents\\GitHub\\ML-Project-2\\Data\\Optogenetics/ATR-\\speeds_and_coordinates_02piworm16_2_updated.csv\n",
      "File loaded as CSV.\n",
      "c:\\Users\\Utente\\Documents\\GitHub\\ML-Project-2\\Data\\Optogenetics/ATR-\\speeds_and_coordinates_02piworm16_4_updated.csv\n",
      "File loaded as CSV.\n",
      "c:\\Users\\Utente\\Documents\\GitHub\\ML-Project-2\\Data\\Optogenetics/ATR-\\speeds_and_coordinates_08piworm14_4_updated.csv\n",
      "File loaded as CSV.\n",
      "c:\\Users\\Utente\\Documents\\GitHub\\ML-Project-2\\Data\\Optogenetics/ATR-\\speeds_and_coordinates_08piworm14_5_updated.csv\n",
      "File loaded as CSV.\n",
      "c:\\Users\\Utente\\Documents\\GitHub\\ML-Project-2\\Data\\Optogenetics/ATR-\\speeds_and_coordinates_08piworm14_6_updated.csv\n",
      "File loaded as CSV.\n",
      "c:\\Users\\Utente\\Documents\\GitHub\\ML-Project-2\\Data\\Optogenetics/ATR-\\speeds_and_coordinates_08piworm16_3_updated.csv\n",
      "File loaded as CSV.\n",
      "c:\\Users\\Utente\\Documents\\GitHub\\ML-Project-2\\Data\\Optogenetics/ATR-\\speeds_and_coordinates_08piworm16_6_updated.csv\n",
      "File loaded as CSV.\n",
      "c:\\Users\\Utente\\Documents\\GitHub\\ML-Project-2\\Data\\Optogenetics/ATR-\\speeds_and_coordinates_13piworm14_2_updated.csv\n",
      "File loaded as CSV.\n",
      "c:\\Users\\Utente\\Documents\\GitHub\\ML-Project-2\\Data\\Optogenetics/ATR-\\speeds_and_coordinates_13piworm14_3_updated.csv\n",
      "File loaded as CSV.\n",
      "c:\\Users\\Utente\\Documents\\GitHub\\ML-Project-2\\Data\\Optogenetics/ATR-\\speeds_and_coordinates_13piworm14_4_updated.csv\n",
      "File loaded as CSV.\n",
      "c:\\Users\\Utente\\Documents\\GitHub\\ML-Project-2\\Data\\Optogenetics/ATR-\\speeds_and_coordinates_13piworm14_5_updated.csv\n",
      "File loaded as CSV.\n",
      "c:\\Users\\Utente\\Documents\\GitHub\\ML-Project-2\\Data\\Optogenetics/ATR-\\speeds_and_coordinates_13piworm16_6_updated.csv\n",
      "File loaded as CSV.\n",
      "c:\\Users\\Utente\\Documents\\GitHub\\ML-Project-2\\Data\\Optogenetics/ATR-\\speeds_and_coordinates_20piworm14_2_updated.csv\n",
      "File loaded as CSV.\n",
      "c:\\Users\\Utente\\Documents\\GitHub\\ML-Project-2\\Data\\Optogenetics/ATR-\\speeds_and_coordinates_20piworm14_5_updated.csv\n",
      "File loaded as CSV.\n",
      "c:\\Users\\Utente\\Documents\\GitHub\\ML-Project-2\\Data\\Optogenetics/ATR-\\speeds_and_coordinates_20piworm14_6_updated.csv\n",
      "File loaded as CSV.\n",
      "c:\\Users\\Utente\\Documents\\GitHub\\ML-Project-2\\Data\\Optogenetics/ATR-\\speeds_and_coordinates_20piworm16_3_updated.csv\n",
      "File loaded as CSV.\n",
      "c:\\Users\\Utente\\Documents\\GitHub\\ML-Project-2\\Data\\Optogenetics/ATR-\\speeds_and_coordinates_20piworm16_4_updated.csv\n",
      "File loaded as CSV.\n",
      "c:\\Users\\Utente\\Documents\\GitHub\\ML-Project-2\\Data\\Optogenetics/ATR-\\speeds_and_coordinates_20piworm16_5_updated.csv\n",
      "File loaded as CSV.\n",
      "c:\\Users\\Utente\\Documents\\GitHub\\ML-Project-2\\Data\\Optogenetics/ATR-\\speeds_and_coordinates_27piworm14_5_updated.csv\n",
      "File loaded as CSV.\n",
      "c:\\Users\\Utente\\Documents\\GitHub\\ML-Project-2\\Data\\Optogenetics/ATR-\\speeds_and_coordinates_27piworm16_2_updated.csv\n",
      "File loaded as CSV.\n",
      "c:\\Users\\Utente\\Documents\\GitHub\\ML-Project-2\\Data\\Optogenetics/ATR-\\speeds_and_coordinates_27piworm16_2_updated.xlsx\n",
      "c:\\Users\\Utente\\Documents\\GitHub\\ML-Project-2\\Data\\Optogenetics/ATR-\\speeds_and_coordinates_27piworm16_4_updated.csv\n",
      "File loaded as CSV.\n",
      "c:\\Users\\Utente\\Documents\\GitHub\\ML-Project-2\\Data\\Optogenetics/ATR-\\speeds_and_coordinates_27piworm16_6_updated.csv\n",
      "File loaded as CSV.\n"
     ]
    }
   ],
   "source": [
    "repo_root = find_repo_root()\n",
    "data_path = os.path.join(repo_root, 'Data')\n",
    "fdict = load_lifespan(data_path)"
   ]
  },
  {
   "cell_type": "code",
   "execution_count": 4,
   "metadata": {},
   "outputs": [
    {
     "data": {
      "text/plain": [
       "array([], shape=(1, 0), dtype=object)"
      ]
     },
     "execution_count": 4,
     "metadata": {},
     "output_type": "execute_result"
    }
   ],
   "source": [
    "fdict.pop('worm_14_Lifespan/companyDrug')"
   ]
  },
  {
   "cell_type": "code",
   "execution_count": 5,
   "metadata": {},
   "outputs": [],
   "source": [
    "# Rows to check for missing values (2:4 in zero-based indexing)\n",
    "rows_to_check = slice(2, 4)  # Rows 2, 3, 4\n",
    "\n",
    "# Process all arrays in the dictionary\n",
    "cut_lifespan_dict = {name: cut_array(array, rows_to_check) for name, array in fdict.items()}"
   ]
  },
  {
   "cell_type": "code",
   "execution_count": 6,
   "metadata": {},
   "outputs": [
    {
     "name": "stdout",
     "output_type": "stream",
     "text": [
      "control\n",
      "control\n",
      "control\n",
      "control\n",
      "control\n",
      "control\n",
      "control\n",
      "control\n",
      "control\n",
      "control\n",
      "control\n",
      "control\n",
      "companyDrug\n",
      "companyDrug\n",
      "companyDrug\n",
      "companyDrug\n",
      "companyDrug\n",
      "companyDrug\n",
      "companyDrug\n",
      "companyDrug\n",
      "companyDrug\n",
      "companyDrug\n",
      "companyDrug\n",
      "companyDrug\n",
      "Terbinafin\n",
      "Terbinafin\n",
      "Terbinafin\n",
      "Terbinafin\n",
      "Terbinafin\n",
      "Terbinafin\n",
      "Terbinafin\n",
      "Terbinafin\n",
      "Terbinafin\n",
      "Terbinafin\n",
      "Terbinafin\n",
      "Terbinafin\n",
      "ATR+\n",
      "ATR+\n",
      "ATR+\n",
      "ATR+\n",
      "ATR+\n",
      "ATR+\n",
      "ATR+\n",
      "ATR+\n",
      "ATR+\n",
      "ATR+\n",
      "ATR+\n",
      "ATR+\n",
      "ATR+\n",
      "ATR+\n",
      "ATR+\n",
      "ATR+\n",
      "ATR+\n",
      "ATR+\n",
      "ATR+\n",
      "ATR+\n",
      "ATR-\n",
      "ATR-\n",
      "ATR-\n",
      "ATR-\n",
      "ATR-\n",
      "ATR-\n",
      "ATR-\n",
      "ATR-\n",
      "ATR-\n",
      "ATR-\n",
      "ATR-\n",
      "ATR-\n",
      "ATR-\n",
      "ATR-\n",
      "ATR-\n",
      "ATR-\n",
      "ATR-\n",
      "ATR-\n",
      "ATR-\n",
      "ATR-\n",
      "ATR-\n",
      "ATR-\n"
     ]
    }
   ],
   "source": [
    "for name, item in cut_lifespan_dict.items():\n",
    "    print(name.split(sep='/')[1])"
   ]
  },
  {
   "cell_type": "code",
   "execution_count": null,
   "metadata": {},
   "outputs": [],
   "source": [
    "lenghts = np.zeros(shape=(len(cut_lifespan_dict), 2))\n",
    "idx = 0 \n",
    "for name, item in cut_lifespan_dict.items():\n",
    "    currname = name.split(sep='/')[1]\n",
    "    if (currname == 'control') or (currname == 'controlTebrafin'):\n",
    "        lenghts[idx,0] = 0\n",
    "        lenghts[idx, 1] = item.shape[1]\n",
    "    elif currname == 'companyDrug':\n",
    "        lenghts[idx,0] = 1\n",
    "        lenghts[idx, 1] = item.shape[1]\n",
    "    elif currname == 'Tebrafin':\n",
    "        lenghts[idx,0] = 2\n",
    "        lenghts[idx, 1] = item.shape[1]    \n",
    "    elif currname == 'ATR+':\n",
    "        lenghts[idx,0] = 3\n",
    "        lenghts[idx, 1] = item.shape[1]\n",
    "    elif currname == 'ATR-':\n",
    "        lenghts[idx,0] = 4\n",
    "        lenghts[idx, 1] = item.shape[1]\n",
    "    idx += 1\n",
    "idx = 0"
   ]
  },
  {
   "cell_type": "code",
   "execution_count": 8,
   "metadata": {},
   "outputs": [
    {
     "data": {
      "text/plain": [
       "Text(0.5, 0, 'time $t$')"
      ]
     },
     "execution_count": 8,
     "metadata": {},
     "output_type": "execute_result"
    },
    {
     "data": {
      "image/png": "[encoded data removed]",
      "text/plain": [
       "<Figure size 640x480 with 1 Axes>"
      ]
     },
     "metadata": {},
     "output_type": "display_data"
    }
   ],
   "source": [
    "larr = np.array(lenghts[:,1])\n",
    "stat = np.full(larr.shape, True)\n",
    "time, survival_prob, conf_int = kaplan_meier_estimator(\n",
    "    stat, larr, conf_type=\"log-log\"\n",
    ")\n",
    "plt.step(time, survival_prob, where=\"post\")\n",
    "plt.fill_between(time, conf_int[0], conf_int[1], alpha=0.25, step=\"post\")\n",
    "plt.ylim(0, 1)\n",
    "plt.ylabel(r\"est. probability of survival $\\hat{S}(t)$\")\n",
    "plt.xlabel(\"time $t$\")"
   ]
  },
  {
   "cell_type": "code",
   "execution_count": 9,
   "metadata": {},
   "outputs": [
    {
     "name": "stdout",
     "output_type": "stream",
     "text": [
      "worm name: worm_0_Lifespan/control\n",
      "worm name: worm_1_Lifespan/control\n",
      "worm name: worm_2_Lifespan/control\n",
      "worm name: worm_3_Lifespan/control\n",
      "worm name: worm_4_Lifespan/control\n",
      "worm name: worm_5_Lifespan/control\n",
      "worm name: worm_6_Lifespan/control\n",
      "worm name: worm_7_Lifespan/control\n",
      "worm name: worm_8_Lifespan/control\n",
      "worm name: worm_9_Lifespan/control\n",
      "worm name: worm_10_Lifespan/control\n",
      "worm name: worm_11_Lifespan/control\n",
      "worm name: worm_0_Lifespan/companyDrug\n",
      "worm name: worm_2_Lifespan/companyDrug\n",
      "worm name: worm_3_Lifespan/companyDrug\n",
      "worm name: worm_4_Lifespan/companyDrug\n",
      "worm name: worm_5_Lifespan/companyDrug\n",
      "worm name: worm_6_Lifespan/companyDrug\n",
      "worm name: worm_7_Lifespan/companyDrug\n",
      "worm name: worm_8_Lifespan/companyDrug\n",
      "worm name: worm_10_Lifespan/companyDrug\n",
      "worm name: worm_11_Lifespan/companyDrug\n",
      "worm name: worm_12_Lifespan/companyDrug\n",
      "worm name: worm_13_Lifespan/companyDrug\n",
      "worm name: worm_0_Lifespan/Terbinafin\n",
      "worm name: worm_1_Lifespan/Terbinafin\n",
      "worm name: worm_2_Lifespan/Terbinafin\n",
      "worm name: worm_3_Lifespan/Terbinafin\n",
      "worm name: worm_4_Lifespan/Terbinafin\n",
      "worm name: worm_5_Lifespan/Terbinafin\n",
      "worm name: worm_6_Lifespan/Terbinafin\n",
      "worm name: worm_7_Lifespan/Terbinafin\n",
      "worm name: worm_8_Lifespan/Terbinafin\n",
      "worm name: worm_9_Lifespan/Terbinafin\n",
      "worm name: worm_10_Lifespan/Terbinafin\n",
      "worm name: worm_11_Lifespan/Terbinafin\n",
      "worm name: worm_0_Optogenetics/ATR+\n",
      "worm name: worm_1_Optogenetics/ATR+\n",
      "worm name: worm_2_Optogenetics/ATR+\n",
      "worm name: worm_4_Optogenetics/ATR+\n",
      "worm name: worm_5_Optogenetics/ATR+\n",
      "worm name: worm_6_Optogenetics/ATR+\n",
      "worm name: worm_7_Optogenetics/ATR+\n",
      "worm name: worm_8_Optogenetics/ATR+\n",
      "worm name: worm_9_Optogenetics/ATR+\n",
      "worm name: worm_11_Optogenetics/ATR+\n",
      "worm name: worm_12_Optogenetics/ATR+\n",
      "worm name: worm_13_Optogenetics/ATR+\n",
      "worm name: worm_14_Optogenetics/ATR+\n",
      "worm name: worm_15_Optogenetics/ATR+\n",
      "worm name: worm_16_Optogenetics/ATR+\n",
      "worm name: worm_17_Optogenetics/ATR+\n",
      "worm name: worm_18_Optogenetics/ATR+\n",
      "worm name: worm_19_Optogenetics/ATR+\n",
      "worm name: worm_20_Optogenetics/ATR+\n",
      "worm name: worm_22_Optogenetics/ATR+\n",
      "worm name: worm_0_Optogenetics/ATR-\n",
      "worm name: worm_1_Optogenetics/ATR-\n",
      "worm name: worm_2_Optogenetics/ATR-\n",
      "worm name: worm_3_Optogenetics/ATR-\n",
      "worm name: worm_4_Optogenetics/ATR-\n",
      "worm name: worm_5_Optogenetics/ATR-\n",
      "worm name: worm_6_Optogenetics/ATR-\n",
      "worm name: worm_7_Optogenetics/ATR-\n",
      "worm name: worm_8_Optogenetics/ATR-\n",
      "worm name: worm_9_Optogenetics/ATR-\n",
      "worm name: worm_10_Optogenetics/ATR-\n",
      "worm name: worm_11_Optogenetics/ATR-\n",
      "worm name: worm_12_Optogenetics/ATR-\n",
      "worm name: worm_13_Optogenetics/ATR-\n",
      "worm name: worm_14_Optogenetics/ATR-\n",
      "worm name: worm_15_Optogenetics/ATR-\n",
      "worm name: worm_16_Optogenetics/ATR-\n",
      "worm name: worm_17_Optogenetics/ATR-\n",
      "worm name: worm_18_Optogenetics/ATR-\n",
      "worm name: worm_19_Optogenetics/ATR-\n",
      "worm name: worm_21_Optogenetics/ATR-\n",
      "worm name: worm_22_Optogenetics/ATR-\n"
     ]
    }
   ],
   "source": [
    "from isdead import estimate_dying_time\n",
    "death_times = []\n",
    "for name, item in cut_lifespan_dict.items():\n",
    "    print(f'worm name: {name}')\n",
    "    arrdf = pd.DataFrame(item.T)\n",
    "    if arrdf.shape[1] == 5:\n",
    "        arrdf.columns = ['Frame','Speed','X','Y','Changed Pixels']\n",
    "    else:\n",
    "        arrdf.columns = ['Frame','Speed','X','Y','Changed Pixels','ATR']\n",
    "    estimate_dying_time(arrdf, movement_threshold=1.0)\n",
    "    dying_frame,absolute_frame,dying_time_hours,segment_number = estimate_dying_time(arrdf, movement_threshold=1.0)\n",
    "    if absolute_frame is not None:\n",
    "        death_times.append(absolute_frame)\n",
    "    else:\n",
    "        death_times.append(arrdf.shape[0])"
   ]
  },
  {
   "cell_type": "code",
   "execution_count": 10,
   "metadata": {},
   "outputs": [
    {
     "data": {
      "text/plain": [
       "Text(0.5, 0, 'time $t$')"
      ]
     },
     "execution_count": 10,
     "metadata": {},
     "output_type": "execute_result"
    },
    {
     "data": {
      "image/png": "[encoded data removed]",
      "text/plain": [
       "<Figure size 640x480 with 1 Axes>"
      ]
     },
     "metadata": {},
     "output_type": "display_data"
    }
   ],
   "source": [
    "larr = np.array(death_times)\n",
    "stat = np.full(larr.shape, True)\n",
    "time, survival_prob, conf_int = kaplan_meier_estimator(\n",
    "    stat, larr, conf_type=\"log-log\"\n",
    ")\n",
    "plt.step(time, survival_prob, where=\"post\")\n",
    "plt.fill_between(time, conf_int[0], conf_int[1], alpha=0.25, step=\"post\")\n",
    "plt.ylim(0, 1)\n",
    "plt.ylabel(r\"est. probability of survival $\\hat{S}(t)$\")\n",
    "plt.xlabel(\"time $t$\")"
   ]
  },
  {
   "cell_type": "code",
   "execution_count": 11,
   "metadata": {},
   "outputs": [
    {
     "data": {
      "text/plain": [
       "np.int64(41440)"
      ]
     },
     "execution_count": 11,
     "metadata": {},
     "output_type": "execute_result"
    }
   ],
   "source": [
    "np.min(death_times)"
   ]
  },
  {
   "cell_type": "code",
   "execution_count": 16,
   "metadata": {},
   "outputs": [],
   "source": [
    "X = np.zeros(shape=(len(death_times),51890, 5))"
   ]
  },
  {
   "cell_type": "code",
   "execution_count": 20,
   "metadata": {},
   "outputs": [
    {
     "data": {
      "text/plain": [
       "(51890, 5)"
      ]
     },
     "execution_count": 20,
     "metadata": {},
     "output_type": "execute_result"
    }
   ],
   "source": [
    "X[1].shape"
   ]
  },
  {
   "cell_type": "code",
   "execution_count": 17,
   "metadata": {},
   "outputs": [],
   "source": [
    "X = np.zeros(shape=(len(death_times),51890, 5))\n",
    "c = 0\n",
    "for name, arr in cut_lifespan_dict.items():\n",
    "    X[c] = arr.T[:51890,:5]"
   ]
  },
  {
   "cell_type": "code",
   "execution_count": 18,
   "metadata": {},
   "outputs": [
    {
     "data": {
      "text/plain": [
       "array([0., 0., 0., 0., 0., 0., 0., 0., 0., 0., 0., 0., 1., 1., 1., 1., 1.,\n",
       "       1., 1., 1., 1., 1., 1., 1., 2., 2., 2., 2., 2., 2., 2., 2., 2., 2.,\n",
       "       2., 2., 2., 2., 2., 2., 2., 2., 2., 2., 3., 3., 3., 3., 3., 3., 3.,\n",
       "       3., 3., 3., 3., 3., 3., 3., 3., 3., 3., 3., 3., 3., 3., 3.])"
      ]
     },
     "execution_count": 18,
     "metadata": {},
     "output_type": "execute_result"
    }
   ],
   "source": [
    "lenghts[:,0]"
   ]
  },
  {
   "cell_type": "code",
   "execution_count": 20,
   "metadata": {},
   "outputs": [],
   "source": [
    "y_reg = np.array(death_times)\n",
    "y_class = np.array(lenghts[:,0].astype(int))"
   ]
  },
  {
   "cell_type": "code",
   "execution_count": 20,
   "metadata": {},
   "outputs": [],
   "source": [
    "from sklearn.model_selection import train_test_split\n",
    "X_train, X_test, y_train, y_test, y_train_class, y_test_class = train_test_split(X, y_reg, y_class, test_size=0.2, random_state=1)"
   ]
  },
  {
   "cell_type": "code",
   "execution_count": 22,
   "metadata": {},
   "outputs": [],
   "source": [
    "import tensorflow as tf\n",
    "from keras.models import Sequential\n",
    "from keras.layers import Dense, LSTM, Input"
   ]
  },
  {
   "cell_type": "code",
   "execution_count": 33,
   "metadata": {},
   "outputs": [],
   "source": [
    "from keras.layers import AveragePooling1D\n",
    "from keras.models import Model"
   ]
  },
  {
   "cell_type": "code",
   "execution_count": 30,
   "metadata": {},
   "outputs": [],
   "source": [
    "n_classes = len(np.unique(y_train_class))"
   ]
  },
  {
   "cell_type": "code",
   "execution_count": 12,
   "metadata": {},
   "outputs": [],
   "source": [
    "#from tensorflow.keras.utils import plot_model\n",
    "from sklearn.metrics import mean_absolute_error\n",
    "from sklearn.metrics import accuracy_score"
   ]
  },
  {
   "cell_type": "code",
   "execution_count": 37,
   "metadata": {},
   "outputs": [],
   "source": [
    "from keras.utils import to_categorical\n",
    "\n",
    "y_train_class_onehot = to_categorical(y_train_class, num_classes=n_classes)\n",
    "y_test_class_onehot = to_categorical(y_test_class, num_classes=n_classes)"
   ]
  },
  {
   "cell_type": "code",
   "execution_count": 38,
   "metadata": {},
   "outputs": [
    {
     "name": "stdout",
     "output_type": "stream",
     "text": [
      "You must install pydot (`pip install pydot`) and install graphviz (see instructions at https://graphviz.gitlab.io/download/) for plot_model to work.\n",
      "Epoch 1/15\n",
      "2/2 - 61s - loss: 10013440000.0000 - dense_7_loss: 10013440000.0000 - dense_8_loss: 1.3839 - 61s/epoch - 31s/step\n",
      "Epoch 2/15\n",
      "2/2 - 43s - loss: 10013437952.0000 - dense_7_loss: 10013437952.0000 - dense_8_loss: 1.3830 - 43s/epoch - 22s/step\n",
      "Epoch 3/15\n",
      "2/2 - 34s - loss: 10013430784.0000 - dense_7_loss: 10013430784.0000 - dense_8_loss: 1.3818 - 34s/epoch - 17s/step\n",
      "Epoch 4/15\n",
      "2/2 - 35s - loss: 10013418496.0000 - dense_7_loss: 10013418496.0000 - dense_8_loss: 1.3802 - 35s/epoch - 17s/step\n",
      "Epoch 5/15\n",
      "2/2 - 42s - loss: 10013388800.0000 - dense_7_loss: 10013388800.0000 - dense_8_loss: 1.3886 - 42s/epoch - 21s/step\n",
      "Epoch 6/15\n",
      "2/2 - 37s - loss: 10013295616.0000 - dense_7_loss: 10013295616.0000 - dense_8_loss: 1.4288 - 37s/epoch - 18s/step\n",
      "Epoch 7/15\n",
      "2/2 - 49s - loss: 10012817408.0000 - dense_7_loss: 10012817408.0000 - dense_8_loss: 2.1348 - 49s/epoch - 24s/step\n",
      "Epoch 8/15\n",
      "2/2 - 36s - loss: 10012618752.0000 - dense_7_loss: 10012618752.0000 - dense_8_loss: 2.6247 - 36s/epoch - 18s/step\n",
      "Epoch 9/15\n",
      "2/2 - 36s - loss: 10012446720.0000 - dense_7_loss: 10012446720.0000 - dense_8_loss: 2.9401 - 36s/epoch - 18s/step\n",
      "Epoch 10/15\n",
      "2/2 - 35s - loss: 10012284928.0000 - dense_7_loss: 10012284928.0000 - dense_8_loss: 3.2232 - 35s/epoch - 18s/step\n",
      "Epoch 11/15\n",
      "2/2 - 41s - loss: 10012115968.0000 - dense_7_loss: 10012115968.0000 - dense_8_loss: 3.5018 - 41s/epoch - 20s/step\n",
      "Epoch 12/15\n",
      "2/2 - 41s - loss: 10011936768.0000 - dense_7_loss: 10011936768.0000 - dense_8_loss: 3.8064 - 41s/epoch - 20s/step\n",
      "Epoch 13/15\n",
      "2/2 - 48s - loss: 10011749376.0000 - dense_7_loss: 10011749376.0000 - dense_8_loss: 4.0809 - 48s/epoch - 24s/step\n",
      "Epoch 14/15\n",
      "2/2 - 52s - loss: 10011574272.0000 - dense_7_loss: 10011574272.0000 - dense_8_loss: 4.3132 - 52s/epoch - 26s/step\n",
      "Epoch 15/15\n",
      "2/2 - 53s - loss: 10011398144.0000 - dense_7_loss: 10011398144.0000 - dense_8_loss: 4.5152 - 53s/epoch - 27s/step\n",
      "1/1 [==============================] - 4s 4s/step\n",
      "MAE: 119233.721\n"
     ]
    },
    {
     "ename": "ValueError",
     "evalue": "Classification metrics can't handle a mix of multilabel-indicator and binary targets",
     "output_type": "error",
     "traceback": [
      "\u001b[1;31m---------------------------------------------------------------------------\u001b[0m",
      "\u001b[1;31mValueError\u001b[0m                                Traceback (most recent call last)",
      "Input \u001b[1;32mIn [38]\u001b[0m, in \u001b[0;36m<cell line: 25>\u001b[1;34m()\u001b[0m\n\u001b[0;32m     23\u001b[0m \u001b[38;5;66;03m# evaluate accuracy for classification model\u001b[39;00m\n\u001b[0;32m     24\u001b[0m yhat2 \u001b[38;5;241m=\u001b[39m np\u001b[38;5;241m.\u001b[39margmax(yhat2, axis\u001b[38;5;241m=\u001b[39m\u001b[38;5;241m-\u001b[39m\u001b[38;5;241m1\u001b[39m)\u001b[38;5;241m.\u001b[39mastype(\u001b[38;5;124m'\u001b[39m\u001b[38;5;124mint\u001b[39m\u001b[38;5;124m'\u001b[39m)\n\u001b[1;32m---> 25\u001b[0m acc \u001b[38;5;241m=\u001b[39m \u001b[43maccuracy_score\u001b[49m\u001b[43m(\u001b[49m\u001b[43my_test_class_onehot\u001b[49m\u001b[43m,\u001b[49m\u001b[43m \u001b[49m\u001b[43myhat2\u001b[49m\u001b[43m)\u001b[49m\n\u001b[0;32m     26\u001b[0m \u001b[38;5;28mprint\u001b[39m(\u001b[38;5;124m'\u001b[39m\u001b[38;5;124mAccuracy: \u001b[39m\u001b[38;5;132;01m%.3f\u001b[39;00m\u001b[38;5;124m'\u001b[39m \u001b[38;5;241m%\u001b[39m acc)\n",
      "File \u001b[1;32mc:\\Users\\Utente\\anaconda3\\lib\\site-packages\\sklearn\\metrics\\_classification.py:211\u001b[0m, in \u001b[0;36maccuracy_score\u001b[1;34m(y_true, y_pred, normalize, sample_weight)\u001b[0m\n\u001b[0;32m    145\u001b[0m \u001b[38;5;124;03m\"\"\"Accuracy classification score.\u001b[39;00m\n\u001b[0;32m    146\u001b[0m \n\u001b[0;32m    147\u001b[0m \u001b[38;5;124;03mIn multilabel classification, this function computes subset accuracy:\u001b[39;00m\n\u001b[1;32m   (...)\u001b[0m\n\u001b[0;32m    207\u001b[0m \u001b[38;5;124;03m0.5\u001b[39;00m\n\u001b[0;32m    208\u001b[0m \u001b[38;5;124;03m\"\"\"\u001b[39;00m\n\u001b[0;32m    210\u001b[0m \u001b[38;5;66;03m# Compute accuracy for each possible representation\u001b[39;00m\n\u001b[1;32m--> 211\u001b[0m y_type, y_true, y_pred \u001b[38;5;241m=\u001b[39m \u001b[43m_check_targets\u001b[49m\u001b[43m(\u001b[49m\u001b[43my_true\u001b[49m\u001b[43m,\u001b[49m\u001b[43m \u001b[49m\u001b[43my_pred\u001b[49m\u001b[43m)\u001b[49m\n\u001b[0;32m    212\u001b[0m check_consistent_length(y_true, y_pred, sample_weight)\n\u001b[0;32m    213\u001b[0m \u001b[38;5;28;01mif\u001b[39;00m y_type\u001b[38;5;241m.\u001b[39mstartswith(\u001b[38;5;124m\"\u001b[39m\u001b[38;5;124mmultilabel\u001b[39m\u001b[38;5;124m\"\u001b[39m):\n",
      "File \u001b[1;32mc:\\Users\\Utente\\anaconda3\\lib\\site-packages\\sklearn\\metrics\\_classification.py:93\u001b[0m, in \u001b[0;36m_check_targets\u001b[1;34m(y_true, y_pred)\u001b[0m\n\u001b[0;32m     90\u001b[0m     y_type \u001b[38;5;241m=\u001b[39m {\u001b[38;5;124m\"\u001b[39m\u001b[38;5;124mmulticlass\u001b[39m\u001b[38;5;124m\"\u001b[39m}\n\u001b[0;32m     92\u001b[0m \u001b[38;5;28;01mif\u001b[39;00m \u001b[38;5;28mlen\u001b[39m(y_type) \u001b[38;5;241m>\u001b[39m \u001b[38;5;241m1\u001b[39m:\n\u001b[1;32m---> 93\u001b[0m     \u001b[38;5;28;01mraise\u001b[39;00m \u001b[38;5;167;01mValueError\u001b[39;00m(\n\u001b[0;32m     94\u001b[0m         \u001b[38;5;124m\"\u001b[39m\u001b[38;5;124mClassification metrics can\u001b[39m\u001b[38;5;124m'\u001b[39m\u001b[38;5;124mt handle a mix of \u001b[39m\u001b[38;5;132;01m{0}\u001b[39;00m\u001b[38;5;124m and \u001b[39m\u001b[38;5;132;01m{1}\u001b[39;00m\u001b[38;5;124m targets\u001b[39m\u001b[38;5;124m\"\u001b[39m\u001b[38;5;241m.\u001b[39mformat(\n\u001b[0;32m     95\u001b[0m             type_true, type_pred\n\u001b[0;32m     96\u001b[0m         )\n\u001b[0;32m     97\u001b[0m     )\n\u001b[0;32m     99\u001b[0m \u001b[38;5;66;03m# We can't have more than one value on y_type => The set is no more needed\u001b[39;00m\n\u001b[0;32m    100\u001b[0m y_type \u001b[38;5;241m=\u001b[39m y_type\u001b[38;5;241m.\u001b[39mpop()\n",
      "\u001b[1;31mValueError\u001b[0m: Classification metrics can't handle a mix of multilabel-indicator and binary targets"
     ]
    }
   ],
   "source": [
    "input_layer = Input(shape=(X_train.shape[1],X_train.shape[2]))\n",
    "downsampled = AveragePooling1D(pool_size=10)(input_layer)\n",
    "lstm_layer_1 = LSTM(128, return_sequences=True)(downsampled)\n",
    "lstm_layer_2 = LSTM(64)(lstm_layer_1)\n",
    "dense_layer = Dense(32, activation='relu')(lstm_layer_2)\n",
    "# regression output\n",
    "output_layer_r = Dense(1, activation='linear')(dense_layer)\n",
    "# classification output\n",
    "output_layer_c = Dense(n_classes, activation='softmax')(dense_layer)\n",
    "# define model\n",
    "model = Model(inputs=input_layer, outputs=[output_layer_r, output_layer_c])\n",
    "# compile the keras model\n",
    "model.compile(loss=['mse','categorical_crossentropy'], optimizer='adam')\n",
    "# plot graph of model\n",
    "plot_model(model, to_file='model.png', show_shapes=True)\n",
    "# fit the keras model on the dataset\n",
    "model.fit(X_train, [y_train,y_train_class_onehot], epochs=15, verbose=2)\n",
    "# make predictions on test set\n",
    "yhat1, yhat2 = model.predict(X_test)\n",
    "# calculate error for regression model\n",
    "error = mean_absolute_error(y_test, yhat1)\n",
    "print('MAE: %.3f' % error)\n",
    "# evaluate accuracy for classification model\n",
    "yhat2 = np.argmax(yhat2, axis=-1).astype('int')\n",
    "acc = accuracy_score(y_test_class_onehot, yhat2)\n",
    "print('Accuracy: %.3f' % acc)"
   ]
  },
  {
   "cell_type": "code",
   "execution_count": null,
   "metadata": {},
   "outputs": [
    {
     "data": {
      "text/plain": [
       "array([133733, 115628, 137693,  72265, 127893, 126192,  72892,  80393,\n",
       "       138227, 127140, 133444, 132503, 133557, 137872], dtype=int64)"
      ]
     },
     "execution_count": 41,
     "metadata": {},
     "output_type": "execute_result"
    }
   ],
   "source": []
  },
  {
   "cell_type": "code",
   "execution_count": 12,
   "metadata": {},
   "outputs": [],
   "source": [
    "samples = []\n",
    "for name, item in cut_lifespan_dict.items():\n",
    "    #print(name)\n",
    "    #print(item.T[0,1:5])\n",
    "    arr = item.T[:30000,1:5]\n",
    "    samples.append(arr)"
   ]
  },
  {
   "cell_type": "code",
   "execution_count": 13,
   "metadata": {},
   "outputs": [
    {
     "data": {
      "text/plain": [
       "(30000, 4)"
      ]
     },
     "execution_count": 13,
     "metadata": {},
     "output_type": "execute_result"
    }
   ],
   "source": [
    "samples[0].shape"
   ]
  },
  {
   "cell_type": "code",
   "execution_count": 14,
   "metadata": {},
   "outputs": [],
   "source": [
    "from preprocessing_features import preprocess_dataset"
   ]
  },
  {
   "cell_type": "code",
   "execution_count": 15,
   "metadata": {},
   "outputs": [
    {
     "name": "stdout",
     "output_type": "stream",
     "text": [
      "     x_mean      x_std  x_min        x_max      x_range  x_skewness  \\\n",
      "0  2.662863  16.315322    0.0  1361.971102  1361.971102   45.995594   \n",
      "1  2.089488  16.384629    0.0   936.604212   936.604212   35.454582   \n",
      "2  3.690146  16.134205    0.0   944.236862   944.236862   32.053172   \n",
      "3  2.995448  11.641452    0.0   517.485924   517.485924   29.984204   \n",
      "4  3.205699  12.111608    0.0   617.381782   617.381782   30.422474   \n",
      "\n",
      "    x_kurtosis      y_mean       y_std       y_min  ...  speed_mean  \\\n",
      "0  2836.800487  423.443077   99.206102   85.323529  ...  154.400907   \n",
      "1  1489.354602  412.854028  111.015625  122.416667  ...  256.780286   \n",
      "2  1294.722577  383.950032  115.391025   64.000000  ...  187.036313   \n",
      "3  1110.007838  460.149417   90.820882  233.506596  ...  157.203221   \n",
      "4  1140.433853  427.131658   76.308857  211.000000  ...  252.864492   \n",
      "\n",
      "    speed_std  speed_min   speed_max  speed_range  speed_skewness  \\\n",
      "0  124.283338   0.000000  749.000000   749.000000        2.341068   \n",
      "1  150.659212   0.000000  745.100000   745.100000        0.664290   \n",
      "2   98.606121   0.000000  537.074074   537.074074        0.241736   \n",
      "3   70.653338   0.000000  381.229462   381.229462       -0.173187   \n",
      "4   90.622659   3.990196  519.869688   515.879492        0.074013   \n",
      "\n",
      "   speed_kurtosis  speed_temporal_peak_count  \\\n",
      "0        9.129532                       5299   \n",
      "1       -0.358518                       4911   \n",
      "2       -0.367631                       5552   \n",
      "3       -0.748893                       5466   \n",
      "4       -0.732985                       5430   \n",
      "\n",
      "   speed_temporal_time_to_max_speed  speed_temporal_inactivity_duration  \n",
      "0                              8696                                   5  \n",
      "1                             20418                                   1  \n",
      "2                              2012                                  23  \n",
      "3                             11562                                   9  \n",
      "4                             13207                                   0  \n",
      "\n",
      "[5 rows x 25 columns]\n"
     ]
    }
   ],
   "source": [
    "# Process the dataset\n",
    "features = list(preprocess_dataset(samples))\n",
    "\n",
    "# Convert to DataFrame for easier analysis\n",
    "import pandas as pd\n",
    "features_df = pd.DataFrame(features[0:54])\n",
    "\n",
    "print(features_df.head())"
   ]
  },
  {
   "cell_type": "code",
   "execution_count": 17,
   "metadata": {},
   "outputs": [
    {
     "data": {
      "text/plain": [
       "78"
      ]
     },
     "execution_count": 17,
     "metadata": {},
     "output_type": "execute_result"
    }
   ],
   "source": [
    "len(features)"
   ]
  },
  {
   "cell_type": "code",
   "execution_count": 18,
   "metadata": {},
   "outputs": [],
   "source": [
    "X = pd.DataFrame(features[0:78])"
   ]
  },
  {
   "cell_type": "code",
   "execution_count": 21,
   "metadata": {},
   "outputs": [],
   "source": [
    "X_train, X_test, y_train, y_test = train_test_split(X, y_reg, test_size=0.3, random_state=42)"
   ]
  },
  {
   "cell_type": "code",
   "execution_count": 22,
   "metadata": {},
   "outputs": [],
   "source": [
    "from sklearn.preprocessing import StandardScaler\n",
    "stdsc = StandardScaler()\n",
    "stdsc.fit(X_train)\n",
    "X_train_std = stdsc.transform(X_train)\n",
    "X_test_std = stdsc.transform(X_test)"
   ]
  },
  {
   "cell_type": "code",
   "execution_count": 23,
   "metadata": {},
   "outputs": [
    {
     "name": "stdout",
     "output_type": "stream",
     "text": [
      "MAE: 15482.43966445256\n"
     ]
    }
   ],
   "source": [
    "from sklearn.linear_model import LinearRegression\n",
    "from sklearn.metrics import mean_absolute_error\n",
    "\n",
    "model = LinearRegression()\n",
    "model.fit(X_train, y_train)\n",
    "y_pred_lr = model.predict(X_test)\n",
    "print('MAE:', mean_absolute_error(y_test, y_pred_lr))"
   ]
  },
  {
   "cell_type": "code",
   "execution_count": 24,
   "metadata": {},
   "outputs": [],
   "source": [
    "y_train_pred = model.predict(X_train)"
   ]
  },
  {
   "cell_type": "code",
   "execution_count": 25,
   "metadata": {},
   "outputs": [
    {
     "data": {
      "text/plain": [
       "Text(0.5, 0, 'time $t$')"
      ]
     },
     "execution_count": 25,
     "metadata": {},
     "output_type": "execute_result"
    },
    {
     "data": {
      "image/png": "[encoded data removed]",
      "text/plain": [
       "<Figure size 640x480 with 1 Axes>"
      ]
     },
     "metadata": {},
     "output_type": "display_data"
    }
   ],
   "source": [
    "larr = np.array(y_pred_lr)\n",
    "stat = np.full(larr.shape, True)\n",
    "time, survival_prob, conf_int = kaplan_meier_estimator(\n",
    "    stat, larr, conf_type=\"log-log\"\n",
    ")\n",
    "\n",
    "larrtr = np.array(y_test)\n",
    "stattr = np.full(larrtr.shape, True)\n",
    "time2, survival_prob2, conf_int2 = kaplan_meier_estimator(\n",
    "    stattr, larrtr, conf_type=\"log-log\"\n",
    ")\n",
    "\n",
    "plt.step(time, survival_prob, where=\"post\", label='model prediction')\n",
    "plt.fill_between(time, conf_int[0], conf_int[1], alpha=0.25, step=\"post\")\n",
    "plt.step(time2, survival_prob2, where=\"post\", label='real times')\n",
    "plt.fill_between(time2, conf_int2[0], conf_int2[1], alpha=0.25, step=\"post\")\n",
    "plt.legend()\n",
    "plt.ylim(0, 1)\n",
    "plt.ylabel(r\"est. probability of survival $\\hat{S}(t)$\")\n",
    "plt.xlabel(\"time $t$\")"
   ]
  },
  {
   "cell_type": "code",
   "execution_count": 34,
   "metadata": {},
   "outputs": [],
   "source": [
    "from sklearn.linear_model import Ridge, Lasso\n",
    "\n",
    "model = Ridge(alpha=1.0)  # Use Lasso(alpha=1.0) for feature selection\n",
    "model.fit(X_train, y_train)\n",
    "y_pred_rr = model.predict(X_test)"
   ]
  },
  {
   "cell_type": "code",
   "execution_count": 35,
   "metadata": {},
   "outputs": [
    {
     "data": {
      "text/plain": [
       "Text(0.5, 0, 'time $t$')"
      ]
     },
     "execution_count": 35,
     "metadata": {},
     "output_type": "execute_result"
    },
    {
     "data": {
      "image/png": "[encoded data removed]",
      "text/plain": [
       "<Figure size 640x480 with 1 Axes>"
      ]
     },
     "metadata": {},
     "output_type": "display_data"
    }
   ],
   "source": [
    "larr = np.array(y_pred_rr)\n",
    "stat = np.full(larr.shape, True)\n",
    "time, survival_prob, conf_int = kaplan_meier_estimator(\n",
    "    stat, larr, conf_type=\"log-log\"\n",
    ")\n",
    "\n",
    "larrtr = np.array(y_test)\n",
    "stattr = np.full(larrtr.shape, True)\n",
    "time2, survival_prob2, conf_int2 = kaplan_meier_estimator(\n",
    "    stattr, larrtr, conf_type=\"log-log\"\n",
    ")\n",
    "\n",
    "plt.step(time, survival_prob, where=\"post\", label='model prediction')\n",
    "plt.fill_between(time, conf_int[0], conf_int[1], alpha=0.25, step=\"post\")\n",
    "plt.step(time2, survival_prob2, where=\"post\", label='real times')\n",
    "plt.fill_between(time2, conf_int2[0], conf_int2[1], alpha=0.25, step=\"post\")\n",
    "plt.legend()\n",
    "plt.ylim(0, 1)\n",
    "plt.ylabel(r\"est. probability of survival $\\hat{S}(t)$\")\n",
    "plt.xlabel(\"time $t$\")"
   ]
  },
  {
   "cell_type": "code",
   "execution_count": 26,
   "metadata": {},
   "outputs": [],
   "source": [
    "from sklearn.tree import DecisionTreeRegressor\n",
    "\n",
    "model = DecisionTreeRegressor(max_depth=5)\n",
    "model.fit(X_train_std, y_train)\n",
    "y_pred_dtr = model.predict(X_test_std)"
   ]
  },
  {
   "cell_type": "code",
   "execution_count": 27,
   "metadata": {},
   "outputs": [
    {
     "data": {
      "text/plain": [
       "24"
      ]
     },
     "execution_count": 27,
     "metadata": {},
     "output_type": "execute_result"
    }
   ],
   "source": [
    "len(y_pred_dtr)"
   ]
  },
  {
   "cell_type": "code",
   "execution_count": 28,
   "metadata": {},
   "outputs": [
    {
     "data": {
      "text/plain": [
       "Text(0.5, 0, 'time $t$')"
      ]
     },
     "execution_count": 28,
     "metadata": {},
     "output_type": "execute_result"
    },
    {
     "data": {
      "image/png": "[encoded data removed]",
      "text/plain": [
       "<Figure size 640x480 with 1 Axes>"
      ]
     },
     "metadata": {},
     "output_type": "display_data"
    }
   ],
   "source": [
    "larr = np.array(y_pred_dtr)\n",
    "stat = np.full(larr.shape, True)\n",
    "time, survival_prob, conf_int = kaplan_meier_estimator(\n",
    "    stat, larr, conf_type=\"log-log\"\n",
    ")\n",
    "\n",
    "larrtr = np.array(y_test)\n",
    "stattr = np.full(larrtr.shape, True)\n",
    "time2, survival_prob2, conf_int2 = kaplan_meier_estimator(\n",
    "    stattr, larrtr, conf_type=\"log-log\"\n",
    ")\n",
    "\n",
    "plt.step(time, survival_prob, where=\"post\", label='model prediction')\n",
    "plt.fill_between(time, conf_int[0], conf_int[1], alpha=0.25, step=\"post\")\n",
    "plt.step(time2, survival_prob2, where=\"post\", label='real times')\n",
    "plt.fill_between(time2, conf_int2[0], conf_int2[1], alpha=0.25, step=\"post\")\n",
    "plt.legend()\n",
    "plt.ylim(0, 1)\n",
    "plt.ylabel(r\"est. probability of survival $\\hat{S}(t)$\")\n",
    "plt.xlabel(\"time $t$\")"
   ]
  },
  {
   "cell_type": "code",
   "execution_count": 38,
   "metadata": {},
   "outputs": [],
   "source": [
    "from sklearn.ensemble import RandomForestRegressor\n",
    "\n",
    "model = RandomForestRegressor(n_estimators=100, random_state=42)\n",
    "model.fit(X_train, y_train)\n",
    "y_pred_rfr = model.predict(X_test)"
   ]
  },
  {
   "cell_type": "code",
   "execution_count": 39,
   "metadata": {},
   "outputs": [
    {
     "data": {
      "text/plain": [
       "Text(0.5, 0, 'time $t$')"
      ]
     },
     "execution_count": 39,
     "metadata": {},
     "output_type": "execute_result"
    },
    {
     "data": {
      "image/png": "[encoded data removed]",
      "text/plain": [
       "<Figure size 640x480 with 1 Axes>"
      ]
     },
     "metadata": {},
     "output_type": "display_data"
    }
   ],
   "source": [
    "larr = np.array(y_pred_rfr)\n",
    "stat = np.full(larr.shape, True)\n",
    "time, survival_prob, conf_int = kaplan_meier_estimator(\n",
    "    stat, larr, conf_type=\"log-log\"\n",
    ")\n",
    "\n",
    "larrtr = np.array(y_test)\n",
    "stattr = np.full(larrtr.shape, True)\n",
    "time2, survival_prob2, conf_int2 = kaplan_meier_estimator(\n",
    "    stattr, larrtr, conf_type=\"log-log\"\n",
    ")\n",
    "\n",
    "plt.step(time, survival_prob, where=\"post\", label='model prediction')\n",
    "plt.fill_between(time, conf_int[0], conf_int[1], alpha=0.25, step=\"post\")\n",
    "plt.step(time2, survival_prob2, where=\"post\", label='real times')\n",
    "plt.fill_between(time2, conf_int2[0], conf_int2[1], alpha=0.25, step=\"post\")\n",
    "plt.legend()\n",
    "plt.ylim(0, 1)\n",
    "plt.ylabel(r\"est. probability of survival $\\hat{S}(t)$\")\n",
    "plt.xlabel(\"time $t$\")"
   ]
  },
  {
   "cell_type": "code",
   "execution_count": 40,
   "metadata": {},
   "outputs": [],
   "source": [
    "from sklearn.svm import SVR\n",
    "\n",
    "model = SVR(kernel='rbf', C=1.0, epsilon=0.1)\n",
    "model.fit(X_train, y_train)\n",
    "y_pred_svm = model.predict(X_test)"
   ]
  },
  {
   "cell_type": "code",
   "execution_count": 41,
   "metadata": {},
   "outputs": [
    {
     "data": {
      "text/plain": [
       "Text(0.5, 0, 'time $t$')"
      ]
     },
     "execution_count": 41,
     "metadata": {},
     "output_type": "execute_result"
    },
    {
     "data": {
      "image/png": "[encoded data removed]",
      "text/plain": [
       "<Figure size 640x480 with 1 Axes>"
      ]
     },
     "metadata": {},
     "output_type": "display_data"
    }
   ],
   "source": [
    "larr = np.array(y_pred_svm)\n",
    "stat = np.full(larr.shape, True)\n",
    "time, survival_prob, conf_int = kaplan_meier_estimator(\n",
    "    stat, larr, conf_type=\"log-log\"\n",
    ")\n",
    "\n",
    "larrtr = np.array(y_test)\n",
    "stattr = np.full(larrtr.shape, True)\n",
    "time2, survival_prob2, conf_int2 = kaplan_meier_estimator(\n",
    "    stattr, larrtr, conf_type=\"log-log\"\n",
    ")\n",
    "\n",
    "plt.step(time, survival_prob, where=\"post\", label='model prediction')\n",
    "plt.fill_between(time, conf_int[0], conf_int[1], alpha=0.25, step=\"post\")\n",
    "plt.step(time2, survival_prob2, where=\"post\", label='real times')\n",
    "plt.fill_between(time2, conf_int2[0], conf_int2[1], alpha=0.25, step=\"post\")\n",
    "plt.legend()\n",
    "plt.ylim(0, 1)\n",
    "plt.ylabel(r\"est. probability of survival $\\hat{S}(t)$\")\n",
    "plt.xlabel(\"time $t$\")"
   ]
  },
  {
   "cell_type": "code",
   "execution_count": 42,
   "metadata": {},
   "outputs": [
    {
     "data": {
      "text/plain": [
       "Index(['x_mean', 'x_std', 'x_min', 'x_max', 'x_range', 'x_skewness',\n",
       "       'x_kurtosis', 'y_mean', 'y_std', 'y_min', 'y_max', 'y_range',\n",
       "       'y_skewness', 'y_kurtosis', 'direction_change_variance', 'speed_mean',\n",
       "       'speed_std', 'speed_min', 'speed_max', 'speed_range', 'speed_skewness',\n",
       "       'speed_kurtosis', 'speed_temporal_peak_count',\n",
       "       'speed_temporal_time_to_max_speed',\n",
       "       'speed_temporal_inactivity_duration'],\n",
       "      dtype='object')"
      ]
     },
     "execution_count": 42,
     "metadata": {},
     "output_type": "execute_result"
    }
   ],
   "source": [
    "features_df.columns"
   ]
  }
 ],
 "metadata": {
  "kernelspec": {
   "display_name": "ada_proj",
   "language": "python",
   "name": "python3"
  },
  "language_info": {
   "codemirror_mode": {
    "name": "ipython",
    "version": 3
   },
   "file_extension": ".py",
   "mimetype": "text/x-python",
   "name": "python",
   "nbconvert_exporter": "python",
   "pygments_lexer": "ipython3",
   "version": "3.13.1"
  }
 },
 "nbformat": 4,
 "nbformat_minor": 2
}
