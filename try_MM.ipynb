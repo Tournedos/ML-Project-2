{
 "cells": [
  {
   "cell_type": "code",
   "execution_count": 1,
   "metadata": {},
   "outputs": [],
   "source": [
    "import os\n",
    "import numpy as np\n",
    "from helpers import *\n",
    "from models import *   \n",
    "from nan_imputation import impute_nan\n",
    "import matplotlib.pyplot as plt\n",
    "from sksurv.nonparametric import kaplan_meier_estimator\n",
    "from load_data import load_lifespan, load_earlylifespan\n",
    "from nan_imputation import *"
   ]
  },
  {
   "cell_type": "code",
   "execution_count": 2,
   "metadata": {},
   "outputs": [],
   "source": [
    "repo_root = find_repo_root()\n",
    "data_path = os.path.join(repo_root, 'Data/Lifespan')\n",
    "fdict = load_lifespan(data_path)"
   ]
  },
  {
   "cell_type": "code",
   "execution_count": 3,
   "metadata": {},
   "outputs": [],
   "source": [
    "# Rows to check for missing values (2:4 in zero-based indexing)\n",
    "rows_to_check = slice(2, 4)  # Rows 2, 3, 4\n",
    "\n",
    "# Process all arrays in the dictionary\n",
    "cut_lifespan_dict = {name: cut_array(array, rows_to_check) for name, array in fdict.items()}"
   ]
  },
  {
   "cell_type": "code",
   "execution_count": 4,
   "metadata": {},
   "outputs": [
    {
     "name": "stdout",
     "output_type": "stream",
     "text": [
      "control\n",
      "control\n",
      "control\n",
      "control\n",
      "control\n",
      "control\n",
      "control\n",
      "control\n",
      "control\n",
      "control\n",
      "control\n",
      "control\n",
      "companyDrug\n",
      "companyDrug\n",
      "companyDrug\n",
      "companyDrug\n",
      "companyDrug\n",
      "companyDrug\n",
      "companyDrug\n",
      "companyDrug\n",
      "companyDrug\n",
      "companyDrug\n",
      "companyDrug\n",
      "companyDrug\n",
      "controlTerbinafin\n",
      "controlTerbinafin\n",
      "controlTerbinafin\n",
      "controlTerbinafin\n",
      "controlTerbinafin\n",
      "controlTerbinafin\n",
      "controlTerbinafin\n",
      "controlTerbinafin\n",
      "controlTerbinafin\n",
      "controlTerbinafin\n",
      "controlTerbinafin\n",
      "controlTerbinafin\n"
     ]
    }
   ],
   "source": [
    "for name, item in cut_lifespan_dict.items():\n",
    "    #print(name)\n",
    "    print(name.split(sep='_')[2])\n",
    "    #print(item[:,:10])"
   ]
  },
  {
   "cell_type": "code",
   "execution_count": 5,
   "metadata": {},
   "outputs": [],
   "source": [
    "lenghts = np.zeros(shape=(len(cut_lifespan_dict), 2))\n",
    "idx = 0 \n",
    "for name, item in cut_lifespan_dict.items():\n",
    "    currname = name.split(sep='_')[2]\n",
    "    if (currname == 'control') or (currname == 'controlTerbinafin'):\n",
    "        lenghts[idx,0] = 0\n",
    "        lenghts[idx, 1] = item.shape[1]\n",
    "    elif currname == 'companyDrug':\n",
    "        lenghts[idx,0] = 1\n",
    "        lenghts[idx, 1] = item.shape[1]\n",
    "    elif currname == 'Tebrafin':\n",
    "        lenghts[idx,0] = 2\n",
    "        lenghts[idx, 1] = item.shape[1]    \n",
    "    elif currname == 'ATR+':\n",
    "        lenghts[idx,0] = 3\n",
    "        lenghts[idx, 1] = item.shape[1]\n",
    "    elif currname == 'ATR-':\n",
    "        lenghts[idx,0] = 4\n",
    "        lenghts[idx, 1] = item.shape[1]\n",
    "    idx += 1\n",
    "idx = 0"
   ]
  },
  {
   "cell_type": "code",
   "execution_count": 6,
   "metadata": {},
   "outputs": [
    {
     "data": {
      "text/plain": [
       "Text(0.5, 0, 'time $t$')"
      ]
     },
     "execution_count": 6,
     "metadata": {},
     "output_type": "execute_result"
    },
    {
     "data": {
      "image/png": "[encoded data removed]",
      "text/plain": [
       "<Figure size 640x480 with 1 Axes>"
      ]
     },
     "metadata": {},
     "output_type": "display_data"
    }
   ],
   "source": [
    "larr = np.array(lenghts[:,1])\n",
    "stat = np.full(larr.shape, True)\n",
    "time, survival_prob, conf_int = kaplan_meier_estimator(\n",
    "    stat, larr, conf_type=\"log-log\"\n",
    ")\n",
    "plt.step(time, survival_prob, where=\"post\")\n",
    "plt.fill_between(time, conf_int[0], conf_int[1], alpha=0.25, step=\"post\")\n",
    "plt.ylim(0, 1)\n",
    "plt.ylabel(r\"est. probability of survival $\\hat{S}(t)$\")\n",
    "plt.xlabel(\"time $t$\")"
   ]
  },
  {
   "cell_type": "code",
   "execution_count": 7,
   "metadata": {},
   "outputs": [
    {
     "data": {
      "text/plain": [
       "array([72932., 70217., 74062., 71822., 64759., 74414., 53396., 72595.,\n",
       "       52217., 52787., 72216., 75159., 53811., 74307., 75395., 73516.,\n",
       "       75343., 72844., 73638., 74496., 74855., 74689., 75593., 64534.,\n",
       "       48238., 58947., 50937., 60114., 75349., 64658., 57462., 64033.,\n",
       "       72883., 42253., 71833., 63319.])"
      ]
     },
     "execution_count": 7,
     "metadata": {},
     "output_type": "execute_result"
    }
   ],
   "source": [
    "lenghts[:,1]"
   ]
  },
  {
   "cell_type": "code",
   "execution_count": 8,
   "metadata": {},
   "outputs": [
    {
     "name": "stdout",
     "output_type": "stream",
     "text": [
      "worm name: worm_1_control\n",
      "worm name: worm_2_control\n",
      "worm name: worm_3_control\n",
      "worm name: worm_4_control\n",
      "worm name: worm_5_control\n",
      "worm name: worm_6_control\n",
      "worm name: worm_7_control\n",
      "worm name: worm_8_control\n",
      "worm name: worm_9_control\n",
      "worm name: worm_10_control\n",
      "worm name: worm_11_control\n",
      "worm name: worm_12_control\n",
      "worm name: worm_13_companyDrug\n",
      "worm name: worm_14_companyDrug\n",
      "worm name: worm_15_companyDrug\n",
      "worm name: worm_16_companyDrug\n",
      "worm name: worm_17_companyDrug\n",
      "worm name: worm_18_companyDrug\n",
      "worm name: worm_19_companyDrug\n",
      "worm name: worm_20_companyDrug\n",
      "worm name: worm_21_companyDrug\n",
      "worm name: worm_22_companyDrug\n",
      "worm name: worm_23_companyDrug\n",
      "worm name: worm_24_companyDrug\n",
      "worm name: worm_25_controlTerbinafin\n",
      "worm name: worm_26_controlTerbinafin\n",
      "worm name: worm_27_controlTerbinafin\n",
      "worm name: worm_28_controlTerbinafin\n",
      "worm name: worm_29_controlTerbinafin\n",
      "worm name: worm_30_controlTerbinafin\n",
      "worm name: worm_31_controlTerbinafin\n",
      "worm name: worm_32_controlTerbinafin\n",
      "worm name: worm_33_controlTerbinafin\n",
      "worm name: worm_34_controlTerbinafin\n",
      "worm name: worm_35_controlTerbinafin\n",
      "worm name: worm_36_controlTerbinafin\n"
     ]
    }
   ],
   "source": [
    "from isdead import estimate_dying_time\n",
    "death_times = []\n",
    "for name, item in cut_lifespan_dict.items():\n",
    "    print(f'worm name: {name}')\n",
    "    arrdf = pd.DataFrame(item.T)\n",
    "    if arrdf.shape[1] == 5:\n",
    "        arrdf.columns = ['Frame','Speed','X','Y','Changed Pixels']\n",
    "    else:\n",
    "        arrdf.columns = ['Frame','Speed','X','Y','Changed Pixels','ATR']\n",
    "    estimate_dying_time(arrdf, movement_threshold=1.0)\n",
    "    dying_frame,absolute_frame,dying_time_hours,segment_number = estimate_dying_time(arrdf, movement_threshold=1.0)\n",
    "    if absolute_frame is not None:\n",
    "        death_times.append(absolute_frame)\n",
    "    else:\n",
    "        death_times.append(arrdf.shape[0])"
   ]
  },
  {
   "cell_type": "code",
   "execution_count": 9,
   "metadata": {},
   "outputs": [
    {
     "data": {
      "text/plain": [
       "Text(0.5, 0, 'time $t$')"
      ]
     },
     "execution_count": 9,
     "metadata": {},
     "output_type": "execute_result"
    },
    {
     "data": {
      "image/png": "[encoded data removed]",
      "text/plain": [
       "<Figure size 640x480 with 1 Axes>"
      ]
     },
     "metadata": {},
     "output_type": "display_data"
    }
   ],
   "source": [
    "larr = np.array(death_times)\n",
    "stat = np.full(larr.shape, True)\n",
    "time, survival_prob, conf_int = kaplan_meier_estimator(\n",
    "    stat, larr, conf_type=\"log-log\"\n",
    ")\n",
    "plt.step(time, survival_prob, where=\"post\")\n",
    "plt.fill_between(time, conf_int[0], conf_int[1], alpha=0.25, step=\"post\")\n",
    "plt.ylim(0, 1)\n",
    "plt.ylabel(r\"est. probability of survival $\\hat{S}(t)$\")\n",
    "plt.xlabel(\"time $t$\")"
   ]
  },
  {
   "cell_type": "code",
   "execution_count": 10,
   "metadata": {},
   "outputs": [
    {
     "data": {
      "text/plain": [
       "np.int64(42228)"
      ]
     },
     "execution_count": 10,
     "metadata": {},
     "output_type": "execute_result"
    }
   ],
   "source": [
    "np.min(death_times)"
   ]
  },
  {
   "cell_type": "code",
   "execution_count": 11,
   "metadata": {},
   "outputs": [],
   "source": [
    "y_reg = np.array(death_times)\n",
    "y_class = np.array(lenghts[:,0].astype(int))"
   ]
  },
  {
   "cell_type": "code",
   "execution_count": 66,
   "metadata": {},
   "outputs": [
    {
     "name": "stdout",
     "output_type": "stream",
     "text": [
      "ddddd\n",
      "ddddd\n",
      "ddddd\n",
      "ddddd\n",
      "ddddd\n",
      "ddddd\n",
      "ddddd\n",
      "ddddd\n",
      "ddddd\n",
      "ddddd\n",
      "ddddd\n",
      "ddddd\n",
      "ddddd\n",
      "ddddd\n",
      "ddddd\n",
      "ddddd\n",
      "ddddd\n",
      "ddddd\n",
      "ddddd\n",
      "ddddd\n",
      "ddddd\n",
      "ddddd\n",
      "ddddd\n",
      "ddddd\n",
      "ddddd\n",
      "ddddd\n"
     ]
    }
   ],
   "source": [
    "from preprocessing_features import create_aug\n",
    "samples = []\n",
    "new_death = []\n",
    "y_reg_fin = []\n",
    "seed1 = 2345\n",
    "seed2 = 58934823\n",
    "c = 0\n",
    "for name, item in cut_lifespan_dict.items():\n",
    "    #print(name)\n",
    "    #print(item.T[0,1:5])\n",
    "    arr = item.T[:,1:5]\n",
    "    f1 = arr[:,0]\n",
    "    f2 = arr[:,3]\n",
    "    x = arr[:,1]\n",
    "    y = arr[:,2]\n",
    "    #create rotated sample\n",
    "    rot90arr = np.vstack((f1,y,x,f2))\n",
    "    x_opp, y_opp = create_aug(x,y,seed=seed1)\n",
    "    x_opp2, y_opp2 = create_aug(x,y,seed=seed2)\n",
    "    seed1 += 100\n",
    "    seed2 -= seed1\n",
    "    augarr = np.vstack((f1,x_opp,y_opp,f2))\n",
    "    augarr2 = np.vstack((f1,x_opp2, y_opp2, f2))\n",
    "    samples.append(arr[:35000])\n",
    "    #samples.append(rot90arr.T[:35000])\n",
    "    samples.append(augarr.T[:35000])\n",
    "    #samples.append(augarr2.T[:35000])\n",
    "    frame = item.T[:,0:1]\n",
    "    #print(frame.shape)\n",
    "    #print(augarr.T.shape)\n",
    "    dfa = pd.DataFrame(np.hstack((frame, augarr.T)))\n",
    "    dfa.columns = ['Frame','Speed','X','Y','Changed Pixels']\n",
    "    y_reg_fin.append(y_reg[c])\n",
    "    #y_reg_fin.append(y_reg[c])\n",
    "    dying_frame,absolute_frame,dying_time_hours,segment_number = estimate_dying_time(dfa, movement_threshold=1.0)\n",
    "    if absolute_frame is not None:\n",
    "        new_death.append(absolute_frame)\n",
    "        y_reg_fin.append(absolute_frame)\n",
    "    else:\n",
    "        new_death.append(arr.shape[0])\n",
    "        y_reg_fin.append(arr.shape[0])\n",
    "        print('ddddd')\n",
    "\n",
    "\n",
    "    #second augmented\n",
    "    \"\"\"\n",
    "    dfa2 = pd.DataFrame(np.hstack((frame, augarr2.T)))\n",
    "    dfa2.columns = ['Frame','Speed','X','Y','Changed Pixels']\n",
    "    dying_frame2,absolute_frame2,dying_time_hours2,segment_number2 = estimate_dying_time(dfa2, movement_threshold=1.0)\n",
    "    if absolute_frame2 is not None:\n",
    "        new_death.append(absolute_frame2)\n",
    "        y_reg_fin.append(absolute_frame2)\n",
    "    else:\n",
    "        new_death.append(arr.shape[0])\n",
    "        y_reg_fin.append(arr.shape[0])\n",
    "        print('qqqqqq')\n",
    "    \"\"\"\n",
    "    c += 1"
   ]
  },
  {
   "cell_type": "code",
   "execution_count": 67,
   "metadata": {},
   "outputs": [
    {
     "data": {
      "text/plain": [
       "array([72671, 69955, 72265, 70316, 64528, 72908, 52450, 71938, 52134,\n",
       "       51890, 70419, 72462, 53742, 72969, 75350, 73411, 70320, 72055,\n",
       "       73053, 74439, 74750, 72892, 72996, 64141, 48229, 58901, 50531,\n",
       "       59529, 75315, 64624, 57452, 63771, 72813, 42228, 71651, 63281])"
      ]
     },
     "execution_count": 67,
     "metadata": {},
     "output_type": "execute_result"
    }
   ],
   "source": [
    "y_reg"
   ]
  },
  {
   "cell_type": "code",
   "execution_count": 68,
   "metadata": {},
   "outputs": [
    {
     "data": {
      "text/plain": [
       "array([72671, 72932, 69955, 70217, 72265, 74062, 70316, 71822, 64528,\n",
       "       64759, 72908, 74414, 52450, 53396, 71938, 72595, 52134, 52217,\n",
       "       51890, 52787, 70419, 72216, 72462, 75159, 53742, 53811, 72969,\n",
       "       74307, 75350, 75395, 73411, 73516, 70320, 75343, 72055, 72844,\n",
       "       73053, 73638, 74439, 74495, 74750, 74855, 72892, 74689, 72996,\n",
       "       75593, 64141, 64534, 48229, 48238, 58901, 58947, 50531, 50937,\n",
       "       59529, 60114, 75315, 75348, 64624, 64658, 57452, 57462, 63771,\n",
       "       64033, 72813, 72883, 42228, 42253, 71651, 71833, 63281, 63319])"
      ]
     },
     "execution_count": 68,
     "metadata": {},
     "output_type": "execute_result"
    }
   ],
   "source": [
    "y_reg_fin = np.array(y_reg_fin)\n",
    "y_reg_fin"
   ]
  },
  {
   "cell_type": "code",
   "execution_count": 59,
   "metadata": {},
   "outputs": [
    {
     "data": {
      "text/plain": [
       "(35000, 4)"
      ]
     },
     "execution_count": 59,
     "metadata": {},
     "output_type": "execute_result"
    }
   ],
   "source": [
    "samples[1].shape"
   ]
  },
  {
   "cell_type": "code",
   "execution_count": 42,
   "metadata": {},
   "outputs": [],
   "source": [
    "from preprocessing_features import preprocess_dataset"
   ]
  },
  {
   "cell_type": "code",
   "execution_count": 69,
   "metadata": {},
   "outputs": [
    {
     "name": "stdout",
     "output_type": "stream",
     "text": [
      "     x_mean      x_std  x_min        x_max      x_range  x_skewness  \\\n",
      "0  2.435799  15.403010    0.0  1361.971102  1361.971102   47.621159   \n",
      "1  2.435799  15.403010    0.0  1361.971102  1361.971102   47.621159   \n",
      "2  1.984789  15.856520    0.0   936.604212   936.604212   36.753156   \n",
      "3  1.984789  15.856520    0.0   936.604212   936.604212   36.753156   \n",
      "4  3.443864  16.391981    0.0  1030.313237  1030.313237   34.921551   \n",
      "\n",
      "    x_kurtosis      y_mean       y_std       y_min  ...  speed_mean  \\\n",
      "0  3080.540534  403.009036  106.352603   85.323529  ...    2.650058   \n",
      "1  3080.540534  403.019369  106.357733   85.880307  ...    3.266295   \n",
      "2  1596.499472  421.470212  111.550450  122.416667  ...    2.617741   \n",
      "3  1596.499472  421.477779  111.550361  120.134216  ...    3.304130   \n",
      "4  1540.877873  379.098657  119.809226   64.000000  ...    3.488947   \n",
      "\n",
      "   speed_std  speed_min    speed_max  speed_range  speed_skewness  \\\n",
      "0  22.203917        0.0  1389.497097  1389.497097       33.711169   \n",
      "1  22.164069        0.0  1389.272348  1389.272348       33.802495   \n",
      "2  22.960151        0.0   964.652750   964.652750       26.125766   \n",
      "3  22.914970        0.0   965.025471   965.025471       26.194631   \n",
      "4  23.450349        0.0  1147.464722  1147.464722       26.829062   \n",
      "\n",
      "   speed_kurtosis  speed_temporal_peak_count  \\\n",
      "0     1500.988212                      10659   \n",
      "1     1507.781724                      10874   \n",
      "2      797.281535                      10010   \n",
      "3      800.698646                      10588   \n",
      "4      870.956824                      10686   \n",
      "\n",
      "   speed_temporal_time_to_max_speed  speed_temporal_inactivity_duration  \n",
      "0                              4747                                 806  \n",
      "1                              4747                                   6  \n",
      "2                              8338                                3096  \n",
      "3                              8338                                  15  \n",
      "4                             33566                                  34  \n",
      "\n",
      "[5 rows x 34 columns]\n"
     ]
    }
   ],
   "source": [
    "# Process the dataset\n",
    "features = list(preprocess_dataset(samples))\n",
    "\n",
    "# Convert to DataFrame for easier analysis\n",
    "import pandas as pd\n",
    "features_df = pd.DataFrame(features[0:54])\n",
    "\n",
    "print(features_df.head())"
   ]
  },
  {
   "cell_type": "code",
   "execution_count": null,
   "metadata": {},
   "outputs": [],
   "source": [
    "from isdead import estimate_dying_time\n",
    "death_times = []\n",
    "for lifespan in cut_lifespan_dict.items():\n",
    "    print(f'worm name: {name}')\n",
    "    arrdf = pd.DataFrame(item.T)\n",
    "    if arrdf.shape[1] == 5:\n",
    "        arrdf.columns = ['Frame','Speed','X','Y','Changed Pixels']\n",
    "    else:\n",
    "        arrdf.columns = ['Frame','Speed','X','Y','Changed Pixels','ATR']\n",
    "    estimate_dying_time(arrdf, movement_threshold=1.0)\n",
    "    dying_frame,absolute_frame,dying_time_hours,segment_number = estimate_dying_time(arrdf, movement_threshold=1.0)\n",
    "    if absolute_frame is not None:\n",
    "        death_times.append(absolute_frame)\n",
    "    else:\n",
    "        death_times.append(arrdf.shape[0])"
   ]
  },
  {
   "cell_type": "code",
   "execution_count": 70,
   "metadata": {},
   "outputs": [
    {
     "data": {
      "text/plain": [
       "72"
      ]
     },
     "execution_count": 70,
     "metadata": {},
     "output_type": "execute_result"
    }
   ],
   "source": [
    "len(features)"
   ]
  },
  {
   "cell_type": "code",
   "execution_count": 71,
   "metadata": {},
   "outputs": [],
   "source": [
    "X = pd.DataFrame(features[0:73])"
   ]
  },
  {
   "cell_type": "code",
   "execution_count": 33,
   "metadata": {},
   "outputs": [],
   "source": [
    "y_reg_f =  np.array([val for val in y_reg for _ in (0, 1)]) #duplicate each element"
   ]
  },
  {
   "cell_type": "code",
   "execution_count": 72,
   "metadata": {},
   "outputs": [],
   "source": [
    "X_train, X_test, y_train, y_test = train_test_split(X, y_reg_fin, test_size=0.2, random_state=42)"
   ]
  },
  {
   "cell_type": "code",
   "execution_count": 73,
   "metadata": {},
   "outputs": [],
   "source": [
    "from sklearn.preprocessing import StandardScaler\n",
    "stdsc = StandardScaler()\n",
    "stdsc.fit(X_train)\n",
    "X_train_std = stdsc.transform(X_train)\n",
    "X_test_std = stdsc.transform(X_test)"
   ]
  },
  {
   "cell_type": "code",
   "execution_count": 74,
   "metadata": {},
   "outputs": [
    {
     "name": "stdout",
     "output_type": "stream",
     "text": [
      "MAE: 2216.395344701166\n"
     ]
    }
   ],
   "source": [
    "from sklearn.linear_model import LinearRegression\n",
    "from sklearn.metrics import mean_absolute_error\n",
    "\n",
    "model = LinearRegression()\n",
    "model.fit(X_train, y_train)\n",
    "y_pred_lr = model.predict(X_test)\n",
    "print('MAE:', mean_absolute_error(y_test, y_pred_lr))"
   ]
  },
  {
   "cell_type": "code",
   "execution_count": 75,
   "metadata": {},
   "outputs": [],
   "source": [
    "y_train_pred = model.predict(X_train)"
   ]
  },
  {
   "cell_type": "code",
   "execution_count": 76,
   "metadata": {},
   "outputs": [
    {
     "data": {
      "text/plain": [
       "Text(0.5, 0, 'time $t$')"
      ]
     },
     "execution_count": 76,
     "metadata": {},
     "output_type": "execute_result"
    },
    {
     "data": {
      "image/png": "[encoded data removed]",
      "text/plain": [
       "<Figure size 640x480 with 1 Axes>"
      ]
     },
     "metadata": {},
     "output_type": "display_data"
    }
   ],
   "source": [
    "larr = np.array(y_pred_lr)\n",
    "stat = np.full(larr.shape, True)\n",
    "time, survival_prob, conf_int = kaplan_meier_estimator(\n",
    "    stat, larr, conf_type=\"log-log\"\n",
    ")\n",
    "\n",
    "larrtr = np.array(y_test)\n",
    "stattr = np.full(larrtr.shape, True)\n",
    "time2, survival_prob2, conf_int2 = kaplan_meier_estimator(\n",
    "    stattr, larrtr, conf_type=\"log-log\"\n",
    ")\n",
    "\n",
    "plt.step(time, survival_prob, where=\"post\", label='model prediction')\n",
    "plt.fill_between(time, conf_int[0], conf_int[1], alpha=0.25, step=\"post\")\n",
    "plt.step(time2, survival_prob2, where=\"post\", label='real times')\n",
    "plt.fill_between(time2, conf_int2[0], conf_int2[1], alpha=0.25, step=\"post\")\n",
    "plt.legend()\n",
    "plt.ylim(0, 1)\n",
    "plt.ylabel(r\"est. probability of survival $\\hat{S}(t)$\")\n",
    "plt.xlabel(\"time $t$\")"
   ]
  },
  {
   "cell_type": "code",
   "execution_count": 50,
   "metadata": {},
   "outputs": [],
   "source": [
    "from sklearn.linear_model import Ridge, Lasso\n",
    "\n",
    "model = Ridge(alpha=1.0)  # Use Lasso(alpha=1.0) for feature selection\n",
    "model.fit(X_train, y_train)\n",
    "y_pred_rr = model.predict(X_test)"
   ]
  },
  {
   "cell_type": "code",
   "execution_count": 40,
   "metadata": {},
   "outputs": [
    {
     "data": {
      "text/plain": [
       "Text(0.5, 0, 'time $t$')"
      ]
     },
     "execution_count": 40,
     "metadata": {},
     "output_type": "execute_result"
    },
    {
     "data": {
      "image/png": "[encoded data removed]",
      "text/plain": [
       "<Figure size 640x480 with 1 Axes>"
      ]
     },
     "metadata": {},
     "output_type": "display_data"
    }
   ],
   "source": [
    "larr = np.array(y_pred_rr)\n",
    "stat = np.full(larr.shape, True)\n",
    "time, survival_prob, conf_int = kaplan_meier_estimator(\n",
    "    stat, larr, conf_type=\"log-log\"\n",
    ")\n",
    "\n",
    "larrtr = np.array(y_test)\n",
    "stattr = np.full(larrtr.shape, True)\n",
    "time2, survival_prob2, conf_int2 = kaplan_meier_estimator(\n",
    "    stattr, larrtr, conf_type=\"log-log\"\n",
    ")\n",
    "\n",
    "plt.step(time, survival_prob, where=\"post\", label='model prediction')\n",
    "plt.fill_between(time, conf_int[0], conf_int[1], alpha=0.25, step=\"post\")\n",
    "plt.step(time2, survival_prob2, where=\"post\", label='real times')\n",
    "plt.fill_between(time2, conf_int2[0], conf_int2[1], alpha=0.25, step=\"post\")\n",
    "plt.legend()\n",
    "plt.ylim(0, 1)\n",
    "plt.ylabel(r\"est. probability of survival $\\hat{S}(t)$\")\n",
    "plt.xlabel(\"time $t$\")"
   ]
  },
  {
   "cell_type": "code",
   "execution_count": 85,
   "metadata": {},
   "outputs": [
    {
     "name": "stdout",
     "output_type": "stream",
     "text": [
      "MAE: 3300.629447181172\n"
     ]
    }
   ],
   "source": [
    "from sklearn.tree import DecisionTreeRegressor\n",
    "\n",
    "model = DecisionTreeRegressor(max_depth=5)\n",
    "model.fit(X_train_std, y_train)\n",
    "y_pred_dtr = model.predict(X_test_std)\n",
    "print('MAE:', mean_absolute_error(y_test, y_pred_dtr))"
   ]
  },
  {
   "cell_type": "code",
   "execution_count": 78,
   "metadata": {},
   "outputs": [],
   "source": [
    "y_pred_dtr_tr = model.predict(X_train_std)"
   ]
  },
  {
   "cell_type": "code",
   "execution_count": 79,
   "metadata": {},
   "outputs": [
    {
     "data": {
      "text/plain": [
       "Text(0.5, 0, 'time $t$')"
      ]
     },
     "execution_count": 79,
     "metadata": {},
     "output_type": "execute_result"
    },
    {
     "data": {
      "image/png": "[encoded data removed]",
      "text/plain": [
       "<Figure size 640x480 with 1 Axes>"
      ]
     },
     "metadata": {},
     "output_type": "display_data"
    }
   ],
   "source": [
    "larr = np.array(y_pred_dtr)\n",
    "stat = np.full(larr.shape, True)\n",
    "time, survival_prob, conf_int = kaplan_meier_estimator(\n",
    "    stat, larr, conf_type=\"log-log\"\n",
    ")\n",
    "\n",
    "larrtr = np.array(y_test)\n",
    "stattr = np.full(larrtr.shape, True)\n",
    "time2, survival_prob2, conf_int2 = kaplan_meier_estimator(\n",
    "    stattr, larrtr, conf_type=\"log-log\"\n",
    ")\n",
    "\n",
    "plt.step(time, survival_prob, where=\"post\", label='model prediction')\n",
    "plt.fill_between(time, conf_int[0], conf_int[1], alpha=0.25, step=\"post\")\n",
    "plt.step(time2, survival_prob2, where=\"post\", label='real times')\n",
    "plt.fill_between(time2, conf_int2[0], conf_int2[1], alpha=0.25, step=\"post\")\n",
    "plt.legend()\n",
    "plt.ylim(0, 1)\n",
    "plt.ylabel(r\"est. probability of survival $\\hat{S}(t)$\")\n",
    "plt.xlabel(\"time $t$\")"
   ]
  },
  {
   "cell_type": "code",
   "execution_count": 80,
   "metadata": {},
   "outputs": [],
   "source": [
    "from sklearn.ensemble import RandomForestRegressor\n",
    "\n",
    "model = RandomForestRegressor(n_estimators=100, random_state=42)\n",
    "model.fit(X_train, y_train)\n",
    "y_pred_rfr = model.predict(X_test)"
   ]
  },
  {
   "cell_type": "code",
   "execution_count": 81,
   "metadata": {},
   "outputs": [
    {
     "data": {
      "text/plain": [
       "Text(0.5, 0, 'time $t$')"
      ]
     },
     "execution_count": 81,
     "metadata": {},
     "output_type": "execute_result"
    },
    {
     "data": {
      "image/png": "[encoded data removed]",
      "text/plain": [
       "<Figure size 640x480 with 1 Axes>"
      ]
     },
     "metadata": {},
     "output_type": "display_data"
    }
   ],
   "source": [
    "larr = np.array(y_pred_rfr)\n",
    "stat = np.full(larr.shape, True)\n",
    "time, survival_prob, conf_int = kaplan_meier_estimator(\n",
    "    stat, larr, conf_type=\"log-log\"\n",
    ")\n",
    "\n",
    "larrtr = np.array(y_test)\n",
    "stattr = np.full(larrtr.shape, True)\n",
    "time2, survival_prob2, conf_int2 = kaplan_meier_estimator(\n",
    "    stattr, larrtr, conf_type=\"log-log\"\n",
    ")\n",
    "\n",
    "plt.step(time, survival_prob, where=\"post\", label='model prediction')\n",
    "plt.fill_between(time, conf_int[0], conf_int[1], alpha=0.25, step=\"post\")\n",
    "plt.step(time2, survival_prob2, where=\"post\", label='real times')\n",
    "plt.fill_between(time2, conf_int2[0], conf_int2[1], alpha=0.25, step=\"post\")\n",
    "plt.legend()\n",
    "plt.ylim(0, 1)\n",
    "plt.ylabel(r\"est. probability of survival $\\hat{S}(t)$\")\n",
    "plt.xlabel(\"time $t$\")"
   ]
  },
  {
   "cell_type": "code",
   "execution_count": 82,
   "metadata": {},
   "outputs": [],
   "source": [
    "from sklearn.svm import SVR\n",
    "\n",
    "model = SVR(kernel='rbf', C=1.0, epsilon=0.1)\n",
    "model.fit(X_train, y_train)\n",
    "y_pred_svm = model.predict(X_test)"
   ]
  },
  {
   "cell_type": "code",
   "execution_count": 83,
   "metadata": {},
   "outputs": [
    {
     "data": {
      "text/plain": [
       "Text(0.5, 0, 'time $t$')"
      ]
     },
     "execution_count": 83,
     "metadata": {},
     "output_type": "execute_result"
    },
    {
     "data": {
      "image/png": "[encoded data removed]",
      "text/plain": [
       "<Figure size 640x480 with 1 Axes>"
      ]
     },
     "metadata": {},
     "output_type": "display_data"
    }
   ],
   "source": [
    "larr = np.array(y_pred_svm)\n",
    "stat = np.full(larr.shape, True)\n",
    "time, survival_prob, conf_int = kaplan_meier_estimator(\n",
    "    stat, larr, conf_type=\"log-log\"\n",
    ")\n",
    "\n",
    "larrtr = np.array(y_test)\n",
    "stattr = np.full(larrtr.shape, True)\n",
    "time2, survival_prob2, conf_int2 = kaplan_meier_estimator(\n",
    "    stattr, larrtr, conf_type=\"log-log\"\n",
    ")\n",
    "\n",
    "plt.step(time, survival_prob, where=\"post\", label='model prediction')\n",
    "plt.fill_between(time, conf_int[0], conf_int[1], alpha=0.25, step=\"post\")\n",
    "plt.step(time2, survival_prob2, where=\"post\", label='real times')\n",
    "plt.fill_between(time2, conf_int2[0], conf_int2[1], alpha=0.25, step=\"post\")\n",
    "plt.legend()\n",
    "plt.ylim(0, 1)\n",
    "plt.ylabel(r\"est. probability of survival $\\hat{S}(t)$\")\n",
    "plt.xlabel(\"time $t$\")"
   ]
  },
  {
   "cell_type": "code",
   "execution_count": 42,
   "metadata": {},
   "outputs": [
    {
     "data": {
      "text/plain": [
       "array([ 1.04718728,  1.71702775,  0.        ,  0.74188839,  0.74188839,\n",
       "       -0.27842463, -0.45090051, -0.97010699,  1.33168636, -0.79155373,\n",
       "       -1.15778596, -0.52505105,  0.01918012, -1.09703025, -0.95784396,\n",
       "       -0.87157902,  0.9800869 ,  0.9290007 ,  0.2944793 ,  1.82085028,\n",
       "        0.49363611,  0.25812309,  1.14074294, -0.14693828, -0.34627357,\n",
       "        0.58086787, -0.55375872, -0.9296748 , -0.67338976, -0.29643574,\n",
       "       -0.62641123,  0.36376905, -0.78598026, -0.07088812])"
      ]
     },
     "execution_count": 42,
     "metadata": {},
     "output_type": "execute_result"
    }
   ],
   "source": [
    "X_train_std[0]"
   ]
  },
  {
   "cell_type": "code",
   "execution_count": 43,
   "metadata": {},
   "outputs": [
    {
     "data": {
      "text/plain": [
       "array([-0.43228088, -1.02520547,  0.        , -1.30298337, -1.30298337,\n",
       "       -1.93810821, -1.3716083 ,  1.47556938, -0.95457385,  1.87828561,\n",
       "        1.07594758, -1.35633946,  0.66095922, -0.63469342, -0.52335905,\n",
       "        1.73797596,  1.16642908,  0.10257749, -0.62327295, -1.37516289,\n",
       "       -0.5321504 , -1.21685537, -1.76907178,  0.1173712 ,  2.20557843,\n",
       "        1.79829086,  2.55628217,  1.42460306, -0.40291098,  0.57247711,\n",
       "       -1.02958671,  1.17781614, -0.12241552, -0.66162246])"
      ]
     },
     "execution_count": 43,
     "metadata": {},
     "output_type": "execute_result"
    }
   ],
   "source": [
    "X_train_std[1]"
   ]
  },
  {
   "cell_type": "code",
   "execution_count": 99,
   "metadata": {},
   "outputs": [],
   "source": [
    "y_class_f =  np.array([val for val in y_class for _ in (0, 1)]) #duplicate each element\n",
    "#y_class_f = y_class_f.reshape(-1, 1)\n",
    "X_train_c, X_test_c, y_train_c, y_test_c = train_test_split(X, y_class_f, test_size=0.2, random_state=42)"
   ]
  },
  {
   "cell_type": "code",
   "execution_count": null,
   "metadata": {},
   "outputs": [
    {
     "data": {
      "text/plain": [
       "(72,)"
      ]
     },
     "execution_count": 94,
     "metadata": {},
     "output_type": "execute_result"
    }
   ],
   "source": []
  },
  {
   "cell_type": "code",
   "execution_count": 100,
   "metadata": {},
   "outputs": [],
   "source": [
    "stdsc.fit(X_train_c)\n",
    "X_train_std_c = stdsc.transform(X_train_c)\n",
    "X_test_std_c = stdsc.transform(X_test_c)"
   ]
  },
  {
   "cell_type": "code",
   "execution_count": 101,
   "metadata": {},
   "outputs": [],
   "source": [
    "from sklearn.linear_model import LogisticRegression\n",
    "\n",
    "lrclass = LogisticRegression()\n",
    "lrclass.fit(X_train_std_c, y_train_c)\n",
    "y_pred_c = lrclass.predict(X_test_std_c)"
   ]
  },
  {
   "cell_type": "code",
   "execution_count": 102,
   "metadata": {},
   "outputs": [
    {
     "name": "stdout",
     "output_type": "stream",
     "text": [
      "[[8 2]\n",
      " [3 2]]\n",
      "f-1 score: 0.4444444444444444\n"
     ]
    }
   ],
   "source": [
    "from sklearn.metrics import f1_score, confusion_matrix\n",
    "f1lr = f1_score(y_test_c, y_pred_c)\n",
    "print(confusion_matrix(y_test_c, y_pred_c))\n",
    "print(f'f-1 score: {f1lr}')"
   ]
  }
 ],
 "metadata": {
  "kernelspec": {
   "display_name": "ada_proj",
   "language": "python",
   "name": "python3"
  },
  "language_info": {
   "codemirror_mode": {
    "name": "ipython",
    "version": 3
   },
   "file_extension": ".py",
   "mimetype": "text/x-python",
   "name": "python",
   "nbconvert_exporter": "python",
   "pygments_lexer": "ipython3",
   "version": "3.13.1"
  }
 },
 "nbformat": 4,
 "nbformat_minor": 2
}
